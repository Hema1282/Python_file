{
 "cells": [
  {
   "cell_type": "markdown",
   "id": "7a2cfd1e-b6e7-427b-bb2a-835c158664ac",
   "metadata": {},
   "source": [
    "## Variables\n",
    "- variables are used to store the values\n",
    "\n",
    "- and values can be changed"
   ]
  },
  {
   "cell_type": "code",
   "execution_count": 2,
   "id": "a71c991a-39ac-43fc-9ecd-1f1c621bee40",
   "metadata": {},
   "outputs": [
    {
     "data": {
      "text/plain": [
       "100"
      ]
     },
     "execution_count": 2,
     "metadata": {},
     "output_type": "execute_result"
    }
   ],
   "source": [
    "number=100 # value 100 stored in a variable name called \"number\"\n",
    "number     # shift+enter"
   ]
  },
  {
   "cell_type": "code",
   "execution_count": 4,
   "id": "240c4682-4c08-4210-ac32-735b31684d7a",
   "metadata": {},
   "outputs": [
    {
     "data": {
      "text/plain": [
       "200"
      ]
     },
     "execution_count": 4,
     "metadata": {},
     "output_type": "execute_result"
    }
   ],
   "source": [
    "number=200 # valuse 200 stored in a variable name called \"number\"\n",
    "number     # shift+enter"
   ]
  },
  {
   "cell_type": "markdown",
   "id": "81da6366-68f7-46c7-80b0-61752a0d00ef",
   "metadata": {},
   "source": [
    "**Note**\n",
    "  \n",
    "- Python is step by step mprocess\n",
    "\n",
    "- Python will take last output as the latest value\n",
    "\n",
    "- In the above code we are using same variable: number\n",
    "\n",
    "- first time 100\n",
    "\n",
    "- second time 200\n",
    "\n",
    "- latest value 200"
   ]
  },
  {
   "cell_type": "code",
   "execution_count": 5,
   "id": "68bb8a42-0da3-4516-a82b-4c7524d9f6b2",
   "metadata": {},
   "outputs": [
    {
     "data": {
      "text/plain": [
       "200"
      ]
     },
     "execution_count": 5,
     "metadata": {},
     "output_type": "execute_result"
    }
   ],
   "source": [
    "NUMBER=200\n",
    "NUMBER"
   ]
  },
  {
   "cell_type": "code",
   "execution_count": 6,
   "id": "80ed6e58-eb7f-4592-b7be-85c1e1b05924",
   "metadata": {},
   "outputs": [
    {
     "data": {
      "text/plain": [
       "(200, 200)"
      ]
     },
     "execution_count": 6,
     "metadata": {},
     "output_type": "execute_result"
    }
   ],
   "source": [
    "number,NUMBER"
   ]
  },
  {
   "cell_type": "code",
   "execution_count": 8,
   "id": "ccb046a2-7110-40c6-b4d6-7dbfdc5d2d90",
   "metadata": {},
   "outputs": [
    {
     "data": {
      "text/plain": [
       "300"
      ]
     },
     "execution_count": 8,
     "metadata": {},
     "output_type": "execute_result"
    }
   ],
   "source": [
    "NUMber=300\n",
    "NUMber"
   ]
  },
  {
   "cell_type": "code",
   "execution_count": 10,
   "id": "62706f2f-c1b9-4b8b-ab32-32424a958203",
   "metadata": {},
   "outputs": [
    {
     "data": {
      "text/plain": [
       "400"
      ]
     },
     "execution_count": 10,
     "metadata": {},
     "output_type": "execute_result"
    }
   ],
   "source": [
    "number123=400\n",
    "number123"
   ]
  },
  {
   "cell_type": "code",
   "execution_count": 11,
   "id": "180b8bd3-d44e-487a-a433-a708ef390dce",
   "metadata": {},
   "outputs": [
    {
     "ename": "SyntaxError",
     "evalue": "invalid decimal literal (1181908654.py, line 1)",
     "output_type": "error",
     "traceback": [
      "\u001b[1;36m  Cell \u001b[1;32mIn[11], line 1\u001b[1;36m\u001b[0m\n\u001b[1;33m    123number=500\u001b[0m\n\u001b[1;37m      ^\u001b[0m\n\u001b[1;31mSyntaxError\u001b[0m\u001b[1;31m:\u001b[0m invalid decimal literal\n"
     ]
    }
   ],
   "source": [
    "123number=500\n",
    "123number\n"
   ]
  },
  {
   "cell_type": "markdown",
   "id": "8def467b-466e-4f59-89a1-bc7a808540aa",
   "metadata": {},
   "source": [
    "- We need to know about error first and then only we create crct solutions"
   ]
  },
  {
   "cell_type": "code",
   "execution_count": 12,
   "id": "2ce47854-7be5-4a31-8560-7c1fdc500ad6",
   "metadata": {},
   "outputs": [
    {
     "ename": "SyntaxError",
     "evalue": "cannot assign to expression here. Maybe you meant '==' instead of '='? (1823274275.py, line 1)",
     "output_type": "error",
     "traceback": [
      "\u001b[1;36m  Cell \u001b[1;32mIn[12], line 1\u001b[1;36m\u001b[0m\n\u001b[1;33m    numb%er=600\u001b[0m\n\u001b[1;37m    ^\u001b[0m\n\u001b[1;31mSyntaxError\u001b[0m\u001b[1;31m:\u001b[0m cannot assign to expression here. Maybe you meant '==' instead of '='?\n"
     ]
    }
   ],
   "source": [
    "numb%er=600\n",
    "numb%er"
   ]
  },
  {
   "cell_type": "code",
   "execution_count": 13,
   "id": "c3073058-424a-4c8c-a887-67cfc905c6e5",
   "metadata": {},
   "outputs": [
    {
     "ename": "SyntaxError",
     "evalue": "invalid syntax (2656576567.py, line 1)",
     "output_type": "error",
     "traceback": [
      "\u001b[1;36m  Cell \u001b[1;32mIn[13], line 1\u001b[1;36m\u001b[0m\n\u001b[1;33m    number one=800\u001b[0m\n\u001b[1;37m           ^\u001b[0m\n\u001b[1;31mSyntaxError\u001b[0m\u001b[1;31m:\u001b[0m invalid syntax\n"
     ]
    }
   ],
   "source": [
    "number one=800\n",
    "number one"
   ]
  },
  {
   "cell_type": "code",
   "execution_count": 14,
   "id": "14769eb1-e5ef-4165-a5a5-d4c4cfe0cbfd",
   "metadata": {},
   "outputs": [
    {
     "data": {
      "text/plain": [
       "900"
      ]
     },
     "execution_count": 14,
     "metadata": {},
     "output_type": "execute_result"
    }
   ],
   "source": [
    "number_one=900\n",
    "number_one"
   ]
  },
  {
   "cell_type": "code",
   "execution_count": 16,
   "id": "8bdedd77-c4a0-4a98-bd6f-2f2d5ab095f9",
   "metadata": {},
   "outputs": [
    {
     "data": {
      "text/plain": [
       "1000"
      ]
     },
     "execution_count": 16,
     "metadata": {},
     "output_type": "execute_result"
    }
   ],
   "source": [
    "_=1000 # underscore works as a variable\n",
    "_"
   ]
  },
  {
   "cell_type": "code",
   "execution_count": 17,
   "id": "0b00e419-100f-4130-9313-b77cc77d4a0e",
   "metadata": {},
   "outputs": [
    {
     "data": {
      "text/plain": [
       "(100, 200)"
      ]
     },
     "execution_count": 17,
     "metadata": {},
     "output_type": "execute_result"
    }
   ],
   "source": [
    "n1=100,200\n",
    "n1"
   ]
  },
  {
   "cell_type": "code",
   "execution_count": 18,
   "id": "a1bfa766-4e6a-432e-af80-92a1b390fc31",
   "metadata": {},
   "outputs": [
    {
     "ename": "TypeError",
     "evalue": "cannot unpack non-iterable int object",
     "output_type": "error",
     "traceback": [
      "\u001b[1;31m---------------------------------------------------------------------------\u001b[0m",
      "\u001b[1;31mTypeError\u001b[0m                                 Traceback (most recent call last)",
      "Cell \u001b[1;32mIn[18], line 1\u001b[0m\n\u001b[1;32m----> 1\u001b[0m n2,n3\u001b[38;5;241m=\u001b[39m\u001b[38;5;241m200\u001b[39m\n\u001b[0;32m      2\u001b[0m n2,n3\n",
      "\u001b[1;31mTypeError\u001b[0m: cannot unpack non-iterable int object"
     ]
    }
   ],
   "source": [
    "n2,n3=200 # one mango can't share by two persons\n",
    "n2,n3"
   ]
  },
  {
   "cell_type": "code",
   "execution_count": 21,
   "id": "bcc07cff-1a49-4f83-8395-8382161abf99",
   "metadata": {},
   "outputs": [
    {
     "name": "stdout",
     "output_type": "stream",
     "text": [
      "100\n"
     ]
    },
    {
     "data": {
      "text/plain": [
       "200"
      ]
     },
     "execution_count": 21,
     "metadata": {},
     "output_type": "execute_result"
    }
   ],
   "source": [
    "n4,n5=100,200\n",
    "n4\n",
    "n5 # if u write like this we get only latest varaible value "
   ]
  },
  {
   "cell_type": "code",
   "execution_count": 22,
   "id": "07a2a90e-a499-47f2-a87a-bff83215d0d7",
   "metadata": {},
   "outputs": [
    {
     "name": "stdout",
     "output_type": "stream",
     "text": [
      "100\n",
      "200\n"
     ]
    }
   ],
   "source": [
    "print(n4)\n",
    "print(n5) "
   ]
  },
  {
   "cell_type": "code",
   "execution_count": null,
   "id": "977d5359-8842-4c8d-93fe-ddf194251ae3",
   "metadata": {},
   "outputs": [],
   "source": [
    "number =200 #Works\n",
    "NUMBER=300  #Works\n",
    "NUMber=400  #Works\n",
    "number123=500  #Works\n",
    "123number=600    # Not works\n",
    "numb%er=700      # Not works\n",
    "number one =800  # Not works\n",
    "number_one=900  #Works\n",
    "_=1000          #Works\n",
    "n1=100,200      #Works\n",
    "n2,n3=300       # Not works\n",
    "n1,n2=100,200    #Works\n"
   ]
  },
  {
   "cell_type": "code",
   "execution_count": 24,
   "id": "a8d7272d-6e71-44c8-b692-1a4adbadaa34",
   "metadata": {},
   "outputs": [
    {
     "data": {
      "text/plain": [
       "(100, 200)"
      ]
     },
     "execution_count": 24,
     "metadata": {},
     "output_type": "execute_result"
    }
   ],
   "source": [
    "n1,_=100,200\n",
    "n1,_"
   ]
  },
  {
   "cell_type": "code",
   "execution_count": 23,
   "id": "da4245ca-ea9f-40dc-8c2e-6931c96b3a0b",
   "metadata": {},
   "outputs": [
    {
     "ename": "SyntaxError",
     "evalue": "invalid syntax (586179600.py, line 1)",
     "output_type": "error",
     "traceback": [
      "\u001b[1;36m  Cell \u001b[1;32mIn[23], line 1\u001b[1;36m\u001b[0m\n\u001b[1;33m    if=100\u001b[0m\n\u001b[1;37m      ^\u001b[0m\n\u001b[1;31mSyntaxError\u001b[0m\u001b[1;31m:\u001b[0m invalid syntax\n"
     ]
    }
   ],
   "source": [
    "if=100"
   ]
  },
  {
   "cell_type": "code",
   "execution_count": null,
   "id": "f0cbba7d-7645-4d08-a035-55cb046eb4ca",
   "metadata": {},
   "outputs": [],
   "source": [
    "if\n",
    "while\n",
    "else\n",
    "elif\n",
    "for\n",
    "True\n",
    "False"
   ]
  },
  {
   "cell_type": "markdown",
   "id": "c2f4c627-3985-44d1-9e2a-7d6b4ddcb613",
   "metadata": {},
   "source": [
    "- Python variables are case sensitive\n",
    "\n",
    "- Variables can be declared as capital letters\n",
    "\n",
    "- Variables can be declared as small letters\n",
    "\n",
    "- Variables can not start with Numbers(Perfix)\n",
    "\n",
    "- Numbers can be suffix of the variable\n",
    "\n",
    "- Variables can not have special characters except **underscore**\n",
    "\n",
    "- Variables does not have space between the names\n",
    "\n",
    "- Only underscore is possible\n",
    "\n",
    "- Keywords can not be used as variables\n",
    "\n",
    "- Two values can be assigned to a one variable\n",
    "\n",
    "- One value can not be assigned to two variables\n",
    "\n",
    "- All black color words are variables\n"
   ]
  },
  {
   "cell_type": "markdown",
   "id": "b1738231-9ea2-42de-abfe-3fde31d8ecb1",
   "metadata": {},
   "source": [
    "# How to convert python notebook to pdf\n",
    "\n",
    "- First download as html Page\n",
    "  \n",
    "     - Go to file\n",
    "       \n",
    "           - Go to save and export Notebook as\n",
    "       \n",
    "                - Click on HTML\n",
    "       \n",
    "- Then HTML page will download\n",
    "\n",
    "- Open HTML page apply CTRL+P\n",
    "\n",
    "- Check printer option should be save as pdf\n",
    "\n",
    "- Then in the down click on save option"
   ]
  },
  {
   "cell_type": "code",
   "execution_count": null,
   "id": "39f64300-34ed-45e1-86ce-9dc96e41c5f7",
   "metadata": {},
   "outputs": [],
   "source": []
  }
 ],
 "metadata": {
  "kernelspec": {
   "display_name": "Python 3 (ipykernel)",
   "language": "python",
   "name": "python3"
  },
  "language_info": {
   "codemirror_mode": {
    "name": "ipython",
    "version": 3
   },
   "file_extension": ".py",
   "mimetype": "text/x-python",
   "name": "python",
   "nbconvert_exporter": "python",
   "pygments_lexer": "ipython3",
   "version": "3.11.7"
  }
 },
 "nbformat": 4,
 "nbformat_minor": 5
}
