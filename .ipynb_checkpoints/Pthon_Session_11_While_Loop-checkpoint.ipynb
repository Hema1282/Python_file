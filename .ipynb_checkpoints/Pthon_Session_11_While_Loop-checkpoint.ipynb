{
 "cells": [
  {
   "cell_type": "code",
   "execution_count": 1,
   "id": "c46420c3-0cb4-4e78-8ca9-5e2e4cd3d01e",
   "metadata": {},
   "outputs": [
    {
     "name": "stdout",
     "output_type": "stream",
     "text": [
      "30\n"
     ]
    }
   ],
   "source": [
    "a=10\n",
    "b=20\n",
    "c=a+b\n",
    "print(c)"
   ]
  },
  {
   "cell_type": "markdown",
   "id": "0717959f-eab5-42aa-8c2a-7fc2364932ff",
   "metadata": {},
   "source": [
    "**Loops**\n",
    "\n",
    "- For loop\n",
    "\n",
    "- while loop: If u want to run an infinite iterations will choose while loop\n",
    "\n",
    "- Every loop we need three things\n",
    "\n",
    "    - Intial point( starting point)\n",
    "\n",
    "    - Increment or decrement\n",
    "\n",
    "    - Condtion( stop point)"
   ]
  },
  {
   "cell_type": "code",
   "execution_count": 1,
   "id": "cd0ace84-d91c-479c-8019-45256a2a42ee",
   "metadata": {},
   "outputs": [
    {
     "name": "stdout",
     "output_type": "stream",
     "text": [
      "1 3 5 7 9 "
     ]
    }
   ],
   "source": [
    "for i in range(1,10,2):\n",
    "    print(i,end=' ')"
   ]
  },
  {
   "cell_type": "code",
   "execution_count": null,
   "id": "e6f041a4-3cf7-42e3-8428-37846a028124",
   "metadata": {},
   "outputs": [],
   "source": []
  },
  {
   "cell_type": "markdown",
   "id": "2a19dffc-086d-45e1-97c2-57c3c0eb387f",
   "metadata": {},
   "source": [
    "- In for loop all three things mentioned in a single line: range(start,stop,step)\n",
    "\n",
    "- In while loop we will use these 3 things, in as three lines"
   ]
  },
  {
   "cell_type": "code",
   "execution_count": null,
   "id": "6c08e086-6316-473e-91fa-5dbe79e0bc2b",
   "metadata": {},
   "outputs": [],
   "source": [
    "<start point>\n",
    "while <how to stop>:\n",
    "      codelin1\n",
    "      codelin2\n",
    "      codelin3\n",
    "      <increment or decrement>"
   ]
  },
  {
   "cell_type": "code",
   "execution_count": null,
   "id": "3e79ee71-335e-4e6e-b0f2-6257a1328ff0",
   "metadata": {},
   "outputs": [],
   "source": [
    "if <condition>:\n",
    "    #######"
   ]
  },
  {
   "cell_type": "code",
   "execution_count": null,
   "id": "afff0419-1ca6-47e3-b78e-adc829cc784c",
   "metadata": {},
   "outputs": [],
   "source": [
    "for i in range(1,10,2):\n",
    "    print(i,end=' ')\n",
    "    print('Hello')"
   ]
  },
  {
   "cell_type": "code",
   "execution_count": null,
   "id": "ac8dffb3-bfef-462a-b144-276c76bfc781",
   "metadata": {},
   "outputs": [],
   "source": [
    "# start point   i=1\n",
    "# while <condition to stop>:\n",
    "      # print(i,end=' ')\n",
    "      # i=i+1\n",
    "      \n"
   ]
  },
  {
   "cell_type": "code",
   "execution_count": null,
   "id": "dc377e12-4b39-4fcd-a47f-3c84f2afc274",
   "metadata": {},
   "outputs": [],
   "source": [
    "- range(1,10) : start= 1 last = 10-1=9  step =1\n",
    "\n",
    "\n",
    "i=1\n",
    "while <condition>:\n",
    "    print(i)\n",
    "    i=i+1\n",
    "\n",
    "- correct entry correct exist "
   ]
  },
  {
   "cell_type": "code",
   "execution_count": 2,
   "id": "cd70a50c-b5bb-47a0-8d96-c3a3c9db20bb",
   "metadata": {},
   "outputs": [
    {
     "name": "stdout",
     "output_type": "stream",
     "text": [
      "1\n"
     ]
    }
   ],
   "source": [
    "i=1\n",
    "while i<2:\n",
    "    print(i)\n",
    "    i=i+1\n",
    "\n",
    "# step -1:  i=1 while 1<2 True Print(1) i=1+1 i=2\n",
    "# step-2:  i=2 while 2<2 False"
   ]
  },
  {
   "cell_type": "code",
   "execution_count": 3,
   "id": "b03c22b1-f59e-4cda-bd63-b67e03e7e84e",
   "metadata": {},
   "outputs": [
    {
     "name": "stdout",
     "output_type": "stream",
     "text": [
      "1\n",
      "2\n"
     ]
    }
   ],
   "source": [
    "i=1\n",
    "while i<3:\n",
    "    print(i)\n",
    "    i=i+1\n",
    "\n",
    "# step -1:  i=1 while 1<2 True Print(1) i=1+1 i=2\n",
    "# step-2:  i=2 while 2<2  True print(2) i=2+1 i=3\n",
    "# step -3: i=3 while 3<3  False    "
   ]
  },
  {
   "cell_type": "code",
   "execution_count": 5,
   "id": "c449cd4c-f153-4972-890c-4f608e95ffe1",
   "metadata": {},
   "outputs": [
    {
     "name": "stdout",
     "output_type": "stream",
     "text": [
      "1 2 3 4 5 6 7 8 9 "
     ]
    }
   ],
   "source": [
    "i=1\n",
    "while i<10:\n",
    "    print(i,end=' ')\n",
    "    i=i+1"
   ]
  },
  {
   "cell_type": "code",
   "execution_count": null,
   "id": "abcb73af-b0b4-4260-944a-fb5f11559984",
   "metadata": {},
   "outputs": [],
   "source": [
    "i=1\n",
    "while i==10:\n",
    "    print(i,end=' ')\n",
    "    i=i+1\n",
    "print(\"Ntg\")\n",
    "# ntg will print\n",
    "# it will not enter into the loop\n"
   ]
  },
  {
   "cell_type": "code",
   "execution_count": 13,
   "id": "239c71a2-6898-48b8-809a-3fa92a3d2f5e",
   "metadata": {},
   "outputs": [
    {
     "name": "stdout",
     "output_type": "stream",
     "text": [
      "1 0 -1 -2 -3 -4 -5 -6 -7 -8 -9 "
     ]
    }
   ],
   "source": [
    "i=1\n",
    "while i<10:\n",
    "    print(i,end=' ')\n",
    "    i=i-1\n",
    "    if i==-10:\n",
    "        break\n",
    "    \n",
    "\n",
    "# step -1:  i=1 while 1<10    True Print(1)    i=1-1     i=0\n",
    "# step-2:  i=0 while 0<10     True print(0)    i=0-1     i=-1\n",
    "# step -3: i=-1 while -1<10   True print(-1)  i=-1-1    i=-2\n",
    "# step-4 :  i=-2 while -2 <10 True print(-2)   i=-2-1   i=-3\n"
   ]
  },
  {
   "cell_type": "code",
   "execution_count": null,
   "id": "684d4b81-5b6f-48a7-8656-1a6e41ca9f37",
   "metadata": {},
   "outputs": [],
   "source": [
    "# whenever you have infinite loop ,use berak stmt \n"
   ]
  },
  {
   "cell_type": "code",
   "execution_count": 7,
   "id": "d97f2f3f-5188-4d0a-b0a3-f180c7c5b498",
   "metadata": {},
   "outputs": [
    {
     "name": "stdout",
     "output_type": "stream",
     "text": [
      "20 19 18 17 16 15 14 13 12 11 10 9 8 7 6 5 4 3 2 1 "
     ]
    }
   ],
   "source": [
    "i=20\n",
    "while i>=1:\n",
    "    print(i,end=' ')\n",
    "    i=i-1\n",
    "          "
   ]
  },
  {
   "cell_type": "code",
   "execution_count": 8,
   "id": "3f70fe6d-e2a2-46a6-8c0b-272334d06a25",
   "metadata": {},
   "outputs": [
    {
     "name": "stdout",
     "output_type": "stream",
     "text": [
      "-20 -19 -18 -17 -16 -15 -14 -13 -12 -11 -10 -9 -8 -7 -6 -5 -4 -3 -2 -1 0 "
     ]
    }
   ],
   "source": [
    "i=-20\n",
    "while i <=0:\n",
    "    print(i,end=' ')\n",
    "    i=i+1"
   ]
  },
  {
   "cell_type": "markdown",
   "id": "0db9743a-6733-412e-95db-91a6731d248d",
   "metadata": {},
   "source": [
    "**True**\n",
    "\n",
    "- If you don not know about valid condition tpo enter the inside the while loop\n",
    "\n",
    "- The use **True**\n",
    "\n",
    "- True will give entry pass irrespective of the condition\n",
    "\n",
    "- If you want to come out we need to apply the if condition and break  inside the while loop\n",
    "\n",
    "- If you donot apply break, then the  loop becomes infinite loop"
   ]
  },
  {
   "cell_type": "code",
   "execution_count": 9,
   "id": "4e9e17bf-62c0-4539-a455-801056860097",
   "metadata": {},
   "outputs": [
    {
     "name": "stdout",
     "output_type": "stream",
     "text": [
      "-20 -19 -18 -17 -16 -15 -14 -13 -12 -11 -10 -9 -8 -7 -6 -5 -4 -3 -2 -1 0 "
     ]
    }
   ],
   "source": [
    "i=-20\n",
    "while True:\n",
    "    print(i,end=' ')\n",
    "    i=i+1\n",
    "    if i==1:\n",
    "        break"
   ]
  },
  {
   "cell_type": "code",
   "execution_count": 11,
   "id": "31a5dda8-fdb7-4d95-ad8d-4698dfaebcd6",
   "metadata": {},
   "outputs": [
    {
     "name": "stdout",
     "output_type": "stream",
     "text": [
      "20 19 18 17 16 15 14 13 12 11 10 9 8 7 6 5 4 3 2 1 "
     ]
    }
   ],
   "source": [
    "i=20\n",
    "while True:\n",
    "    print(i,end=' ')\n",
    "    i=i-1\n",
    "    if i==0:\n",
    "        break\n",
    "          "
   ]
  },
  {
   "cell_type": "code",
   "execution_count": 16,
   "id": "0d629fc7-ca6a-44f5-b2f6-b561dbe3f93b",
   "metadata": {},
   "outputs": [
    {
     "name": "stdout",
     "output_type": "stream",
     "text": [
      "######second method##############\n",
      "1 2 3 4 5 6 7 8 9 10 "
     ]
    }
   ],
   "source": [
    "print('######second method##############')\n",
    "i=1\n",
    "while True:\n",
    "    print(i,end=' ')\n",
    "    i=i+1\n",
    "    if i==11:\n",
    "        break"
   ]
  },
  {
   "cell_type": "code",
   "execution_count": null,
   "id": "bd070b91-651b-4315-ada5-d077d9ce67a1",
   "metadata": {},
   "outputs": [],
   "source": [
    "i=1\n",
    "while True:\n",
    "    print(i,end=' ')\n",
    "    i=i+1\n",
    "    if i==11:\n",
    "        break"
   ]
  },
  {
   "cell_type": "code",
   "execution_count": null,
   "id": "1e60bd17-b2a5-4e5c-87d6-2c1fb195a375",
   "metadata": {},
   "outputs": [],
   "source": [
    "import random\n",
    "for i in range(3):\n",
    "    num=random.randint(1,100)\n",
    "    if num%2==0:\n",
    "        print(f\"{num} is even\")\n",
    "    else:\n",
    "        print(f\"{num} is odd\")"
   ]
  },
  {
   "cell_type": "code",
   "execution_count": null,
   "id": "a0618a1b-2dcc-4bcd-91d8-f5653bb764eb",
   "metadata": {},
   "outputs": [],
   "source": [
    "###All questions to while loop"
   ]
  },
  {
   "cell_type": "code",
   "execution_count": null,
   "id": "df482b60-bc71-456f-bab9-bfcf69ae17a3",
   "metadata": {},
   "outputs": [],
   "source": [
    "#1Q) For example \n",
    "# take a random number between  1 to 100\n",
    "# print it is a even number and odd number\n",
    "# you need to generate 3 random number "
   ]
  },
  {
   "cell_type": "code",
   "execution_count": 18,
   "id": "38323ff0-f9c9-4ba1-a976-233c3fbbdb37",
   "metadata": {},
   "outputs": [
    {
     "name": "stdout",
     "output_type": "stream",
     "text": [
      "73 is odd\n",
      "27 is odd\n",
      "20 is even\n"
     ]
    }
   ],
   "source": [
    "import random\n",
    "for i in range(3):\n",
    "    num=random.randint(1,100)\n",
    "    if num%2==0:\n",
    "        print(f\"{num} is even\")\n",
    "    else:\n",
    "        print(f\"{num} is odd\")"
   ]
  },
  {
   "cell_type": "code",
   "execution_count": 24,
   "id": "f3d5ecaa-45b3-4d2a-8607-3b815b5060e1",
   "metadata": {},
   "outputs": [
    {
     "name": "stdout",
     "output_type": "stream",
     "text": [
      "75 is odd\n",
      "33 is odd\n",
      "46 is even\n"
     ]
    }
   ],
   "source": [
    "import random\n",
    "i=0\n",
    "while i <3:\n",
    "    num=random.randint(1,100)\n",
    "    if num%2==0:\n",
    "        print(f\"{num} is even\")\n",
    "    else:\n",
    "        print(f\"{num} is odd\")\n",
    "    i=i+1"
   ]
  },
  {
   "cell_type": "code",
   "execution_count": null,
   "id": "1252ce8f-e615-4be2-a8ef-fd6370e8b226",
   "metadata": {},
   "outputs": [],
   "source": [
    "#2Q) wap ask the user print the number is even or odd between 10 to 20"
   ]
  },
  {
   "cell_type": "code",
   "execution_count": null,
   "id": "63fbcc11-bab2-41fc-a364-a96390d350ae",
   "metadata": {},
   "outputs": [],
   "source": [
    "######################## while loop prgrams done at assign ment 7\n"
   ]
  },
  {
   "cell_type": "code",
   "execution_count": null,
   "id": "314e5806-9d1c-4fb3-a3db-11219d3b019c",
   "metadata": {},
   "outputs": [],
   "source": []
  },
  {
   "cell_type": "code",
   "execution_count": null,
   "id": "e4f2b33d-3a67-46f1-a93d-4e46ab590ba6",
   "metadata": {},
   "outputs": [],
   "source": []
  },
  {
   "cell_type": "code",
   "execution_count": null,
   "id": "9489497b-936c-41a3-95aa-c101991be38f",
   "metadata": {},
   "outputs": [],
   "source": []
  }
 ],
 "metadata": {
  "kernelspec": {
   "display_name": "Python 3 (ipykernel)",
   "language": "python",
   "name": "python3"
  },
  "language_info": {
   "codemirror_mode": {
    "name": "ipython",
    "version": 3
   },
   "file_extension": ".py",
   "mimetype": "text/x-python",
   "name": "python",
   "nbconvert_exporter": "python",
   "pygments_lexer": "ipython3",
   "version": "3.11.7"
  }
 },
 "nbformat": 4,
 "nbformat_minor": 5
}
