{
 "cells": [
  {
   "cell_type": "code",
   "execution_count": 1,
   "id": "bc9c779e-151a-4463-b07b-2bbfe918facf",
   "metadata": {},
   "outputs": [
    {
     "name": "stdout",
     "output_type": "stream",
     "text": [
      "10\n"
     ]
    }
   ],
   "source": [
    "print(10)"
   ]
  },
  {
   "cell_type": "code",
   "execution_count": 2,
   "id": "77a34679-5b8b-4c24-b302-26febe8940a1",
   "metadata": {},
   "outputs": [
    {
     "name": "stdout",
     "output_type": "stream",
     "text": [
      "python\n"
     ]
    }
   ],
   "source": [
    "print('python')"
   ]
  },
  {
   "cell_type": "code",
   "execution_count": 3,
   "id": "fa17d4f2-7f6a-45c0-a0bc-24ac17d77a11",
   "metadata": {},
   "outputs": [
    {
     "name": "stdout",
     "output_type": "stream",
     "text": [
      "10 20 30\n"
     ]
    }
   ],
   "source": [
    "print(10,20,30)"
   ]
  },
  {
   "cell_type": "code",
   "execution_count": 4,
   "id": "55cedc28-e354-4ea2-b1f9-95389ab16139",
   "metadata": {},
   "outputs": [
    {
     "name": "stdout",
     "output_type": "stream",
     "text": [
      "20 10.5 Naresh It True\n"
     ]
    }
   ],
   "source": [
    "print(20,10.5,'Naresh It',True)\n"
   ]
  },
  {
   "cell_type": "code",
   "execution_count": 5,
   "id": "b0393f97-06ee-44f5-bdc9-16b7cecbf212",
   "metadata": {},
   "outputs": [
    {
     "name": "stdout",
     "output_type": "stream",
     "text": [
      "10 20\n"
     ]
    }
   ],
   "source": [
    "n1=10\n",
    "n2=20\n",
    "print(n1,n2)"
   ]
  },
  {
   "cell_type": "code",
   "execution_count": 6,
   "id": "1d88600e-5dbc-4eec-965c-ee8660cffeab",
   "metadata": {},
   "outputs": [
    {
     "name": "stdout",
     "output_type": "stream",
     "text": [
      "10\n",
      "20\n"
     ]
    },
    {
     "data": {
      "text/plain": [
       "(None, None)"
      ]
     },
     "execution_count": 6,
     "metadata": {},
     "output_type": "execute_result"
    }
   ],
   "source": [
    "print(10),print(20) #Don't write print in horizontal way\n",
    "\n",
    "#None means no value"
   ]
  },
  {
   "cell_type": "code",
   "execution_count": 9,
   "id": "3f20f97b-e531-4cc3-8c84-983c43c5b5f0",
   "metadata": {},
   "outputs": [
    {
     "name": "stdout",
     "output_type": "stream",
     "text": [
      "The addtion of 10 and 20 is 30 \n",
      "The addtion of a and b is c\n",
      "The addition of 10 and 20 is 30\n"
     ]
    }
   ],
   "source": [
    "a=10\n",
    "b=20\n",
    "c=a+b\n",
    "c\n",
    "#The addtion of 10 and 20 is 30 \n",
    "print(\"The addtion of 10 and 20 is 30 \")\n",
    "print(\"The addtion of a and b is c\") \n",
    "print(\"The addition of\",a,\"and\",b,\"is\",c)"
   ]
  },
  {
   "cell_type": "markdown",
   "id": "2094f18a-c876-4f87-bada-0c1e8f34ea2c",
   "metadata": {},
   "source": [
    "**Format method**"
   ]
  },
  {
   "cell_type": "code",
   "execution_count": 10,
   "id": "c798af94-9143-4590-9633-763da86513af",
   "metadata": {},
   "outputs": [
    {
     "name": "stdout",
     "output_type": "stream",
     "text": [
      "The addtion of 10 and 20 is 30\n"
     ]
    }
   ],
   "source": [
    "print(\"The addtion of {} and {} is {}\".format(a,b,c))"
   ]
  },
  {
   "cell_type": "code",
   "execution_count": 16,
   "id": "f6ce35f9-4370-41b7-84dd-919168eb17cf",
   "metadata": {},
   "outputs": [
    {
     "name": "stdout",
     "output_type": "stream",
     "text": [
      "My name is python, Im 10 years old Im from hyderabad\n"
     ]
    }
   ],
   "source": [
    "name='python'\n",
    "age=10\n",
    "city='hyderabad'\n",
    "print(\"My name is {}, Im {} years old Im from {}\".format(name,age,city))"
   ]
  },
  {
   "cell_type": "code",
   "execution_count": 17,
   "id": "33a0870e-1ad5-4a91-9f77-16e57eaf6a7e",
   "metadata": {},
   "outputs": [
    {
     "name": "stdout",
     "output_type": "stream",
     "text": [
      "Hema is working as a software developer in Google\n"
     ]
    }
   ],
   "source": [
    "emp_name='Hema'\n",
    "emp_role='software developer'\n",
    "company='Google'\n",
    "print('{} is working as a {} in {}'.format(emp_name,emp_role,company))"
   ]
  },
  {
   "cell_type": "markdown",
   "id": "2ded7987-ba52-416a-8e3e-9507f4edc398",
   "metadata": {},
   "source": [
    "**f sting method**"
   ]
  },
  {
   "cell_type": "code",
   "execution_count": 19,
   "id": "401152d1-1962-4b72-aa27-9421502057ad",
   "metadata": {},
   "outputs": [
    {
     "name": "stdout",
     "output_type": "stream",
     "text": [
      "The addtion of 10 and 20 is 30\n"
     ]
    }
   ],
   "source": [
    "a=10\n",
    "b=20\n",
    "c=a+b\n",
    "print(f\"The addtion of {a} and {b} is {c}\")"
   ]
  },
  {
   "cell_type": "code",
   "execution_count": 20,
   "id": "ba7d5b8d-efe9-4fc6-b0ea-7d260a91d80f",
   "metadata": {},
   "outputs": [
    {
     "name": "stdout",
     "output_type": "stream",
     "text": [
      "My name is python, Im 10 years old Im from hyderabad\n"
     ]
    }
   ],
   "source": [
    "name='python'\n",
    "age=10\n",
    "city='hyderabad'\n",
    "print(f\"My name is {name}, Im {age} years old Im from {city}\")"
   ]
  },
  {
   "cell_type": "code",
   "execution_count": 21,
   "id": "2af0f6d3-1e2c-45c2-aab7-a67ad80e1f63",
   "metadata": {},
   "outputs": [
    {
     "name": "stdout",
     "output_type": "stream",
     "text": [
      "Hema is working as a software developer in Google\n"
     ]
    }
   ],
   "source": [
    "emp_name='Hema'\n",
    "emp_role='software developer'\n",
    "company='Google'\n",
    "print(f'{emp_name} is working as a {emp_role} in {company}')"
   ]
  },
  {
   "cell_type": "code",
   "execution_count": null,
   "id": "c7b18b62-bdfa-4f4b-8d62-2e284cba3602",
   "metadata": {},
   "outputs": [],
   "source": []
  },
  {
   "cell_type": "code",
   "execution_count": null,
   "id": "aa29eb5c-4484-445d-ab56-9abcc5d3131d",
   "metadata": {},
   "outputs": [],
   "source": []
  },
  {
   "cell_type": "code",
   "execution_count": 3,
   "id": "6289b7c8-a212-471e-b995-398d76dddf34",
   "metadata": {},
   "outputs": [
    {
     "name": "stdout",
     "output_type": "stream",
     "text": [
      "The area of traingle with 10 and 5 is: 25.0\n"
     ]
    }
   ],
   "source": [
    "breath=10\n",
    "height=5\n",
    "area=(1/2)*breath*height\n",
    "print(f\"The area of traingle with {breath} and {height} is: {area}\")"
   ]
  },
  {
   "cell_type": "code",
   "execution_count": null,
   "id": "b7b7dbce-4cde-444e-b5ae-2cc0f392c3f0",
   "metadata": {},
   "outputs": [],
   "source": [
    "# Teka the bii_amt =1000\n",
    "# take the tip_percentage =10\n",
    "# Calculate tip_amt\n",
    "# Calculate the total bill\n",
    "# Print the total bill"
   ]
  },
  {
   "cell_type": "code",
   "execution_count": 10,
   "id": "97ea21f1-6d2a-48db-8258-b6ebddbb3357",
   "metadata": {},
   "outputs": [
    {
     "name": "stdout",
     "output_type": "stream",
     "text": [
      "The total bill is:1100.0\n"
     ]
    }
   ],
   "source": [
    "# My approach\n",
    "bill_amt=1000\n",
    "tip_per=10*bill_amt/100\n",
    "total_bill=bill_amt+tip_per\n",
    "print(f\"The total bill is:{total_bill}\")"
   ]
  },
  {
   "cell_type": "code",
   "execution_count": 11,
   "id": "ed1463b7-3f83-455d-9eca-d43979da2dfd",
   "metadata": {},
   "outputs": [
    {
     "name": "stdout",
     "output_type": "stream",
     "text": [
      "The total bill is :1100.0\n"
     ]
    }
   ],
   "source": [
    "# Sir Approach\n",
    "bill_amount=1000\n",
    "tip_percentage=10\n",
    "tip_amount=bill_amount*tip_percentage/100\n",
    "total_bill=bill_amount+tip_amount\n",
    "print(f\"The total bill is :{total_bill}\")"
   ]
  },
  {
   "cell_type": "code",
   "execution_count": 12,
   "id": "f2a9ba78-b6a9-4577-abe8-5135914dccf6",
   "metadata": {},
   "outputs": [
    {
     "name": "stdout",
     "output_type": "stream",
     "text": [
      "10 20\n"
     ]
    }
   ],
   "source": [
    "print(10,20)"
   ]
  },
  {
   "cell_type": "code",
   "execution_count": 13,
   "id": "48f25b7d-3971-44b2-8315-cbf35da7fbf2",
   "metadata": {},
   "outputs": [],
   "source": [
    "# 10 20 Output should be like this\n",
    "# for this we use end operator"
   ]
  },
  {
   "cell_type": "markdown",
   "id": "7a8127bc-3a5a-4bc6-b7c8-255367e926cf",
   "metadata": {},
   "source": [
    "$end$\n",
    "\n",
    "- Combining multiple print statements in a single line"
   ]
  },
  {
   "cell_type": "code",
   "execution_count": 18,
   "id": "df66a827-c5b2-4272-99c7-e4c5ac693630",
   "metadata": {},
   "outputs": [
    {
     "name": "stdout",
     "output_type": "stream",
     "text": [
      "10python  20\n"
     ]
    }
   ],
   "source": [
    "print(10,end=' ')\n",
    "print(20)"
   ]
  },
  {
   "cell_type": "code",
   "execution_count": 20,
   "id": "bc128508-f422-43ab-95ab-eb66e15b6431",
   "metadata": {},
   "outputs": [
    {
     "name": "stdout",
     "output_type": "stream",
     "text": [
      "10 ,20,30\n"
     ]
    }
   ],
   "source": [
    "print(10,end=' ,')\n",
    "print(20,end=',')\n",
    "print(30)"
   ]
  },
  {
   "cell_type": "code",
   "execution_count": 21,
   "id": "916a23ca-f10f-4b7a-a9ec-b6258587bc89",
   "metadata": {},
   "outputs": [
    {
     "name": "stdout",
     "output_type": "stream",
     "text": [
      "10 20 30\n"
     ]
    }
   ],
   "source": [
    "print(10,20,30)\n",
    "\n",
    "# 10 & 20 & 30"
   ]
  },
  {
   "cell_type": "markdown",
   "id": "fa76e4eb-04ae-48e5-9782-6dc4710228ce",
   "metadata": {},
   "source": [
    "$sep$\n",
    "\n",
    "- Seperate the multiple values in a single print statement"
   ]
  },
  {
   "cell_type": "code",
   "execution_count": 23,
   "id": "19777ea8-edd3-472e-a5bc-83888ab39f43",
   "metadata": {},
   "outputs": [
    {
     "name": "stdout",
     "output_type": "stream",
     "text": [
      "10 & 20 & 30\n"
     ]
    }
   ],
   "source": [
    "print(10,20,30,sep=' & ')"
   ]
  },
  {
   "cell_type": "code",
   "execution_count": 25,
   "id": "2d45de7e-b0cb-4f6b-80da-7928843453f2",
   "metadata": {},
   "outputs": [
    {
     "name": "stdout",
     "output_type": "stream",
     "text": [
      "10------>20------>30\n"
     ]
    }
   ],
   "source": [
    "print(10,20,30,sep='------>')"
   ]
  },
  {
   "cell_type": "code",
   "execution_count": 26,
   "id": "b5261511-6bec-41f6-bbb8-2c4e8ec6bc37",
   "metadata": {},
   "outputs": [
    {
     "name": "stdout",
     "output_type": "stream",
     "text": [
      "The addition of 5 and 3 is 8.\n"
     ]
    }
   ],
   "source": [
    "print(f\"The addition of {5} and {3} is {5+3}.\")"
   ]
  },
  {
   "cell_type": "code",
   "execution_count": 27,
   "id": "8be9f2be-3750-47a0-aac1-b7382f6a648b",
   "metadata": {},
   "outputs": [
    {
     "name": "stdout",
     "output_type": "stream",
     "text": [
      "The addition of 5 and 3 is 8 .\n"
     ]
    }
   ],
   "source": [
    "print(\"The addition of 5 and 3 is 8\",'.')"
   ]
  },
  {
   "cell_type": "code",
   "execution_count": 28,
   "id": "e9b31122-98b4-43d2-9fb6-271459c3d50e",
   "metadata": {},
   "outputs": [
    {
     "name": "stdout",
     "output_type": "stream",
     "text": [
      "The addition of 5 and 3 is 8.\n"
     ]
    }
   ],
   "source": [
    "print(\"The addition of 5 and 3 is 8\",'.',sep='')\n",
    "#when we use seperator we can get the '.' after the 8"
   ]
  },
  {
   "cell_type": "code",
   "execution_count": null,
   "id": "ed168f6f-5e62-47fd-870b-adf9c0f50cdc",
   "metadata": {},
   "outputs": [],
   "source": []
  }
 ],
 "metadata": {
  "kernelspec": {
   "display_name": "Python 3 (ipykernel)",
   "language": "python",
   "name": "python3"
  },
  "language_info": {
   "codemirror_mode": {
    "name": "ipython",
    "version": 3
   },
   "file_extension": ".py",
   "mimetype": "text/x-python",
   "name": "python",
   "nbconvert_exporter": "python",
   "pygments_lexer": "ipython3",
   "version": "3.11.7"
  }
 },
 "nbformat": 4,
 "nbformat_minor": 5
}
