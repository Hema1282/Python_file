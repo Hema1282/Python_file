{
 "cells": [
  {
   "cell_type": "code",
   "execution_count": null,
   "id": "9de2897b-527f-4748-a320-bf7fbd536f7e",
   "metadata": {},
   "outputs": [],
   "source": [
    "**try-except**\n",
    "\n",
    "- Generally in real time we will write n number of python lines\n",
    "\n",
    "- There is a situation we might get an error , that error might be unknown \n",
    "\n",
    "- this unlknown errors does not cause any harm\n",
    "\n",
    "- even though we are getting error we need to proceed further\n",
    "\n",
    "- also we need to catch that error\n",
    "\n",
    "- Because we already  know python is a sequential process\n",
    "\n",
    "- Means the lines will excute step by step\n",
    "\n",
    "- suppose you have an error at particular line, the code excution will stop at that line only\n",
    "\n",
    "- but you know that error is not hramful\n",
    "\n",
    "- so you want to continue the excution\n",
    "\n",
    "- the we required try exception"
   ]
  },
  {
   "cell_type": "code",
   "execution_count": null,
   "id": "b565076f-a432-4893-a3d3-02f8c4440ee6",
   "metadata": {},
   "outputs": [],
   "source": [
    "- try and except has two blocks\n",
    "\n",
    "- try block as actual code\n",
    "\n",
    "- except block will catch the error"
   ]
  },
  {
   "cell_type": "code",
   "execution_count": 1,
   "id": "440cd122-fd02-48a4-8f3f-a21189e08694",
   "metadata": {},
   "outputs": [
    {
     "name": "stdin",
     "output_type": "stream",
     "text": [
      "Enter the number1: 10\n",
      "Enter the number2: ten\n"
     ]
    },
    {
     "ename": "NameError",
     "evalue": "name 'ten' is not defined",
     "output_type": "error",
     "traceback": [
      "\u001b[1;31m---------------------------------------------------------------------------\u001b[0m",
      "\u001b[1;31mNameError\u001b[0m                                 Traceback (most recent call last)",
      "Cell \u001b[1;32mIn[1], line 2\u001b[0m\n\u001b[0;32m      1\u001b[0m n1\u001b[38;5;241m=\u001b[39m\u001b[38;5;28meval\u001b[39m(\u001b[38;5;28minput\u001b[39m(\u001b[38;5;124m\"\u001b[39m\u001b[38;5;124mEnter the number1:\u001b[39m\u001b[38;5;124m\"\u001b[39m))\n\u001b[1;32m----> 2\u001b[0m n2\u001b[38;5;241m=\u001b[39m\u001b[38;5;28meval\u001b[39m(\u001b[38;5;28minput\u001b[39m(\u001b[38;5;124m\"\u001b[39m\u001b[38;5;124mEnter the number2:\u001b[39m\u001b[38;5;124m\"\u001b[39m))\n\u001b[0;32m      3\u001b[0m add\u001b[38;5;241m=\u001b[39mnum1\u001b[38;5;241m+\u001b[39mnum2\n\u001b[0;32m      4\u001b[0m \u001b[38;5;28mprint\u001b[39m(add)\n",
      "File \u001b[1;32m<string>:1\u001b[0m\n",
      "\u001b[1;31mNameError\u001b[0m: name 'ten' is not defined"
     ]
    }
   ],
   "source": [
    "n1=eval(input(\"Enter the number1:\"))\n",
    "n2=eval(input(\"Enter the number2:\"))\n",
    "add=num1+num2\n",
    "print(add)\n",
    "        "
   ]
  },
  {
   "cell_type": "code",
   "execution_count": 3,
   "id": "cf5a4664-3903-4fc5-943b-7ce732fc7f2a",
   "metadata": {},
   "outputs": [
    {
     "name": "stdin",
     "output_type": "stream",
     "text": [
      "Enter the number1: 10\n",
      "Enter the number2: ten\n"
     ]
    },
    {
     "name": "stdout",
     "output_type": "stream",
     "text": [
      "Hello\n",
      "You are getting an error\n",
      "Check the code properly\n"
     ]
    }
   ],
   "source": [
    "# catching error with try and except\n",
    "try:\n",
    "    # actual code\n",
    "    n1=eval(input(\"Enter the number1:\"))\n",
    "    n2=eval(input(\"Enter the number2:\"))\n",
    "    add=n1+n2\n",
    "    print(add)\n",
    "except:\n",
    "    print('Hello')\n",
    "    print('You are getting an error')\n",
    "    print(\"Check the code properly\")\n",
    "    "
   ]
  },
  {
   "cell_type": "markdown",
   "id": "54e11ce8-f72d-43f6-a005-e1801642c4ca",
   "metadata": {},
   "source": [
    "**Note**\n",
    "\n",
    "- Generally try except block will use to catch the errors"
   ]
  },
  {
   "cell_type": "code",
   "execution_count": 4,
   "id": "839d98a2-c9ab-42b3-a94e-a2f7e87eaa1e",
   "metadata": {},
   "outputs": [
    {
     "name": "stdin",
     "output_type": "stream",
     "text": [
      "Enter the number1: 10\n",
      "Enter the number2: 0\n"
     ]
    },
    {
     "name": "stdout",
     "output_type": "stream",
     "text": [
      "Name error\n"
     ]
    }
   ],
   "source": [
    "try:\n",
    "    # actual code\n",
    "    n1=eval(input(\"Enter the number1:\"))\n",
    "    n2=eval(input(\"Enter the number2:\"))\n",
    "    add=n1/n2\n",
    "    print(add)\n",
    "except:\n",
    "    print('Name error')\n",
    "   \n",
    "    "
   ]
  },
  {
   "cell_type": "code",
   "execution_count": null,
   "id": "7a905607-4b40-4cbb-bd2e-4ed7b68c919d",
   "metadata": {},
   "outputs": [],
   "source": [
    "# name error\n",
    "# zero division error\n",
    "# type error\n"
   ]
  },
  {
   "cell_type": "code",
   "execution_count": 9,
   "id": "a1a8b366-58e8-41a6-92be-450720e16af1",
   "metadata": {},
   "outputs": [
    {
     "name": "stdin",
     "output_type": "stream",
     "text": [
      "Enter the number1: 10\n",
      "Enter the number2: 20\n"
     ]
    },
    {
     "name": "stdout",
     "output_type": "stream",
     "text": [
      "The error is name 'num2' is not defined\n"
     ]
    }
   ],
   "source": [
    "try:\n",
    "    # actual code\n",
    "    n1=eval(input(\"Enter the number1:\"))\n",
    "    n2=eval(input(\"Enter the number2:\"))\n",
    "    add=n1/n2\n",
    "    print(add)\n",
    "except Exception as e:\n",
    "    print(f\"The error is {e}\")"
   ]
  },
  {
   "cell_type": "code",
   "execution_count": 10,
   "id": "80ce8dd5-dd26-4ebb-9e51-196bda5e4cf0",
   "metadata": {},
   "outputs": [
    {
     "name": "stdin",
     "output_type": "stream",
     "text": [
      "Enter the number: ten\n"
     ]
    },
    {
     "name": "stdout",
     "output_type": "stream",
     "text": [
      "name 'ten' is not defined\n"
     ]
    }
   ],
   "source": [
    "# Now onwards \n",
    "# need to use try except block\n",
    "try:\n",
    "    n=eval(input(\"Enter the number:\"))\n",
    "    if n%2==0:\n",
    "        print(\"Even number\")\n",
    "    else:\n",
    "        print(\"Odd number\")\n",
    "except Exception as e:\n",
    "    print(e)"
   ]
  },
  {
   "cell_type": "code",
   "execution_count": 5,
   "id": "648cefed-a51f-4716-a3e1-732694cd19dc",
   "metadata": {},
   "outputs": [
    {
     "name": "stdin",
     "output_type": "stream",
     "text": [
      "enter the start value: 10\n",
      "enter the end value: Ten\n"
     ]
    },
    {
     "name": "stdout",
     "output_type": "stream",
     "text": [
      "name 'Ten' is not defined\n"
     ]
    }
   ],
   "source": [
    "try:\n",
    "    import random\n",
    "    start=eval(input(\"enter the start value:\"))\n",
    "    end=eval(input(\"enter the end value:\"))\n",
    "    num=random.randint(start,end)\n",
    "    if num%2==0:\n",
    "     print(f\"the {num} is even\")\n",
    "    else:\n",
    "     print(f\"the {num} is odd\")\n",
    "except Exception as e :\n",
    "    print(e)"
   ]
  },
  {
   "cell_type": "code",
   "execution_count": 7,
   "id": "a59de150-80dd-4131-a538-fa297ff4cc9c",
   "metadata": {},
   "outputs": [
    {
     "name": "stdin",
     "output_type": "stream",
     "text": [
      "enter the distance in km: 45\n",
      "enter the charge in rs \n"
     ]
    },
    {
     "name": "stdout",
     "output_type": "stream",
     "text": [
      "invalid syntax (<string>, line 0)\n"
     ]
    }
   ],
   "source": [
    "try:\n",
    "    distance=eval(input(\"enter the distance in km:\"))\n",
    "    if distance>25:\n",
    "     charge=eval(input(\"enter the charge in rs\"))\n",
    "     cost=distance*charge\n",
    "     print(\"the total charge is:\",cost)\n",
    "    else:\n",
    "     print(\"enjoy the free ride\")\n",
    "except Exception as e:\n",
    "    print(e)"
   ]
  },
  {
   "cell_type": "code",
   "execution_count": 8,
   "id": "7b49b3ed-7884-4a74-b991-196b63fc24dd",
   "metadata": {},
   "outputs": [
    {
     "name": "stdin",
     "output_type": "stream",
     "text": [
      "enter the distance in km: '1000'\n",
      "enter the cuto ff distance in km: 25\n"
     ]
    },
    {
     "name": "stdout",
     "output_type": "stream",
     "text": [
      "'>' not supported between instances of 'str' and 'int'\n"
     ]
    }
   ],
   "source": [
    "try:\n",
    "    distance=eval(input(\"enter the distance in km:\"))\n",
    "    cutoff_distance=eval(input(\"enter the cuto ff distance in km:\"))\n",
    "    if distance>cutoff_distance:\n",
    "     chargeble_distance=distance-cutoff_distance\n",
    "     print(\"kudos to you the chargeble distance is:\",chargeble_distance)\n",
    "     charge=eval(input(\"enter the charge in rs\"))\n",
    "     cost=chargeble_distance*charge\n",
    "     print(\"the total charge is:\",cost)\n",
    "    else:\n",
    "     print(\"enjoy the free ride\")\n",
    "except Exception as e:\n",
    "    print(e)"
   ]
  },
  {
   "cell_type": "code",
   "execution_count": 10,
   "id": "18334fa0-45a8-41b0-b00f-9adceccc6223",
   "metadata": {},
   "outputs": [
    {
     "name": "stdin",
     "output_type": "stream",
     "text": [
      "enter the course: data science\n",
      "enter the institute: naresh it\n"
     ]
    },
    {
     "name": "stdout",
     "output_type": "stream",
     "text": [
      "good\n"
     ]
    }
   ],
   "source": [
    "try:\n",
    "    course=input(\"enter the course:\")\n",
    "    institute=input(\"enter the institute:\")\n",
    "    if course=='data science' and institute=='naresh it':\n",
    "     print(\"good\")\n",
    "    else:\n",
    "     print(\"bad\")\n",
    "except Exception as e:\n",
    "    print(e)\n"
   ]
  },
  {
   "cell_type": "code",
   "execution_count": 11,
   "id": "3b247da8-04f2-45d6-a43d-42556f393be4",
   "metadata": {},
   "outputs": [
    {
     "name": "stdin",
     "output_type": "stream",
     "text": [
      "enter the course: python\n",
      "enter the institute: naresh it\n"
     ]
    },
    {
     "name": "stdout",
     "output_type": "stream",
     "text": [
      "good\n"
     ]
    }
   ],
   "source": [
    "try:\n",
    "    course=input(\"enter the course:\")\n",
    "    institute=input(\"enter the institute:\")\n",
    "    if course=='data science' or institute=='naresh it':\n",
    "     print(\"good\")\n",
    "    else:\n",
    "     print(\"bad\")\n",
    "except Exception as e:\n",
    "    orint(e)"
   ]
  },
  {
   "cell_type": "code",
   "execution_count": 12,
   "id": "4ffc2dd9-5861-40ec-8761-a7316a65d82f",
   "metadata": {},
   "outputs": [
    {
     "name": "stdout",
     "output_type": "stream",
     "text": [
      "10\n"
     ]
    },
    {
     "name": "stdin",
     "output_type": "stream",
     "text": [
      "enter the number2: \"Ten\"\n"
     ]
    },
    {
     "name": "stdout",
     "output_type": "stream",
     "text": [
      "you lost\n"
     ]
    }
   ],
   "source": [
    "try:\n",
    "    import random\n",
    "    num1=random.randint(1,10)\n",
    "    print(num1)\n",
    "    num2=eval(input(\"enter the number2:\"))\n",
    "    if num1==num2:\n",
    "     print(\"you won\")\n",
    "    else:\n",
    "     print(\"you lost\")\n",
    "except Exception as e:\n",
    "    print(e)"
   ]
  },
  {
   "cell_type": "code",
   "execution_count": 13,
   "id": "8a39c05b-4b0e-47c0-bd87-3eb869763d20",
   "metadata": {},
   "outputs": [
    {
     "name": "stdin",
     "output_type": "stream",
     "text": [
      "enter the number: '5'\n"
     ]
    },
    {
     "name": "stdout",
     "output_type": "stream",
     "text": [
      "enter the valid number\n"
     ]
    }
   ],
   "source": [
    "try:\n",
    "    num=eval(input(\"enter the number:\"))\n",
    "    if num==1:\n",
    "     print(\"one\")\n",
    "    elif num==2:\n",
    "     print(\"two\")\n",
    "    elif num==3:\n",
    "     print(\"three\")\n",
    "    else:\n",
    "     print(\"enter the valid number\")\n",
    "except Exception as e:\n",
    "    print(e)"
   ]
  },
  {
   "cell_type": "code",
   "execution_count": 14,
   "id": "93dd7d26-02ab-4fbd-b981-36b77bf6752d",
   "metadata": {},
   "outputs": [
    {
     "name": "stdin",
     "output_type": "stream",
     "text": [
      "enter num1 'Ten'\n"
     ]
    },
    {
     "name": "stdout",
     "output_type": "stream",
     "text": [
      "'>' not supported between instances of 'str' and 'int'\n"
     ]
    }
   ],
   "source": [
    "try:\n",
    "    num1=eval(input('enter num1'))\n",
    "    if num1 > 0:\n",
    "     print('positive')\n",
    "    elif num1 <0:\n",
    "     print('negative')\n",
    "    else:\n",
    "     print('zero')\n",
    "except Exception as e:\n",
    "    print(e)"
   ]
  },
  {
   "cell_type": "code",
   "execution_count": null,
   "id": "be909d93-9802-450a-9a6b-bc1c8145d776",
   "metadata": {},
   "outputs": [],
   "source": []
  }
 ],
 "metadata": {
  "kernelspec": {
   "display_name": "Python 3 (ipykernel)",
   "language": "python",
   "name": "python3"
  },
  "language_info": {
   "codemirror_mode": {
    "name": "ipython",
    "version": 3
   },
   "file_extension": ".py",
   "mimetype": "text/x-python",
   "name": "python",
   "nbconvert_exporter": "python",
   "pygments_lexer": "ipython3",
   "version": "3.11.7"
  }
 },
 "nbformat": 4,
 "nbformat_minor": 5
}
