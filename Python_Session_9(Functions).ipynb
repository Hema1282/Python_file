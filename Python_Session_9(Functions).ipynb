{
 "cells": [
  {
   "cell_type": "markdown",
   "id": "ee590ab2-5db7-49f9-a885-25d28a6df1f3",
   "metadata": {},
   "source": [
    "**Functions**\n",
    "\n",
    "- A block of code which we can use many times."
   ]
  },
  {
   "cell_type": "code",
   "execution_count": 1,
   "id": "6b3ea3b2-cf1c-4ac0-b5c5-901774da359a",
   "metadata": {},
   "outputs": [
    {
     "name": "stdout",
     "output_type": "stream",
     "text": [
      "30\n"
     ]
    }
   ],
   "source": [
    "n1=10\n",
    "n2=20\n",
    "add=n1+n2\n",
    "print(add)\n"
   ]
  },
  {
   "cell_type": "markdown",
   "id": "c40d3c02-dae9-461b-856e-ca14d2783f3c",
   "metadata": {},
   "source": [
    "**Function without arguments**"
   ]
  },
  {
   "cell_type": "code",
   "execution_count": null,
   "id": "d65b57a4-b666-4660-8a44-643b3be7d8e4",
   "metadata": {},
   "outputs": [],
   "source": [
    "def <function_name>():\n",
    "    codelines"
   ]
  },
  {
   "cell_type": "code",
   "execution_count": 3,
   "id": "bbf9bfb2-d71e-4aa1-b98e-d81899f16bea",
   "metadata": {},
   "outputs": [],
   "source": [
    "def summation():\n",
    "    n1=10\n",
    "    n2=20\n",
    "    add=n1+n2\n",
    "    print(add)\n",
    "    "
   ]
  },
  {
   "cell_type": "code",
   "execution_count": null,
   "id": "2afe2794-d321-430c-92a6-26d2a111cb1e",
   "metadata": {},
   "outputs": [],
   "source": [
    "# function name: summation\n",
    "# in order to excute code lines \n",
    "# we need to call the function"
   ]
  },
  {
   "cell_type": "code",
   "execution_count": 5,
   "id": "d33b2e7c-763a-4a14-9209-12ca3e97179b",
   "metadata": {},
   "outputs": [
    {
     "name": "stdout",
     "output_type": "stream",
     "text": [
      "30\n"
     ]
    }
   ],
   "source": [
    "summation()"
   ]
  },
  {
   "cell_type": "code",
   "execution_count": 6,
   "id": "6bd4e965-fc48-4508-838e-947bba83f39e",
   "metadata": {},
   "outputs": [
    {
     "name": "stdout",
     "output_type": "stream",
     "text": [
      "30\n"
     ]
    }
   ],
   "source": [
    "def summation():\n",
    "    n1=10\n",
    "    n2=20\n",
    "    add=n1+n2\n",
    "    print(add)\n",
    "summation()"
   ]
  },
  {
   "cell_type": "code",
   "execution_count": 8,
   "id": "b1895350-3ac6-4fa7-835c-ff9f71e7abec",
   "metadata": {},
   "outputs": [
    {
     "name": "stdout",
     "output_type": "stream",
     "text": [
      "num1 is : 10\n",
      "num2 is : 20\n",
      "?The addition of 10,20 is:30\n"
     ]
    }
   ],
   "source": [
    "def summation():\n",
    "    n1=10\n",
    "    print(\"num1 is :\",n1)\n",
    "    n2=20\n",
    "    print(\"num2 is :\",n2)\n",
    "    add=n1+n2\n",
    "    print(f\"?The addition of {n1},{n2} is:{add}\")\n",
    "summation()"
   ]
  },
  {
   "cell_type": "markdown",
   "id": "59bf343f-2eb1-4d93-ba45-772301adef20",
   "metadata": {},
   "source": [
    "**Note**\n",
    "\n",
    "- function names can be anything\n",
    "\n",
    "- same rules applicable as variable rules\n",
    "\n",
    "- whenever you create the function make sure the identation correctly\n",
    "\n",
    "- starting with keyword,ending with colon then code lines start with indentation \n",
    "\n",
    "- brackets means functions\n",
    "\n",
    "- Never missed the brackets whenever you call the function\n",
    "\n",
    "- If you want to excute the code we need to call the function\n",
    "\n",
    "- while you are calling the function if you see function or bound mathod \n",
    "\n",
    "- which means you missed the brackets"
   ]
  },
  {
   "cell_type": "code",
   "execution_count": 9,
   "id": "890fea06-34b3-4e59-90b2-a00b09df785c",
   "metadata": {},
   "outputs": [
    {
     "ename": "NameError",
     "evalue": "name 'n111' is not defined",
     "output_type": "error",
     "traceback": [
      "\u001b[1;31m---------------------------------------------------------------------------\u001b[0m",
      "\u001b[1;31mNameError\u001b[0m                                 Traceback (most recent call last)",
      "Cell \u001b[1;32mIn[9], line 3\u001b[0m\n\u001b[0;32m      1\u001b[0m n1\u001b[38;5;241m=\u001b[39m\u001b[38;5;241m10\u001b[39m\n\u001b[0;32m      2\u001b[0m n2\u001b[38;5;241m=\u001b[39m\u001b[38;5;241m20\u001b[39m\n\u001b[1;32m----> 3\u001b[0m add\u001b[38;5;241m=\u001b[39mn111\u001b[38;5;241m+\u001b[39mn2\n\u001b[0;32m      4\u001b[0m \u001b[38;5;28mprint\u001b[39m(add)\n",
      "\u001b[1;31mNameError\u001b[0m: name 'n111' is not defined"
     ]
    }
   ],
   "source": [
    "n1=10\n",
    "n2=20\n",
    "add=n111+n2\n",
    "print(add)"
   ]
  },
  {
   "cell_type": "code",
   "execution_count": 10,
   "id": "c155086b-1364-41fe-a2ae-7f73c26f4635",
   "metadata": {},
   "outputs": [],
   "source": [
    "def summation():\n",
    "    n1=10\n",
    "    print(\"num1 is :\",n1)\n",
    "    n2=20\n",
    "    print(\"num2 is :\",n2)\n",
    "    add=n111+n2\n",
    "    print(f\"The addition of {n1},{n2} is:{add}\")\n"
   ]
  },
  {
   "cell_type": "code",
   "execution_count": 12,
   "id": "a2fb26e8-ec45-43ae-b71a-ff76456b8bcf",
   "metadata": {},
   "outputs": [
    {
     "name": "stdout",
     "output_type": "stream",
     "text": [
      "num1 is : 10\n",
      "num2 is : 20\n"
     ]
    },
    {
     "ename": "NameError",
     "evalue": "name 'n111' is not defined",
     "output_type": "error",
     "traceback": [
      "\u001b[1;31m---------------------------------------------------------------------------\u001b[0m",
      "\u001b[1;31mNameError\u001b[0m                                 Traceback (most recent call last)",
      "Cell \u001b[1;32mIn[12], line 1\u001b[0m\n\u001b[1;32m----> 1\u001b[0m summation()\n",
      "Cell \u001b[1;32mIn[10], line 6\u001b[0m, in \u001b[0;36msummation\u001b[1;34m()\u001b[0m\n\u001b[0;32m      4\u001b[0m n2\u001b[38;5;241m=\u001b[39m\u001b[38;5;241m20\u001b[39m\n\u001b[0;32m      5\u001b[0m \u001b[38;5;28mprint\u001b[39m(\u001b[38;5;124m\"\u001b[39m\u001b[38;5;124mnum2 is :\u001b[39m\u001b[38;5;124m\"\u001b[39m,n2)\n\u001b[1;32m----> 6\u001b[0m add\u001b[38;5;241m=\u001b[39mn111\u001b[38;5;241m+\u001b[39mn2\n\u001b[0;32m      7\u001b[0m \u001b[38;5;28mprint\u001b[39m(\u001b[38;5;124mf\u001b[39m\u001b[38;5;124m\"\u001b[39m\u001b[38;5;124m?The addition of \u001b[39m\u001b[38;5;132;01m{\u001b[39;00mn1\u001b[38;5;132;01m}\u001b[39;00m\u001b[38;5;124m,\u001b[39m\u001b[38;5;132;01m{\u001b[39;00mn2\u001b[38;5;132;01m}\u001b[39;00m\u001b[38;5;124m is:\u001b[39m\u001b[38;5;132;01m{\u001b[39;00madd\u001b[38;5;132;01m}\u001b[39;00m\u001b[38;5;124m\"\u001b[39m)\n",
      "\u001b[1;31mNameError\u001b[0m: name 'n111' is not defined"
     ]
    }
   ],
   "source": [
    "summation()"
   ]
  },
  {
   "cell_type": "markdown",
   "id": "3b137a77-c3e2-464d-96fd-d8339a0dc1e6",
   "metadata": {},
   "source": [
    "## whenever we defined the function it doesnot throw any error until unless we call the function"
   ]
  },
  {
   "cell_type": "markdown",
   "id": "4f5cfb23-6127-4e6b-9bf4-5601a6180ff4",
   "metadata": {},
   "source": [
    "### Practice problems"
   ]
  },
  {
   "cell_type": "code",
   "execution_count": 15,
   "id": "58557244-e69e-4f07-aa6e-da597b5f2121",
   "metadata": {},
   "outputs": [
    {
     "name": "stdin",
     "output_type": "stream",
     "text": [
      "Enter a number: 10\n",
      "Enter a number: 20\n",
      "Enter a number: 30\n"
     ]
    },
    {
     "name": "stdout",
     "output_type": "stream",
     "text": [
      "Average of 10,20,30 is 20.0\n"
     ]
    }
   ],
   "source": [
    "# wap to create the function average\n",
    "# write normal average code\n",
    "# then implment function\n",
    "\n",
    "def average():\n",
    "    n1=eval(input(\"Enter a number:\"))\n",
    "    n2=eval(input(\"Enter a number:\"))\n",
    "    n3=eval(input(\"Enter a number:\"))\n",
    "    avg=(n1+n2+n3)/3\n",
    "    avg1=round(avg,2)\n",
    "    print(f\"Average of {n1},{n2},{n3} is {avg1}\")\n",
    "\n",
    "average()"
   ]
  },
  {
   "cell_type": "markdown",
   "id": "e9567ba4-f291-48fb-a4e2-26513b5086f2",
   "metadata": {},
   "source": [
    "**Function name and variable name should not be nsame**"
   ]
  },
  {
   "cell_type": "code",
   "execution_count": 16,
   "id": "f4c17144-9b4c-4a4a-bed2-c1ba7ff1c053",
   "metadata": {},
   "outputs": [
    {
     "name": "stdin",
     "output_type": "stream",
     "text": [
      "Enter radius of the circle: 7\n",
      "Enter pi value 3.14\n"
     ]
    },
    {
     "name": "stdout",
     "output_type": "stream",
     "text": [
      "The radius of the circle with radius 7:153.86\n"
     ]
    }
   ],
   "source": [
    "# area of the circle\n",
    "def circle_radius():\n",
    "    radius=eval(input(\"Enter radius of the circle:\"))\n",
    "    pi=eval(input(\"Enter pi value\"))\n",
    "    area=pi*radius*radius\n",
    "    print(f\"The radius of the circle with radius {radius}:{area}\")\n",
    "circle_radius()"
   ]
  },
  {
   "cell_type": "code",
   "execution_count": 17,
   "id": "7a736333-2bf2-4a9f-8bef-e1a7f3c19b62",
   "metadata": {},
   "outputs": [
    {
     "name": "stdin",
     "output_type": "stream",
     "text": [
      "Enter a amount: 400\n",
      "Enter a tip percentage you want to pay: 10\n"
     ]
    },
    {
     "name": "stdout",
     "output_type": "stream",
     "text": [
      "The total bill amount is:440.0\n"
     ]
    }
   ],
   "source": [
    "def Total_Bill():\n",
    "    amt=eval(input(\"Enter a amount:\"))\n",
    "    tip_percent=eval(input(\"Enter a tip percentage you want to pay:\"))\n",
    "    tip_amt=(tip_percent*amt)/100\n",
    "    total=amt+tip_amt\n",
    "    print(f\"The total bill amount is:{total}\")\n",
    "Total_Bill()"
   ]
  },
  {
   "cell_type": "code",
   "execution_count": 20,
   "id": "747eb3c6-f17b-40fd-91ba-5a9fd3c6f9e5",
   "metadata": {},
   "outputs": [
    {
     "name": "stdin",
     "output_type": "stream",
     "text": [
      "Enter a base: 6\n",
      "Enter a height: 8\n"
     ]
    },
    {
     "name": "stdout",
     "output_type": "stream",
     "text": [
      "The area of triangle with base  (6) ,height (8) is :24.0\n"
     ]
    }
   ],
   "source": [
    "def Triangle_area():\n",
    "    base=eval(input(\"Enter a base:\"))\n",
    "    height=eval(input(\"Enter a height:\"))\n",
    "    area=0.5*base*height\n",
    "    print(f\"The area of triangle with base  ({base}) ,height ({height}) is :{area}\")\n",
    "Triangle_area()"
   ]
  },
  {
   "cell_type": "code",
   "execution_count": 22,
   "id": "3896e47b-7cb3-4cca-bcb6-d569e9698bb2",
   "metadata": {},
   "outputs": [
    {
     "name": "stdin",
     "output_type": "stream",
     "text": [
      "Enter length of the triangle: 7\n",
      "Enter breadth of the triangle: 6\n"
     ]
    },
    {
     "name": "stdout",
     "output_type": "stream",
     "text": [
      "The area of rectangle is 42\n"
     ]
    }
   ],
   "source": [
    "def rectangle_area():\n",
    "    len=eval(input(\"Enter length of the triangle:\"))\n",
    "    breadth=eval(input(\"Enter breadth of the triangle:\"))\n",
    "    area=len*breadth\n",
    "    print(f\"The area of rectangle is {area}\")\n",
    "rectangle_area()"
   ]
  },
  {
   "cell_type": "code",
   "execution_count": null,
   "id": "b55a2836-1588-4257-9225-1c45653869d2",
   "metadata": {},
   "outputs": [],
   "source": [
    "- while we are defining function if nothing mentioned means\n",
    "\n",
    "- it is called Functions without arguments"
   ]
  },
  {
   "cell_type": "code",
   "execution_count": null,
   "id": "147f0b93-d7d9-47af-9a59-06c62706ef3b",
   "metadata": {},
   "outputs": [],
   "source": [
    "def addition()\n",
    "def avg()\n",
    "def area_of_triangle()\n",
    "def bill()"
   ]
  },
  {
   "cell_type": "markdown",
   "id": "c1d3de94-09d1-4082-be6a-1ca2992440e1",
   "metadata": {},
   "source": [
    "**Functions with arguments**\n",
    "\n",
    "- First look at how many arguments or variables are there\n",
    "\n",
    "- In that how many input variable are there\n",
    "\n",
    "- How many output variables are there\n",
    "\n",
    "- Input variables means user can defineed\n",
    "\n",
    "- output variable means python gives the output\n",
    "\n",
    "- We can use only input variables as arguments inside the brackets"
   ]
  },
  {
   "cell_type": "code",
   "execution_count": 25,
   "id": "88821a09-88cd-45f3-a353-b8febcc128a8",
   "metadata": {},
   "outputs": [
    {
     "name": "stdout",
     "output_type": "stream",
     "text": [
      "num1 is : 10\n",
      "num2 is : 200\n",
      "The addition of 10,200 is:210\n"
     ]
    }
   ],
   "source": [
    "def summation2(n1,n2):\n",
    "    print(\"num1 is :\",n1)\n",
    "    print(\"num2 is :\",n2)\n",
    "    add=n1+n2\n",
    "    print(f\"The addition of {n1},{n2} is:{add}\")\n",
    "summation2(10,200)"
   ]
  },
  {
   "cell_type": "code",
   "execution_count": 27,
   "id": "f64cadbf-fb39-4ff7-a135-07cd38751206",
   "metadata": {},
   "outputs": [
    {
     "name": "stdout",
     "output_type": "stream",
     "text": [
      "Average of 10,30,50 is 30.0\n"
     ]
    }
   ],
   "source": [
    "def avg(n1,n2,n3):\n",
    "\n",
    "    average=(n1+n2+n3)/3\n",
    "    avg1=round(average,2)\n",
    "    print(f\"Average of {n1},{n2},{n3} is {avg1}\")\n",
    "\n",
    "avg(10,30,50)"
   ]
  },
  {
   "cell_type": "code",
   "execution_count": 28,
   "id": "dc91cdaa-1bc0-41b5-abe1-b9874bfcaeca",
   "metadata": {},
   "outputs": [
    {
     "ename": "TypeError",
     "evalue": "avg() missing 3 required positional arguments: 'n1', 'n2', and 'n3'",
     "output_type": "error",
     "traceback": [
      "\u001b[1;31m---------------------------------------------------------------------------\u001b[0m",
      "\u001b[1;31mTypeError\u001b[0m                                 Traceback (most recent call last)",
      "Cell \u001b[1;32mIn[28], line 7\u001b[0m\n\u001b[0;32m      4\u001b[0m     avg1\u001b[38;5;241m=\u001b[39m\u001b[38;5;28mround\u001b[39m(average,\u001b[38;5;241m2\u001b[39m)\n\u001b[0;32m      5\u001b[0m     \u001b[38;5;28mprint\u001b[39m(\u001b[38;5;124mf\u001b[39m\u001b[38;5;124m\"\u001b[39m\u001b[38;5;124mAverage of \u001b[39m\u001b[38;5;132;01m{\u001b[39;00mn1\u001b[38;5;132;01m}\u001b[39;00m\u001b[38;5;124m,\u001b[39m\u001b[38;5;132;01m{\u001b[39;00mn2\u001b[38;5;132;01m}\u001b[39;00m\u001b[38;5;124m,\u001b[39m\u001b[38;5;132;01m{\u001b[39;00mn3\u001b[38;5;132;01m}\u001b[39;00m\u001b[38;5;124m is \u001b[39m\u001b[38;5;132;01m{\u001b[39;00mavg1\u001b[38;5;132;01m}\u001b[39;00m\u001b[38;5;124m\"\u001b[39m)\n\u001b[1;32m----> 7\u001b[0m avg()\n",
      "\u001b[1;31mTypeError\u001b[0m: avg() missing 3 required positional arguments: 'n1', 'n2', and 'n3'"
     ]
    }
   ],
   "source": [
    "def avg(n1,n2,n3):\n",
    "\n",
    "    average=(n1+n2+n3)/3\n",
    "    avg1=round(average,2)\n",
    "    print(f\"Average of {n1},{n2},{n3} is {avg1}\")\n",
    "\n",
    "avg()"
   ]
  },
  {
   "cell_type": "code",
   "execution_count": 29,
   "id": "f14b5610-e434-4d69-bc3a-85ffb87e3c19",
   "metadata": {},
   "outputs": [
    {
     "name": "stdout",
     "output_type": "stream",
     "text": [
      "The area of triangle with base  (5) ,height (6) is :15.0\n"
     ]
    }
   ],
   "source": [
    "def Triangle_area(base,height):\n",
    "    \n",
    "    area=0.5*base*height\n",
    "    print(f\"The area of triangle with base  ({base}) ,height ({height}) is :{area}\")\n",
    "Triangle_area(5,6)"
   ]
  },
  {
   "cell_type": "code",
   "execution_count": 30,
   "id": "c90c34af-5b46-4b50-840c-b9b719f80e97",
   "metadata": {},
   "outputs": [
    {
     "name": "stdout",
     "output_type": "stream",
     "text": [
      "The total bill amount is:720.0\n"
     ]
    }
   ],
   "source": [
    "def Total_Bill(amt,tip_percent):\n",
    "    \n",
    "    \n",
    "    tip_amt=(tip_percent*amt)/100\n",
    "    total=amt+tip_amt\n",
    "    print(f\"The total bill amount is:{total}\")\n",
    "Total_Bill(600,20)"
   ]
  },
  {
   "cell_type": "code",
   "execution_count": 31,
   "id": "eb8985c3-8d81-4d69-9385-2364b88a5db4",
   "metadata": {},
   "outputs": [
    {
     "name": "stdout",
     "output_type": "stream",
     "text": [
      "The area of rectangle is 40\n"
     ]
    }
   ],
   "source": [
    "def rectangle_area(len,breadth):\n",
    "\n",
    "    area=len*breadth\n",
    "    print(f\"The area of rectangle is {area}\")\n",
    "rectangle_area(8,5)"
   ]
  },
  {
   "cell_type": "code",
   "execution_count": 32,
   "id": "813821aa-a44b-44d0-b415-5311a1bdb519",
   "metadata": {},
   "outputs": [
    {
     "name": "stdout",
     "output_type": "stream",
     "text": [
      "The radius of the circle with radius 7:153.86\n"
     ]
    }
   ],
   "source": [
    "def circle_radius(radius,pi):\n",
    "\n",
    "    area=pi*radius*radius\n",
    "    print(f\"The radius of the circle with radius {radius}:{area}\")\n",
    "circle_radius(7,3.14)"
   ]
  },
  {
   "cell_type": "code",
   "execution_count": 1,
   "id": "1f68c20e-da3e-48ee-8486-e2c7c3d96c69",
   "metadata": {},
   "outputs": [
    {
     "name": "stdin",
     "output_type": "stream",
     "text": [
      "Enter number11 12\n",
      "Enter number11 23\n"
     ]
    },
    {
     "name": "stdout",
     "output_type": "stream",
     "text": [
      "-11\n"
     ]
    }
   ],
   "source": [
    "def sub():\n",
    "    n1= eval(input(\"Enter number11\"))\n",
    "    n2= eval(input(\"Enter number11\"))\n",
    "    sub=n1-n2\n",
    "    print(sub)\n",
    "sub()\n",
    "# mitake "
   ]
  },
  {
   "cell_type": "code",
   "execution_count": 2,
   "id": "dc8dd9b4-9ed2-4034-ade5-3c26a33cc4e5",
   "metadata": {},
   "outputs": [
    {
     "ename": "NameError",
     "evalue": "name 'n1' is not defined",
     "output_type": "error",
     "traceback": [
      "\u001b[1;31m---------------------------------------------------------------------------\u001b[0m",
      "\u001b[1;31mNameError\u001b[0m                                 Traceback (most recent call last)",
      "Cell \u001b[1;32mIn[2], line 4\u001b[0m\n\u001b[0;32m      2\u001b[0m     sub\u001b[38;5;241m=\u001b[39mn1\u001b[38;5;241m-\u001b[39mn2\n\u001b[0;32m      3\u001b[0m     \u001b[38;5;28mprint\u001b[39m(sub)\n\u001b[1;32m----> 4\u001b[0m sub(n1,n2)\n",
      "\u001b[1;31mNameError\u001b[0m: name 'n1' is not defined"
     ]
    }
   ],
   "source": [
    "def sub(n1,n2):\n",
    "    sub=n1-n2\n",
    "    print(sub)\n",
    "sub(n1,n2)\n",
    "# mistake 2"
   ]
  },
  {
   "cell_type": "markdown",
   "id": "0f4e5521-8936-40fc-bd17-0d0de7d133fb",
   "metadata": {},
   "source": [
    "** Default arguments**"
   ]
  },
  {
   "cell_type": "code",
   "execution_count": 3,
   "id": "cf7e27ab-a587-46cb-8d86-7a9317d2c78e",
   "metadata": {},
   "outputs": [
    {
     "name": "stdin",
     "output_type": "stream",
     "text": [
      "Enter the bill 400\n",
      "Enter the tip_percentage: 10\n"
     ]
    },
    {
     "name": "stdout",
     "output_type": "stream",
     "text": [
      "Total bill is : 410\n"
     ]
    }
   ],
   "source": [
    "# bill amount problem\n",
    "bill=eval(input(\"Enter the bill\"))\n",
    "tip_percent=eval(input(\"Enter the tip_percentage:\"))\n",
    "tip_amt=bill*tip_percent/100\n",
    "total_bill=bill+tip_percent\n",
    "print(\"Total bill is :\",total_bill)"
   ]
  },
  {
   "cell_type": "code",
   "execution_count": 4,
   "id": "de655a24-e054-4379-808f-ef2ce87c02cd",
   "metadata": {},
   "outputs": [
    {
     "name": "stdin",
     "output_type": "stream",
     "text": [
      "Enter the bill 1000\n",
      "Enter the tip_percentage: 20\n"
     ]
    },
    {
     "name": "stdout",
     "output_type": "stream",
     "text": [
      "Total bill is : 1020\n"
     ]
    }
   ],
   "source": [
    "#without arguments\n",
    "def bill_pay():\n",
    "    bill=eval(input(\"Enter the bill\"))\n",
    "    tip_percent=eval(input(\"Enter the tip_percentage:\"))\n",
    "    tip_amt=bill*tip_percent/100\n",
    "    total_bill=bill+tip_amt\n",
    "    print(\"Total bill is :\",total_bill)\n",
    "bill_pay()"
   ]
  },
  {
   "cell_type": "code",
   "execution_count": 5,
   "id": "912b77bb-43ae-495b-9549-c4c1cba8fa23",
   "metadata": {},
   "outputs": [
    {
     "name": "stdout",
     "output_type": "stream",
     "text": [
      "Total bill is : 820\n"
     ]
    }
   ],
   "source": [
    "#with arguments\n",
    "# whenever you provide the arguemnts\n",
    "# these provided arguemnets are we using inside the code or not\n",
    "def bill_pay(bill,tip_percent):\n",
    "    tip_amt=bill*tip_percent/100\n",
    "    total_bill=bill+tip_amt\n",
    "    print(\"Total bill is :\",total_bill)\n",
    "bill_pay(800,20)"
   ]
  },
  {
   "cell_type": "code",
   "execution_count": null,
   "id": "3098b9ab-eca1-4012-9544-8a1209a59ab6",
   "metadata": {},
   "outputs": [],
   "source": [
    "# bill amount problem\n",
    "bill=eval(input(\"Enter the bill\"))\n",
    "tip_percent=eval(input(\"Enter the tip_percentage:\"))\n",
    "tip_amt=bill*tip_percent/100\n",
    "total_bill=bill+tip_amt\n",
    "print(\"Total bill is :\",total_bill)\n",
    "############################################################################3\n",
    "# without arguments\n",
    "def bill_pay():\n",
    "    bill=eval(input(\"Enter the bill\"))\n",
    "    tip_percent=eval(input(\"Enter the tip_percentage:\"))\n",
    "    tip_amt=bill*tip_percent/100\n",
    "    total_bill=bill+tip_amt\n",
    "    print(\"Total bill is :\",total_bill)\n",
    "bill_pay()\n",
    "###################################################################################\n",
    "# with arguments\n",
    "# whenever you provide the arguemnts\n",
    "# these provided arguemnets are we using inside the code or not\n",
    "def bill_pay(bill,tip_percent):\n",
    "    tip_amt=bill*tip_percent/100\n",
    "    total_bill=bill+tip_amt\n",
    "    print(\"Total bill is :\",total_bill)\n",
    "bill_pay(800,20)"
   ]
  },
  {
   "cell_type": "code",
   "execution_count": 9,
   "id": "31779d28-22a8-4a8b-9ccc-bf79b60313e8",
   "metadata": {},
   "outputs": [
    {
     "name": "stdout",
     "output_type": "stream",
     "text": [
      "Bill amt: 8000\n",
      "Tip percentage 20\n",
      "Total bill is : 9600.0\n"
     ]
    }
   ],
   "source": [
    "def bill_pay(bill,tip_percent=20):\n",
    "    print(\"Bill amt:\",bill)\n",
    "    print(\"Tip percentage\",tip_percent)\n",
    "    tip_amt=bill*tip_percent/100\n",
    "    total_bill=bill+tip_amt\n",
    "    print(\"Total bill is :\",total_bill)\n",
    "    \n",
    "bill_pay(8000)\n",
    "\n",
    "# Here the tip percentage is default value\n",
    "# whenver we provide default value to a argument\n",
    "# Then it is called default argument"
   ]
  },
  {
   "cell_type": "code",
   "execution_count": 14,
   "id": "62cf3841-6781-4f50-a6df-3f787c300991",
   "metadata": {},
   "outputs": [
    {
     "name": "stdout",
     "output_type": "stream",
     "text": [
      "num1: 10\n",
      "num2: 30\n",
      "num3: 50\n",
      "Average of 10,30,50 is 30.0\n"
     ]
    }
   ],
   "source": [
    "def avg(n1,n2,n3=50):\n",
    "    print(\"num1:\",n1)\n",
    "    print(\"num2:\",n2)\n",
    "    print(\"num3:\",n3)\n",
    "    average=(n1+n2+n3)/3\n",
    "    avg1=round(average,2)\n",
    "    print(f\"Average of {n1},{n2},{n3} is {avg1}\")\n",
    "\n",
    "avg(10,30)\n",
    "\n",
    "# num1 ,num2 are positional arguments\n",
    "# num3 is default argument"
   ]
  },
  {
   "cell_type": "code",
   "execution_count": 12,
   "id": "57c7ac56-6c5e-4d0b-a06c-d7205ae0a361",
   "metadata": {},
   "outputs": [
    {
     "ename": "SyntaxError",
     "evalue": "non-default argument follows default argument (559611441.py, line 1)",
     "output_type": "error",
     "traceback": [
      "\u001b[1;36m  Cell \u001b[1;32mIn[12], line 1\u001b[1;36m\u001b[0m\n\u001b[1;33m    def avg(n1,n2=40,n3):\u001b[0m\n\u001b[1;37m                     ^\u001b[0m\n\u001b[1;31mSyntaxError\u001b[0m\u001b[1;31m:\u001b[0m non-default argument follows default argument\n"
     ]
    }
   ],
   "source": [
    "def avg(n1,n2=40,n3):\n",
    "    print(\"num1:\",n1)\n",
    "    print(\"num2:\",n2)\n",
    "    print(\"num3:\",n3)\n",
    "    average=(n1+n2+n3)/3\n",
    "    avg1=round(average,2)\n",
    "    print(f\"Average of {n1},{n2},{n3} is {avg1}\")\n",
    "\n",
    "avg(10,50)\n",
    "\n",
    "# num1 ,num2 are positional arguments\n",
    "# num3 is default argument"
   ]
  },
  {
   "cell_type": "code",
   "execution_count": 13,
   "id": "aa555460-ce55-41b0-ba15-5cb84f344cd6",
   "metadata": {},
   "outputs": [
    {
     "name": "stdout",
     "output_type": "stream",
     "text": [
      "num1: 10\n",
      "num2: 40\n",
      "num3: 50\n",
      "Average of 10,40,50 is 33.33\n"
     ]
    }
   ],
   "source": [
    "def avg(n1,n3,n2=40):\n",
    "    print(\"num1:\",n1)\n",
    "    print(\"num2:\",n2)\n",
    "    print(\"num3:\",n3)\n",
    "    average=(n1+n2+n3)/3\n",
    "    avg1=round(average,2)\n",
    "    print(f\"Average of {n1},{n2},{n3} is {avg1}\")\n",
    "\n",
    "avg(10,50)\n",
    "\n",
    "# num1 ,num2 are positional arguments\n",
    "# num3 is default argument"
   ]
  },
  {
   "cell_type": "markdown",
   "id": "9dbf783c-1004-4582-aa7b-5a25be789535",
   "metadata": {},
   "source": [
    "**Note**\n",
    "\n",
    "- Default arguments always at last"
   ]
  },
  {
   "cell_type": "code",
   "execution_count": null,
   "id": "eac66dc1-91ab-45bf-8569-0177d15cc8a6",
   "metadata": {},
   "outputs": [],
   "source": [
    "avg(n1,n2,n3=40)    # W\n",
    "avg(n1,n2=50,n3)    # F\n",
    "avg(n1=100,n2,n3)   # F\n",
    "avg(n1,n2=50,n3=40)  # w\n",
    "avg(n1=100,n2,n3=40)  #F\n",
    "avg(n1=100,n2=50,n3)  #F\n",
    "avg(n1=100,n2=50,n3=40)  # w"
   ]
  },
  {
   "cell_type": "code",
   "execution_count": 16,
   "id": "d276fc04-056b-4395-8c2a-10d74d41ceb0",
   "metadata": {},
   "outputs": [
    {
     "name": "stdout",
     "output_type": "stream",
     "text": [
      "1100\n"
     ]
    }
   ],
   "source": [
    "# case 1\n",
    "def addition(n1,n2=600):\n",
    "    add=n1+n2\n",
    "    print(add)\n",
    "\n",
    "addition(500)"
   ]
  },
  {
   "cell_type": "code",
   "execution_count": 17,
   "id": "b289b658-bee6-4ceb-9ee3-c6d8d1de4faa",
   "metadata": {},
   "outputs": [
    {
     "name": "stdout",
     "output_type": "stream",
     "text": [
      "1500\n"
     ]
    }
   ],
   "source": [
    "# case 2\n",
    "def addition(n1,n2):\n",
    "    add=n1+n2\n",
    "    print(add)\n",
    "\n",
    "addition(500,1000)\n",
    "\n",
    "# First we are defining function\n",
    "# while defining function we gibven n2=600\n",
    "# Now we are calling the function,\n",
    "# while we are calling n2=1000\n",
    "# so values will be over write \n",
    "# Python always takes the latest value\n"
   ]
  },
  {
   "cell_type": "code",
   "execution_count": 18,
   "id": "f2d62082-62da-4f7b-bcf4-de73aa5b0c14",
   "metadata": {},
   "outputs": [
    {
     "name": "stdout",
     "output_type": "stream",
     "text": [
      "2500\n"
     ]
    }
   ],
   "source": [
    "# case 3\n",
    "def addition(n1,n2=600):\n",
    "    n2=2000\n",
    "    add=n1+n2\n",
    "    print(add)\n",
    "\n",
    "addition(500,1000)\n",
    "\n",
    "# Step 1:  definingbthe function   n2=600\n",
    "# Step 2:  Call the function      n2=1000\n",
    "# Step 3:  Running the function   n2=2000"
   ]
  },
  {
   "cell_type": "code",
   "execution_count": 19,
   "id": "095854c4-aa53-49a0-8e2d-55b1f85e0ad4",
   "metadata": {},
   "outputs": [
    {
     "name": "stdout",
     "output_type": "stream",
     "text": [
      "2500\n"
     ]
    }
   ],
   "source": [
    "# case 4\n",
    "def addition(n1,n2=600):\n",
    "    n2=2000\n",
    "    add=n1+n2\n",
    "    print(add)\n",
    "n2=3000\n",
    "addition(500,1000)\n",
    "\n",
    "# n2= 600=====> 3000 ====> 1000 ===>2000"
   ]
  },
  {
   "cell_type": "markdown",
   "id": "4a711bb4-4482-4c57-af16-d4e3df7c4141",
   "metadata": {},
   "source": [
    "**Local variable and Global variable**\n",
    "\n",
    "- Local  variable means : The variables inside the function call\n",
    "\n",
    "- Global variable means : The variable outside the function call\n",
    "\n",
    "- Once you define the variable outside means, you can use those variables any where\n",
    "\n",
    "- You can use global variables inside the function also\n",
    "\n",
    "- But you can not use local variables outside the function\n",
    "\n"
   ]
  },
  {
   "cell_type": "code",
   "execution_count": 25,
   "id": "0f8d2607-d8b2-49ff-8a60-011f658ef523",
   "metadata": {},
   "outputs": [
    {
     "name": "stdout",
     "output_type": "stream",
     "text": [
      "200\n"
     ]
    }
   ],
   "source": [
    "def multiplication():\n",
    "    a=10\n",
    "    b=20\n",
    "    mul=a*b\n",
    "    print(mul)\n",
    "multiplication()\n",
    "# a,b, mul are local variables\n",
    "# these variables we can not use outside the function"
   ]
  },
  {
   "cell_type": "code",
   "execution_count": 26,
   "id": "ad6d18ef-4107-43ad-a306-febfca0f26ee",
   "metadata": {},
   "outputs": [
    {
     "ename": "NameError",
     "evalue": "name 'a' is not defined",
     "output_type": "error",
     "traceback": [
      "\u001b[1;31m---------------------------------------------------------------------------\u001b[0m",
      "\u001b[1;31mNameError\u001b[0m                                 Traceback (most recent call last)",
      "Cell \u001b[1;32mIn[26], line 1\u001b[0m\n\u001b[1;32m----> 1\u001b[0m a\n",
      "\u001b[1;31mNameError\u001b[0m: name 'a' is not defined"
     ]
    }
   ],
   "source": [
    "a"
   ]
  },
  {
   "cell_type": "code",
   "execution_count": 27,
   "id": "0d95feb7-a7fe-4989-8ece-c491948e0cac",
   "metadata": {},
   "outputs": [
    {
     "name": "stdout",
     "output_type": "stream",
     "text": [
      "20000\n"
     ]
    }
   ],
   "source": [
    "a1=100\n",
    "b1=200\n",
    "def multiplication():\n",
    "    mul=a1*b1           # a1,b1 are gloabal variables, can use inside the function\n",
    "    print(mul)\n",
    "multiplication()"
   ]
  },
  {
   "cell_type": "code",
   "execution_count": 28,
   "id": "a9c4cfb6-3f43-46c8-9342-f8e2657417ea",
   "metadata": {},
   "outputs": [
    {
     "data": {
      "text/plain": [
       "100"
      ]
     },
     "execution_count": 28,
     "metadata": {},
     "output_type": "execute_result"
    }
   ],
   "source": [
    "a1 # Global variable\n"
   ]
  },
  {
   "cell_type": "code",
   "execution_count": 29,
   "id": "0b7ddba1-a282-4124-b031-dcee04065b96",
   "metadata": {},
   "outputs": [
    {
     "ename": "NameError",
     "evalue": "name 'mul' is not defined",
     "output_type": "error",
     "traceback": [
      "\u001b[1;31m---------------------------------------------------------------------------\u001b[0m",
      "\u001b[1;31mNameError\u001b[0m                                 Traceback (most recent call last)",
      "Cell \u001b[1;32mIn[29], line 1\u001b[0m\n\u001b[1;32m----> 1\u001b[0m mul\n",
      "\u001b[1;31mNameError\u001b[0m: name 'mul' is not defined"
     ]
    }
   ],
   "source": [
    "mul # defined inside the function(local variable)"
   ]
  },
  {
   "cell_type": "code",
   "execution_count": 34,
   "id": "5256ae4a-ab9d-43be-abd9-3cbeb50a5133",
   "metadata": {},
   "outputs": [
    {
     "name": "stdout",
     "output_type": "stream",
     "text": [
      "1200\n"
     ]
    }
   ],
   "source": [
    "# case -5:\n",
    "a1=100\n",
    "b1=200\n",
    "def add11(a1=1000):\n",
    "    add=a1+b1           \n",
    "    print(add)\n",
    "add11()\n",
    "\n",
    "# a1=100  ===> a1=1000 ====>1000+200\n",
    "\n",
    "# step 1: Glabal variable initialization   a1=100\n",
    "# step 2: Define the function     a1=1000\n",
    "# step 3: Calling the function     a1=1000\n",
    "# step 4: Running the function     a1=1000"
   ]
  },
  {
   "cell_type": "code",
   "execution_count": 41,
   "id": "3de2f8b3-3309-46b5-b486-b2e9840680b4",
   "metadata": {},
   "outputs": [
    {
     "ename": "TypeError",
     "evalue": "add11() got an unexpected keyword argument 'b1'",
     "output_type": "error",
     "traceback": [
      "\u001b[1;31m---------------------------------------------------------------------------\u001b[0m",
      "\u001b[1;31mTypeError\u001b[0m                                 Traceback (most recent call last)",
      "Cell \u001b[1;32mIn[41], line 7\u001b[0m\n\u001b[0;32m      5\u001b[0m     add\u001b[38;5;241m=\u001b[39ma1\u001b[38;5;241m+\u001b[39mb1           \n\u001b[0;32m      6\u001b[0m     \u001b[38;5;28mprint\u001b[39m(add)\n\u001b[1;32m----> 7\u001b[0m add11(a1\u001b[38;5;241m=\u001b[39m\u001b[38;5;241m2000\u001b[39m,b1\u001b[38;5;241m=\u001b[39m\u001b[38;5;241m3000\u001b[39m)\n",
      "\u001b[1;31mTypeError\u001b[0m: add11() got an unexpected keyword argument 'b1'"
     ]
    }
   ],
   "source": [
    "# case -6:\n",
    "a1=100\n",
    "b1=200\n",
    "def add11(a1=100):\n",
    "    add=a1+b1           \n",
    "    print(add)\n",
    "add11(a1=2000,b1=3000)\n",
    "\n",
    "# while defining function only one argument is there\n",
    "# while calling the we are providing two arguments\n",
    "# It is not posiible"
   ]
  },
  {
   "cell_type": "code",
   "execution_count": 36,
   "id": "bb8172c8-da2f-4674-bc39-98026d45f93e",
   "metadata": {},
   "outputs": [
    {
     "name": "stdout",
     "output_type": "stream",
     "text": [
      "2200\n"
     ]
    }
   ],
   "source": [
    "# case -7:\n",
    "a1=100\n",
    "b1=200\n",
    "def add11(a1=1000):\n",
    "    add=a1+b1           \n",
    "    print(add)\n",
    "add11(a1=2000)"
   ]
  },
  {
   "cell_type": "code",
   "execution_count": 1,
   "id": "097b80ee-7c8b-42be-837e-a041fd952de3",
   "metadata": {},
   "outputs": [
    {
     "name": "stdout",
     "output_type": "stream",
     "text": [
      "5200\n"
     ]
    }
   ],
   "source": [
    "# case -8:\n",
    "a1=100\n",
    "b1=200\n",
    "def add11(a1=1000):\n",
    "    a1=5000\n",
    "    add=a1+b1           \n",
    "    print(add)\n",
    "add11(a1=2000)\n"
   ]
  },
  {
   "cell_type": "code",
   "execution_count": 42,
   "id": "76136280-ccb1-45d9-abda-ce1ccedf2a9c",
   "metadata": {},
   "outputs": [
    {
     "data": {
      "text/plain": [
       "100"
      ]
     },
     "execution_count": 42,
     "metadata": {},
     "output_type": "execute_result"
    }
   ],
   "source": [
    "a1"
   ]
  },
  {
   "cell_type": "code",
   "execution_count": 47,
   "id": "54fde4ff-ed7a-499d-ba6d-0790e57cff79",
   "metadata": {},
   "outputs": [
    {
     "name": "stdout",
     "output_type": "stream",
     "text": [
      "5200\n"
     ]
    }
   ],
   "source": [
    "# case -9:\n",
    "a1=100\n",
    "b1=200\n",
    "def add11(a1=1000):\n",
    "    a1=5000\n",
    "    add=a1+b1           \n",
    "    print(add)\n",
    "a1=6000\n",
    "add11(a1=2000)\n",
    "\n",
    "# a1=100\n",
    "# b1=200\n",
    "# defining the function  a1=1000\n",
    "#a1=6000\n",
    "# Calling the function a1=2000\n",
    "# Running the function a1=5000\n",
    "# a1=5000+b1=200   =====>5000+200 =5200"
   ]
  },
  {
   "cell_type": "code",
   "execution_count": 44,
   "id": "6b2860b7-3573-43e1-a4e6-7bf748ec5c7e",
   "metadata": {},
   "outputs": [
    {
     "data": {
      "text/plain": [
       "6000"
      ]
     },
     "execution_count": 44,
     "metadata": {},
     "output_type": "execute_result"
    }
   ],
   "source": [
    "a1"
   ]
  },
  {
   "cell_type": "code",
   "execution_count": 46,
   "id": "da1304c6-6e49-44f2-b10b-8cf77f6bb926",
   "metadata": {},
   "outputs": [
    {
     "name": "stdout",
     "output_type": "stream",
     "text": [
      "6200\n"
     ]
    }
   ],
   "source": [
    "# case -10:\n",
    "b1=200\n",
    "def add11():\n",
    "    add=a1+b1           \n",
    "    print(add)\n",
    "a1=6000    \n",
    "add11()\n",
    "\n",
    "# b1=200\n",
    "# define the function\n",
    "# a1= 6000\n",
    "# Calling the function\n",
    "# running the function\n"
   ]
  },
  {
   "cell_type": "code",
   "execution_count": 48,
   "id": "a3247a22-3c1b-4287-bd56-9e0338ee0c93",
   "metadata": {},
   "outputs": [
    {
     "ename": "NameError",
     "evalue": "name 'a21' is not defined",
     "output_type": "error",
     "traceback": [
      "\u001b[1;31m---------------------------------------------------------------------------\u001b[0m",
      "\u001b[1;31mNameError\u001b[0m                                 Traceback (most recent call last)",
      "Cell \u001b[1;32mIn[48], line 6\u001b[0m\n\u001b[0;32m      4\u001b[0m     add\u001b[38;5;241m=\u001b[39ma21\u001b[38;5;241m+\u001b[39mb21           \n\u001b[0;32m      5\u001b[0m     \u001b[38;5;28mprint\u001b[39m(add)  \n\u001b[1;32m----> 6\u001b[0m add11()\n\u001b[0;32m      7\u001b[0m a21\u001b[38;5;241m=\u001b[39m\u001b[38;5;241m6000\u001b[39m\n",
      "Cell \u001b[1;32mIn[48], line 4\u001b[0m, in \u001b[0;36madd11\u001b[1;34m()\u001b[0m\n\u001b[0;32m      3\u001b[0m \u001b[38;5;28;01mdef\u001b[39;00m \u001b[38;5;21madd11\u001b[39m():\n\u001b[1;32m----> 4\u001b[0m     add\u001b[38;5;241m=\u001b[39ma21\u001b[38;5;241m+\u001b[39mb21           \n\u001b[0;32m      5\u001b[0m     \u001b[38;5;28mprint\u001b[39m(add)\n",
      "\u001b[1;31mNameError\u001b[0m: name 'a21' is not defined"
     ]
    }
   ],
   "source": [
    "# case -10:\n",
    "b21=200\n",
    "def add11():\n",
    "    add=a21+b21           \n",
    "    print(add)  \n",
    "add11()\n",
    "a21=6000  "
   ]
  },
  {
   "cell_type": "code",
   "execution_count": 4,
   "id": "333be8b4-3bf1-4af3-a94c-883aa7d3928c",
   "metadata": {},
   "outputs": [
    {
     "ename": "UnboundLocalError",
     "evalue": "cannot access local variable 's' where it is not associated with a value",
     "output_type": "error",
     "traceback": [
      "\u001b[1;31m---------------------------------------------------------------------------\u001b[0m",
      "\u001b[1;31mUnboundLocalError\u001b[0m                         Traceback (most recent call last)",
      "Cell \u001b[1;32mIn[4], line 5\u001b[0m\n\u001b[0;32m      3\u001b[0m     s\u001b[38;5;241m=\u001b[39ms\u001b[38;5;241m+\u001b[39m\u001b[38;5;241m10\u001b[39m\n\u001b[0;32m      4\u001b[0m     \u001b[38;5;28mprint\u001b[39m(s)\n\u001b[1;32m----> 5\u001b[0m add19()\n",
      "Cell \u001b[1;32mIn[4], line 3\u001b[0m, in \u001b[0;36madd19\u001b[1;34m()\u001b[0m\n\u001b[0;32m      2\u001b[0m \u001b[38;5;28;01mdef\u001b[39;00m \u001b[38;5;21madd19\u001b[39m():\n\u001b[1;32m----> 3\u001b[0m     s\u001b[38;5;241m=\u001b[39ms\u001b[38;5;241m+\u001b[39m\u001b[38;5;241m10\u001b[39m\n\u001b[0;32m      4\u001b[0m     \u001b[38;5;28mprint\u001b[39m(s)\n",
      "\u001b[1;31mUnboundLocalError\u001b[0m: cannot access local variable 's' where it is not associated with a value"
     ]
    }
   ],
   "source": [
    "s=0\n",
    "def add19():\n",
    "    s=s+10    #local variable\n",
    "    print(s)\n",
    "add19()"
   ]
  },
  {
   "cell_type": "code",
   "execution_count": 5,
   "id": "7565b8c6-179a-454c-af77-904753ba85bc",
   "metadata": {},
   "outputs": [
    {
     "name": "stdout",
     "output_type": "stream",
     "text": [
      "10\n"
     ]
    }
   ],
   "source": [
    "a=0\n",
    "def add19():\n",
    "    s=a+10\n",
    "    print(s)\n",
    "add19()"
   ]
  },
  {
   "cell_type": "code",
   "execution_count": 8,
   "id": "a8ad4d72-1c6a-4a94-bdf2-8e8134169306",
   "metadata": {},
   "outputs": [
    {
     "ename": "UnboundLocalError",
     "evalue": "cannot access local variable 's' where it is not associated with a value",
     "output_type": "error",
     "traceback": [
      "\u001b[1;31m---------------------------------------------------------------------------\u001b[0m",
      "\u001b[1;31mUnboundLocalError\u001b[0m                         Traceback (most recent call last)",
      "Cell \u001b[1;32mIn[8], line 6\u001b[0m\n\u001b[0;32m      4\u001b[0m     s\u001b[38;5;241m=\u001b[39mc   \u001b[38;5;66;03m#local variable\u001b[39;00m\n\u001b[0;32m      5\u001b[0m     \u001b[38;5;28mprint\u001b[39m(s)\n\u001b[1;32m----> 6\u001b[0m add19()\n",
      "Cell \u001b[1;32mIn[8], line 3\u001b[0m, in \u001b[0;36madd19\u001b[1;34m()\u001b[0m\n\u001b[0;32m      2\u001b[0m \u001b[38;5;28;01mdef\u001b[39;00m \u001b[38;5;21madd19\u001b[39m():\n\u001b[1;32m----> 3\u001b[0m     c\u001b[38;5;241m=\u001b[39ms\u001b[38;5;241m+\u001b[39m\u001b[38;5;241m10\u001b[39m\n\u001b[0;32m      4\u001b[0m     s\u001b[38;5;241m=\u001b[39mc   \u001b[38;5;66;03m#local variable\u001b[39;00m\n\u001b[0;32m      5\u001b[0m     \u001b[38;5;28mprint\u001b[39m(s)\n",
      "\u001b[1;31mUnboundLocalError\u001b[0m: cannot access local variable 's' where it is not associated with a value"
     ]
    }
   ],
   "source": [
    "# ****\n",
    "s=0\n",
    "def add19():\n",
    "    c=s+10\n",
    "    s=c   #local variable\n",
    "    print(s)\n",
    "add19()"
   ]
  },
  {
   "cell_type": "code",
   "execution_count": 11,
   "id": "b6606541-415c-4238-b313-923519d75ab4",
   "metadata": {},
   "outputs": [
    {
     "name": "stdout",
     "output_type": "stream",
     "text": [
      "100 200 300\n"
     ]
    }
   ],
   "source": [
    "n10=10\n",
    "def addition19():\n",
    "    n10=100\n",
    "    n20=200\n",
    "    n30=n10+n20\n",
    "    print(n10,n20,n30)\n",
    "addition19()\n",
    "\n",
    "#"
   ]
  },
  {
   "cell_type": "code",
   "execution_count": 12,
   "id": "d7f9de21-a95c-4ba6-ade0-1f17e68bb5ae",
   "metadata": {},
   "outputs": [
    {
     "ename": "UnboundLocalError",
     "evalue": "cannot access local variable 'n10' where it is not associated with a value",
     "output_type": "error",
     "traceback": [
      "\u001b[1;31m---------------------------------------------------------------------------\u001b[0m",
      "\u001b[1;31mUnboundLocalError\u001b[0m                         Traceback (most recent call last)",
      "Cell \u001b[1;32mIn[12], line 7\u001b[0m\n\u001b[0;32m      5\u001b[0m     n30\u001b[38;5;241m=\u001b[39mn10\u001b[38;5;241m+\u001b[39mn20\n\u001b[0;32m      6\u001b[0m     \u001b[38;5;28mprint\u001b[39m(n10,n20,n30)\n\u001b[1;32m----> 7\u001b[0m addition19()\n",
      "Cell \u001b[1;32mIn[12], line 3\u001b[0m, in \u001b[0;36maddition19\u001b[1;34m()\u001b[0m\n\u001b[0;32m      2\u001b[0m \u001b[38;5;28;01mdef\u001b[39;00m \u001b[38;5;21maddition19\u001b[39m():\n\u001b[1;32m----> 3\u001b[0m     n10\u001b[38;5;241m=\u001b[39m\u001b[38;5;241m100\u001b[39m\u001b[38;5;241m+\u001b[39mn10\n\u001b[0;32m      4\u001b[0m     n20\u001b[38;5;241m=\u001b[39m\u001b[38;5;241m200\u001b[39m\n\u001b[0;32m      5\u001b[0m     n30\u001b[38;5;241m=\u001b[39mn10\u001b[38;5;241m+\u001b[39mn20\n",
      "\u001b[1;31mUnboundLocalError\u001b[0m: cannot access local variable 'n10' where it is not associated with a value"
     ]
    }
   ],
   "source": [
    "n10=10\n",
    "def addition19():\n",
    "    n10=100+n10\n",
    "    n20=200\n",
    "    n30=n10+n20\n",
    "    print(n10,n20,n30)\n",
    "addition19()\n"
   ]
  },
  {
   "cell_type": "code",
   "execution_count": null,
   "id": "9e4fb4c8-0df6-4054-a0fa-cfc32d3498d9",
   "metadata": {},
   "outputs": [],
   "source": [
    "**Note**\n",
    "\n",
    "- if you give same variable as global variable and local variable\n",
    "\n",
    "- make sure that variable should not "
   ]
  },
  {
   "cell_type": "code",
   "execution_count": 14,
   "id": "0c219662-38ac-40a5-b6fb-18fa51cc447b",
   "metadata": {},
   "outputs": [
    {
     "name": "stdout",
     "output_type": "stream",
     "text": [
      "100 300 400\n"
     ]
    }
   ],
   "source": [
    "n10=100\n",
    "def addition19():\n",
    "    n20=200+n10\n",
    "    n30=n10+n20\n",
    "    print(n10,n20,n30)\n",
    "addition19()\n",
    "\n",
    "#step1: n10=100\n",
    "# step2: define the function\n",
    "# step3: call the function \n",
    "# step4: run the function\n",
    "#        n10 global variable passing inside the function(yes)\n",
    "#        n20=200+n10=200+100\n",
    "#        n30=100+300\n",
    "#        print(100,300,400)"
   ]
  },
  {
   "cell_type": "code",
   "execution_count": null,
   "id": "80b92c40-eb8c-4462-b298-74c084b483da",
   "metadata": {},
   "outputs": [],
   "source": [
    "s=0\n",
    "def add19():\n",
    "    c=s+10\n",
    "    s=c   #local variable\n",
    "    print(s)\n",
    "add19()\n",
    "\n",
    "#step1: s=0\n",
    "# step2: define the function\n",
    "# step3: call the function \n",
    "# step4: run the function\n",
    "#        c is lv :c=s+10=c=10\n",
    "#         we are creating a new variable same like global variable 's'\n",
    "# we are creating a variable with same name as global variable\n",
    "# by using global variable"
   ]
  },
  {
   "cell_type": "code",
   "execution_count": 2,
   "id": "6f770372-e38b-4f31-86f0-7d72da7b64c7",
   "metadata": {},
   "outputs": [
    {
     "name": "stdout",
     "output_type": "stream",
     "text": [
      "Hello\n"
     ]
    }
   ],
   "source": [
    "value=100\n",
    "def great():\n",
    "    value=200\n",
    "    print(\"Hello\")\n",
    "great()\n",
    "\n",
    "# Here we are not using GV for development,simply updating"
   ]
  },
  {
   "cell_type": "code",
   "execution_count": 17,
   "id": "199f0368-e10d-4dd7-bde2-bef769fb4a2b",
   "metadata": {},
   "outputs": [
    {
     "data": {
      "text/plain": [
       "100"
      ]
     },
     "execution_count": 17,
     "metadata": {},
     "output_type": "execute_result"
    }
   ],
   "source": [
    "value"
   ]
  },
  {
   "cell_type": "code",
   "execution_count": null,
   "id": "ec4c4916-a293-4f47-b047-41f150ea33c8",
   "metadata": {},
   "outputs": [],
   "source": [
    "**global**\n",
    "\n",
    "- global keyword is used to take the local variable value outside the function"
   ]
  },
  {
   "cell_type": "code",
   "execution_count": 20,
   "id": "f2dd313c-41da-41df-ae76-3f700244b131",
   "metadata": {},
   "outputs": [
    {
     "name": "stdout",
     "output_type": "stream",
     "text": [
      "Hello\n",
      "value 200\n"
     ]
    }
   ],
   "source": [
    "# *******\n",
    "value=100\n",
    "def great():\n",
    "    global value\n",
    "    value=200\n",
    "    print(\"Hello\")\n",
    "great()\n",
    "print('value',value)"
   ]
  },
  {
   "cell_type": "code",
   "execution_count": 25,
   "id": "f61081e3-1e07-4beb-94c4-835d59dbc937",
   "metadata": {},
   "outputs": [
    {
     "name": "stdout",
     "output_type": "stream",
     "text": [
      "10 210 220\n",
      "n33: 220\n",
      "n22: 210\n"
     ]
    }
   ],
   "source": [
    "n11=10\n",
    "def addition19():\n",
    "    global n33,n22\n",
    "    n22=200+n11\n",
    "    n33=n11+n22\n",
    "    print(n11,n22,n33)\n",
    "addition19()\n",
    "print(\"n33:\",n33)\n",
    "print(\"n22:\",n22)"
   ]
  },
  {
   "cell_type": "markdown",
   "id": "7f6d57e5-384a-4fb8-bc5d-1897181c8595",
   "metadata": {},
   "source": [
    "- Outisde the function is called Global variable\n",
    "\n",
    "- Inside the function is called Local varible\n",
    "\n",
    "- Local variable can not use outside the funtion\n",
    "\n",
    "- if you want to use outside the function use **global** keyword"
   ]
  },
  {
   "cell_type": "code",
   "execution_count": 30,
   "id": "faba49e0-a8d1-48c0-a210-701c61f38c0a",
   "metadata": {},
   "outputs": [
    {
     "name": "stdin",
     "output_type": "stream",
     "text": [
      " 20\n",
      " 90\n"
     ]
    },
    {
     "name": "stdout",
     "output_type": "stream",
     "text": [
      "1800\n"
     ]
    }
   ],
   "source": [
    "def mul(a,b):\n",
    "    print(a*b)\n",
    "mul(eval(input()),\n",
    "    eval(input()))\n",
    "    "
   ]
  },
  {
   "cell_type": "markdown",
   "id": "577464a9-4701-4e6f-b2c7-9f4cc9acebee",
   "metadata": {},
   "source": [
    "**Return**\n"
   ]
  },
  {
   "cell_type": "markdown",
   "id": "49f6c743-880a-4ecf-aaf8-7cf9b4be2022",
   "metadata": {},
   "source": [
    "- we can use local variable values or function outputs outside the function using return\n",
    "\n",
    "- print is different and return is different\n",
    "\n",
    "- print is used to only to print the values \n",
    "\n",
    "- that values you can only see,but you cann not use\n",
    "\n",
    "- if you want to use outside we will use return(it is possible by using global also)"
   ]
  },
  {
   "cell_type": "code",
   "execution_count": 35,
   "id": "e40a4bed-f79b-4802-b78e-775348c36d2e",
   "metadata": {},
   "outputs": [],
   "source": [
    "def average():\n",
    "    n1=100\n",
    "    n2=20\n",
    "    n3=30\n",
    "    avg=(n1+n2+n3)/3\n",
    "    return(avg)\n",
    "avg=average()\n",
    "\n",
    "\n",
    "\n",
    "# function is ready to return values to me\n",
    "# I need to store the value in a variable\n"
   ]
  },
  {
   "cell_type": "code",
   "execution_count": 36,
   "id": "f43ea8d3-23b2-4a6d-8bf9-83e0670bc340",
   "metadata": {},
   "outputs": [
    {
     "data": {
      "text/plain": [
       "50.0"
      ]
     },
     "execution_count": 36,
     "metadata": {},
     "output_type": "execute_result"
    }
   ],
   "source": [
    "avg"
   ]
  },
  {
   "cell_type": "code",
   "execution_count": 37,
   "id": "6f4d8e4e-0b9c-4122-816c-f352ae92ca0d",
   "metadata": {},
   "outputs": [],
   "source": [
    "def average():\n",
    "    n1=100\n",
    "    n2=20\n",
    "    n3=30\n",
    "    avg=(n1+n2+n3)/3\n",
    "    return(avg,n3)\n",
    "avg,n3=average()\n",
    "\n",
    "# How many values we are returning\n",
    "# we will store each return values in different varaible\n",
    "# because two variables are different\n",
    "# if you use only variable to store:tuple value"
   ]
  },
  {
   "cell_type": "code",
   "execution_count": 38,
   "id": "758a71dd-3ac6-43bb-99dc-3b1cac4c92c8",
   "metadata": {},
   "outputs": [
    {
     "data": {
      "text/plain": [
       "(50.0, 30)"
      ]
     },
     "execution_count": 38,
     "metadata": {},
     "output_type": "execute_result"
    }
   ],
   "source": [
    "avg,n3"
   ]
  },
  {
   "cell_type": "code",
   "execution_count": 53,
   "id": "37c8ef14-856e-45c5-b107-d31f7d13545c",
   "metadata": {},
   "outputs": [
    {
     "data": {
      "text/plain": [
       "190"
      ]
     },
     "execution_count": 53,
     "metadata": {},
     "output_type": "execute_result"
    }
   ],
   "source": [
    "def sub():\n",
    "    a=10\n",
    "    b=200\n",
    "    subb=b-a\n",
    "    return(subb)\n",
    "sub()"
   ]
  },
  {
   "cell_type": "code",
   "execution_count": 47,
   "id": "b161204a-124b-4c78-b5ff-f7a3fa2012f4",
   "metadata": {},
   "outputs": [
    {
     "data": {
      "text/plain": [
       "-10"
      ]
     },
     "execution_count": 47,
     "metadata": {},
     "output_type": "execute_result"
    }
   ],
   "source": [
    "subb"
   ]
  },
  {
   "cell_type": "code",
   "execution_count": 4,
   "id": "8516cfb7-7dcf-43c2-9899-b018716ffdb1",
   "metadata": {},
   "outputs": [
    {
     "name": "stdout",
     "output_type": "stream",
     "text": [
      "190 10 200\n"
     ]
    }
   ],
   "source": [
    "def sub():\n",
    "    a=10\n",
    "    b=200\n",
    "    subb=b-a\n",
    "    return(subb,a,b)\n",
    "subb,a,b=sub()\n",
    "print(subb,a,b)"
   ]
  },
  {
   "cell_type": "markdown",
   "id": "bac35e2e-cf58-44df-9b82-5e05294d36d8",
   "metadata": {},
   "source": [
    "- with argumenets\n",
    "\n",
    "- without arguments\n",
    "\n",
    "- default arguments\n",
    "\n",
    "- local vs global\n",
    "\n",
    "- global keyword\n",
    "\n",
    "- return\n",
    "\n",
    "- function in function\n",
    "\n",
    "- kwargs"
   ]
  },
  {
   "cell_type": "markdown",
   "id": "060a4a14-74b2-4f7a-af7f-87f8197699b6",
   "metadata": {},
   "source": [
    "**Unbound local error**"
   ]
  },
  {
   "cell_type": "code",
   "execution_count": 9,
   "id": "b2d4ee0f-8d90-4a70-a955-8034e21b4a0e",
   "metadata": {},
   "outputs": [
    {
     "name": "stdout",
     "output_type": "stream",
     "text": [
      "100\n",
      "Outside function 10\n"
     ]
    }
   ],
   "source": [
    "num1=10   #gv\n",
    "def fun1():\n",
    "    num1=100   #Lv\n",
    "    print(\"inside function:\",num1)\n",
    "fun1()\n",
    "print(\"Outside function\",num1)"
   ]
  },
  {
   "cell_type": "code",
   "execution_count": 12,
   "id": "896ae4a1-ab12-4465-915e-675c9d32722a",
   "metadata": {},
   "outputs": [
    {
     "ename": "UnboundLocalError",
     "evalue": "cannot access local variable 'num2' where it is not associated with a value",
     "output_type": "error",
     "traceback": [
      "\u001b[1;31m---------------------------------------------------------------------------\u001b[0m",
      "\u001b[1;31mUnboundLocalError\u001b[0m                         Traceback (most recent call last)",
      "Cell \u001b[1;32mIn[12], line 5\u001b[0m\n\u001b[0;32m      3\u001b[0m     \u001b[38;5;28mprint\u001b[39m(num2)     \n\u001b[0;32m      4\u001b[0m     num2\u001b[38;5;241m=\u001b[39m\u001b[38;5;241m100\u001b[39m        \u001b[38;5;66;03m#lv\u001b[39;00m\n\u001b[1;32m----> 5\u001b[0m fun2()\n",
      "Cell \u001b[1;32mIn[12], line 3\u001b[0m, in \u001b[0;36mfun2\u001b[1;34m()\u001b[0m\n\u001b[0;32m      2\u001b[0m \u001b[38;5;28;01mdef\u001b[39;00m \u001b[38;5;21mfun2\u001b[39m():\n\u001b[1;32m----> 3\u001b[0m     \u001b[38;5;28mprint\u001b[39m(num2)     \n\u001b[0;32m      4\u001b[0m     num2\u001b[38;5;241m=\u001b[39m\u001b[38;5;241m100\u001b[39m\n",
      "\u001b[1;31mUnboundLocalError\u001b[0m: cannot access local variable 'num2' where it is not associated with a value"
     ]
    }
   ],
   "source": [
    "num2=10           #gb\n",
    "def fun2():\n",
    "    print(num2)     \n",
    "    num2=100        #lv\n",
    "fun2()\n"
   ]
  },
  {
   "cell_type": "code",
   "execution_count": 11,
   "id": "36d39b35-349f-434c-b32c-d3eed7c174a6",
   "metadata": {},
   "outputs": [
    {
     "ename": "UnboundLocalError",
     "evalue": "cannot access local variable 'num2' where it is not associated with a value",
     "output_type": "error",
     "traceback": [
      "\u001b[1;31m---------------------------------------------------------------------------\u001b[0m",
      "\u001b[1;31mUnboundLocalError\u001b[0m                         Traceback (most recent call last)",
      "Cell \u001b[1;32mIn[11], line 5\u001b[0m\n\u001b[0;32m      3\u001b[0m     \u001b[38;5;28mprint\u001b[39m(num2)     \n\u001b[0;32m      4\u001b[0m     num2\u001b[38;5;241m=\u001b[39m\u001b[38;5;241m100\u001b[39m        \u001b[38;5;66;03m#lv\u001b[39;00m\n\u001b[1;32m----> 5\u001b[0m fun2()\n",
      "Cell \u001b[1;32mIn[11], line 3\u001b[0m, in \u001b[0;36mfun2\u001b[1;34m()\u001b[0m\n\u001b[0;32m      2\u001b[0m \u001b[38;5;28;01mdef\u001b[39;00m \u001b[38;5;21mfun2\u001b[39m():\n\u001b[1;32m----> 3\u001b[0m     \u001b[38;5;28mprint\u001b[39m(num2)     \n\u001b[0;32m      4\u001b[0m     num2\u001b[38;5;241m=\u001b[39m\u001b[38;5;241m100\u001b[39m\n",
      "\u001b[1;31mUnboundLocalError\u001b[0m: cannot access local variable 'num2' where it is not associated with a value"
     ]
    }
   ],
   "source": [
    "          #gb\n",
    "def fun2():\n",
    "    print(num2)     \n",
    "    num2=100        #lv\n",
    "fun2()\n",
    "\n",
    "#name error will come\n",
    "# local variable and global variable both names are same\n",
    "# you are trying to access local variables before assign"
   ]
  },
  {
   "cell_type": "code",
   "execution_count": 14,
   "id": "636aaf10-4369-45ec-9e20-0a3a05807cb1",
   "metadata": {},
   "outputs": [
    {
     "ename": "UnboundLocalError",
     "evalue": "cannot access local variable 'a1' where it is not associated with a value",
     "output_type": "error",
     "traceback": [
      "\u001b[1;31m---------------------------------------------------------------------------\u001b[0m",
      "\u001b[1;31mUnboundLocalError\u001b[0m                         Traceback (most recent call last)",
      "Cell \u001b[1;32mIn[14], line 7\u001b[0m\n\u001b[0;32m      5\u001b[0m     a1\u001b[38;5;241m=\u001b[39m\u001b[38;5;241m100\u001b[39m\n\u001b[0;32m      6\u001b[0m     \u001b[38;5;28mprint\u001b[39m(add1)\n\u001b[1;32m----> 7\u001b[0m add1()\n",
      "Cell \u001b[1;32mIn[14], line 4\u001b[0m, in \u001b[0;36madd1\u001b[1;34m()\u001b[0m\n\u001b[0;32m      3\u001b[0m \u001b[38;5;28;01mdef\u001b[39;00m \u001b[38;5;21madd1\u001b[39m():\n\u001b[1;32m----> 4\u001b[0m     add1\u001b[38;5;241m=\u001b[39ma1\u001b[38;5;241m+\u001b[39mb1\n\u001b[0;32m      5\u001b[0m     a1\u001b[38;5;241m=\u001b[39m\u001b[38;5;241m100\u001b[39m\n\u001b[0;32m      6\u001b[0m     \u001b[38;5;28mprint\u001b[39m(add1)\n",
      "\u001b[1;31mUnboundLocalError\u001b[0m: cannot access local variable 'a1' where it is not associated with a value"
     ]
    }
   ],
   "source": [
    "a1=100\n",
    "b1=200\n",
    "def add1():\n",
    "    add1=a1+b1\n",
    "    a1=100\n",
    "    print(add1)\n",
    "add1()"
   ]
  },
  {
   "cell_type": "code",
   "execution_count": 17,
   "id": "8d9e6209-0626-46fd-94a9-256ebb0fa056",
   "metadata": {},
   "outputs": [
    {
     "name": "stdout",
     "output_type": "stream",
     "text": [
      "300\n",
      "1500\n"
     ]
    }
   ],
   "source": [
    "a1=100\n",
    "b1=200\n",
    "def add1():\n",
    "    add1=a1+b1\n",
    "    print(add1)\n",
    "add1()\n",
    "\n",
    "# here no lv as same name as gv\n",
    "\n",
    "\n",
    "##################################################################\n",
    "a1=100\n",
    "b1=200\n",
    "def add1():\n",
    "    a1=700\n",
    "    b1=800\n",
    "    add1=a1+b1    # using same gv and lv but we doing initilization before performing addition\n",
    "    print(add1)\n",
    "add1()\n",
    "# we are not initializing lv names same as gv\n",
    "# we are using lv after initialization\n",
    "\n",
    "####################################################################3\n",
    "\n",
    "\n",
    "\n",
    "# we are not initializing local varibles \n",
    "# with same name as global varibles"
   ]
  },
  {
   "cell_type": "code",
   "execution_count": 16,
   "id": "ff1400d8-e039-4b41-969a-1f379319070c",
   "metadata": {},
   "outputs": [
    {
     "ename": "UnboundLocalError",
     "evalue": "cannot access local variable 'a1' where it is not associated with a value",
     "output_type": "error",
     "traceback": [
      "\u001b[1;31m---------------------------------------------------------------------------\u001b[0m",
      "\u001b[1;31mUnboundLocalError\u001b[0m                         Traceback (most recent call last)",
      "Cell \u001b[1;32mIn[16], line 8\u001b[0m\n\u001b[0;32m      6\u001b[0m     b1\u001b[38;5;241m=\u001b[39m\u001b[38;5;241m800\u001b[39m\n\u001b[0;32m      7\u001b[0m     \u001b[38;5;28mprint\u001b[39m(add1)\n\u001b[1;32m----> 8\u001b[0m add1()\n",
      "Cell \u001b[1;32mIn[16], line 4\u001b[0m, in \u001b[0;36madd1\u001b[1;34m()\u001b[0m\n\u001b[0;32m      3\u001b[0m \u001b[38;5;28;01mdef\u001b[39;00m \u001b[38;5;21madd1\u001b[39m():\n\u001b[1;32m----> 4\u001b[0m     add1\u001b[38;5;241m=\u001b[39ma1\u001b[38;5;241m+\u001b[39mb1\n\u001b[0;32m      5\u001b[0m     a1\u001b[38;5;241m=\u001b[39m\u001b[38;5;241m900\u001b[39m\n\u001b[0;32m      6\u001b[0m     b1\u001b[38;5;241m=\u001b[39m\u001b[38;5;241m800\u001b[39m\n",
      "\u001b[1;31mUnboundLocalError\u001b[0m: cannot access local variable 'a1' where it is not associated with a value"
     ]
    }
   ],
   "source": [
    "a1=100\n",
    "b1=200\n",
    "def add1():\n",
    "    add1=a1+b1\n",
    "    a1=900\n",
    "    b1=800\n",
    "    print(add1)\n",
    "add1()\n",
    "\n",
    "# gv and lv are same\n",
    "# we are trying to access the lv before assigning"
   ]
  },
  {
   "cell_type": "markdown",
   "id": "314fc24f-8f21-40c6-9fbe-bb545484720e",
   "metadata": {},
   "source": [
    "**No error**\n",
    "\n",
    "  -  here no local variable as same name as global variable\n",
    "\n",
    "  -   we are not initializing lv names same as gv\n",
    "\n",
    "       - we are using lv after initialization\n",
    "\n",
    "**Error**\n",
    "\n",
    "-  we are not initializing lv names same as gv\n",
    "\n",
    "    - we are using lv before initialization"
   ]
  },
  {
   "cell_type": "code",
   "execution_count": null,
   "id": "50388282-93b5-4a8c-986d-40784b0ed571",
   "metadata": {},
   "outputs": [],
   "source": [
    "r=200\n",
    "def add0():\n",
    "    add=r+s\n",
    "    print(add)\n",
    "add0()"
   ]
  },
  {
   "cell_type": "markdown",
   "id": "40aa8575-fcae-400f-8993-da0cebaad605",
   "metadata": {},
   "source": [
    "**Functions in Functions**"
   ]
  },
  {
   "cell_type": "code",
   "execution_count": 18,
   "id": "d6078dc8-aaab-4dcf-a539-2495b03d7cca",
   "metadata": {},
   "outputs": [
    {
     "name": "stdout",
     "output_type": "stream",
     "text": [
      "Hello Good morning\n",
      "Good night!\n"
     ]
    }
   ],
   "source": [
    "def greet1():\n",
    "    print('Hello Good morning')\n",
    "\n",
    "def greet2():\n",
    "    print(\"Good night!\")\n",
    "\n",
    "greet1()\n",
    "greet2()"
   ]
  },
  {
   "cell_type": "code",
   "execution_count": 20,
   "id": "892a3c78-1573-4c62-bc69-c92917dd5242",
   "metadata": {},
   "outputs": [
    {
     "name": "stdout",
     "output_type": "stream",
     "text": [
      "Hello Good morning\n",
      "Good night!\n"
     ]
    }
   ],
   "source": [
    "def greet2():\n",
    "    print(\"Good night!\")\n",
    "\n",
    "def greet1():\n",
    "    print('Hello Good morning')\n",
    "    greet2()\n",
    "\n",
    "greet1()\n",
    "\n",
    "# hello gm\n",
    "# gd nyt!"
   ]
  },
  {
   "cell_type": "code",
   "execution_count": 22,
   "id": "cbe409ea-a4c8-497d-b96c-92732f97552a",
   "metadata": {},
   "outputs": [
    {
     "name": "stdout",
     "output_type": "stream",
     "text": [
      "Hello Good morning\n",
      "Good night!\n"
     ]
    }
   ],
   "source": [
    "def greet2():\n",
    "    print(\"Good night!\")\n",
    "    #greet1()\n",
    "def greet1():\n",
    "    print('Hello Good morning')\n",
    "    greet2()\n",
    "\n",
    "greet1()\n",
    "\n",
    "# hello gm\n",
    "# greet2====>gd nyt\n",
    "# greet1 ===> hello gd mrng\n",
    "# never ending story(infinite loop)"
   ]
  },
  {
   "cell_type": "markdown",
   "id": "89c5e7db-2a89-411b-9cca-b142ad74a312",
   "metadata": {},
   "source": [
    "- Functions without arguments\n",
    "\n",
    "- Functions with arguments\n",
    "\n",
    "- Functions default arguments\n",
    "\n",
    "- Global Vs local variable\n",
    "\n",
    "- Global\n",
    "\n",
    "- return statement\n",
    "\n",
    "- unbound local error\n",
    "\n",
    "- function in function"
   ]
  },
  {
   "cell_type": "markdown",
   "id": "180461a7-8eaa-4730-88a6-f37f288a8da0",
   "metadata": {},
   "source": [
    "**Function without arguments**"
   ]
  },
  {
   "cell_type": "code",
   "execution_count": 24,
   "id": "21953695-8a10-4376-b4f9-84583da6f00f",
   "metadata": {},
   "outputs": [
    {
     "name": "stdin",
     "output_type": "stream",
     "text": [
      "Enter the distance: 30\n",
      "Enter the cut off distance: 20\n"
     ]
    },
    {
     "name": "stdout",
     "output_type": "stream",
     "text": [
      "good news your charge is aplicable for only remaining of 25\n"
     ]
    },
    {
     "name": "stdin",
     "output_type": "stream",
     "text": [
      "Enter the charge: 30\n"
     ]
    },
    {
     "name": "stdout",
     "output_type": "stream",
     "text": [
      "The total cost for the remaining distance 10km is 300\n"
     ]
    }
   ],
   "source": [
    "\n",
    "def calculating_chargeble_distance():\n",
    "     dist=eval(input(\"Enter the distance:\"))\n",
    "     cutoff_distance=eval(input(\"Enter the cut off distance:\"))\n",
    "     if dist> 25:\n",
    "         print(\"good news your charge is aplicable for only remaining of 25\")\n",
    "         chargeble_distance= dist - cutoff_distance\n",
    "         charge=eval(input(\"Enter the charge:\"))\n",
    "         total_cost=chargeble_distance*charge\n",
    "         print(f\"The total cost for the remaining distance {chargeble_distance}km is {total_cost}\")\n",
    "     else:\n",
    "         print(\"Free ride\")\n",
    "calculating_chargeble_distance()"
   ]
  },
  {
   "cell_type": "markdown",
   "id": "093d1db2-6451-4558-9173-10bda210a159",
   "metadata": {},
   "source": [
    "**Function with arguments**"
   ]
  },
  {
   "cell_type": "code",
   "execution_count": 29,
   "id": "fcba72aa-ad6a-4df1-9f06-f3937a8bbcf1",
   "metadata": {},
   "outputs": [
    {
     "name": "stdout",
     "output_type": "stream",
     "text": [
      "good news your charge is aplicable for only remaining of 25\n",
      "The total cost for the remaining distance 70km is 700\n"
     ]
    }
   ],
   "source": [
    "def calculating_chargeble_distance(dist,cutoff_distance,charge):\n",
    "    \n",
    "     if dist> 25:\n",
    "         print(\"good news your charge is aplicable for only remaining of 25\")\n",
    "         chargeble_distance= dist - cutoff_distance\n",
    "         total_cost=chargeble_distance*charge\n",
    "         print(f\"The total cost for the remaining distance {chargeble_distance}km is {total_cost}\")\n",
    "     else:\n",
    "         print(\"Free ride\")\n",
    "calculating_chargeble_distance(90,20,10)"
   ]
  },
  {
   "cell_type": "markdown",
   "id": "8125779b-4a10-4512-90fb-f9970782a64b",
   "metadata": {},
   "source": [
    "**Default arguments**"
   ]
  },
  {
   "cell_type": "code",
   "execution_count": 31,
   "id": "800132e0-b988-46f9-ad94-cd96453dfefe",
   "metadata": {},
   "outputs": [
    {
     "name": "stdout",
     "output_type": "stream",
     "text": [
      "good news your charge is aplicable for only remaining of 25\n",
      "The total cost for the remaining distance 75km is 375\n"
     ]
    }
   ],
   "source": [
    "def calculating_chargeble_distance(dist,charge=5,cutoff_distance=25):\n",
    "    \n",
    "     if dist> 25:\n",
    "         print(\"good news your charge is aplicable for only remaining of 25\")\n",
    "         chargeble_distance= dist - cutoff_distance\n",
    "         total_cost=chargeble_distance*charge\n",
    "         print(f\"The total cost for the remaining distance {chargeble_distance}km is {total_cost}\")\n",
    "     else:\n",
    "         print(\"Free ride\")\n",
    "calculating_chargeble_distance(100)"
   ]
  },
  {
   "cell_type": "code",
   "execution_count": 39,
   "id": "e35e5476-10a9-4e01-a00a-8c0221cc764a",
   "metadata": {},
   "outputs": [
    {
     "name": "stdin",
     "output_type": "stream",
     "text": [
      "Enter the charge: 5\n",
      "Enter the distance: 30\n",
      "Enter the cut off distance: 20\n"
     ]
    },
    {
     "name": "stdout",
     "output_type": "stream",
     "text": [
      "good news your charge is aplicable for only remaining of 25\n",
      "The total cost for the remaining distance 10km is 50\n",
      "50\n"
     ]
    }
   ],
   "source": [
    "charge=eval(input(\"Enter the charge:\"))  #Global variables\n",
    "def calculating_chargeble_distance3():\n",
    "     global total_cost\n",
    "     dist=eval(input(\"Enter the distance:\"))\n",
    "     cutoff_distance=eval(input(\"Enter the cut off distance:\"))\n",
    "     if dist> 25:\n",
    "         print(\"good news your charge is aplicable for only remaining of 25\")\n",
    "         chargeble_distance= dist - cutoff_distance\n",
    "         total_cost=chargeble_distance*charge\n",
    "         print(f\"The total cost for the remaining distance {chargeble_distance}km is {total_cost}\")\n",
    "     else:\n",
    "         print(\"Free ride\")\n",
    "calculating_chargeble_distance3()\n",
    "print(\"Outside function\",total_cost)"
   ]
  },
  {
   "cell_type": "code",
   "execution_count": 41,
   "id": "a9bcff94-47a4-423f-90a8-463b82901bb7",
   "metadata": {},
   "outputs": [
    {
     "name": "stdin",
     "output_type": "stream",
     "text": [
      "Enter the distance: 5\n",
      "Enter the cut off distance: 60\n",
      "Enter the charge: 7\n"
     ]
    },
    {
     "data": {
      "text/plain": [
       "'Free ride'"
      ]
     },
     "execution_count": 41,
     "metadata": {},
     "output_type": "execute_result"
    }
   ],
   "source": [
    "dist=eval(input(\"Enter the distance:\"))\n",
    "cutoff_distance=eval(input(\"Enter the cut off distance:\"))\n",
    "charge=eval(input(\"Enter the charge:\"))  #Global variables\n",
    "def calculating_chargeble_distance4():\n",
    "     global total_cost\n",
    "     if dist> 25:\n",
    "         print(\"good news your charge is aplicable for only remaining of 25\")\n",
    "         chargeble_distance= dist - cutoff_distance\n",
    "         total_cost=chargeble_distance*charge\n",
    "         print(f\"The total cost for the remaining distance {chargeble_distance}km is {total_cost}\")\n",
    "         return(total_cost)\n",
    "     else:\n",
    "         return(\"Free ride\")\n",
    "calculating_chargeble_distance4()\n"
   ]
  },
  {
   "cell_type": "code",
   "execution_count": 43,
   "id": "fa6d4fc8-330b-4790-bea9-5f401191c7fc",
   "metadata": {},
   "outputs": [
    {
     "name": "stdin",
     "output_type": "stream",
     "text": [
      "Enter the distance: 30\n",
      "Enter the cut off distance: 10\n",
      "Enter the charge: 9\n"
     ]
    },
    {
     "name": "stdout",
     "output_type": "stream",
     "text": [
      "good news your charge is aplicable for only remaining of 25\n",
      "The total cost for the remaining distance 20km is 180\n"
     ]
    }
   ],
   "source": [
    "dist=eval(input(\"Enter the distance:\"))\n",
    "cutoff_distance=eval(input(\"Enter the cut off distance:\"))\n",
    "charge=eval(input(\"Enter the charge:\"))  #Global variables\n",
    "def calculating_chargeble_distance5():\n",
    "     global total_cost\n",
    "     if dist> 25:\n",
    "         print(\"good news your charge is aplicable for only remaining of 25\")\n",
    "         chargeble_distance= dist - cutoff_distance\n",
    "         total_cost=chargeble_distance*charge\n",
    "         print(f\"The total cost for the remaining distance {chargeble_distance}km is {total_cost}\")\n",
    "         \n",
    "     else:\n",
    "         total_cost=100\n",
    "     return(total_cost)\n",
    "total_cost=calculating_chargeble_distance5()"
   ]
  },
  {
   "cell_type": "code",
   "execution_count": null,
   "id": "0a75c923-6e4d-4c99-9f3d-53260224f388",
   "metadata": {},
   "outputs": [],
   "source": [
    "#\n",
    "# fun 1: add\n",
    "# fun2 : sub\n",
    "# fun3: mul\n",
    "# fun4: div\n",
    "\n",
    "def add(a,b):\n",
    "    print(a+b)\n",
    "\n",
    "# create mai function name ;Calculator\n",
    "# Inside main function\n",
    "# print some stmts\n",
    "# option1: addition\n",
    "# opt2: sub ,optt3: mul, opt4: div\n",
    "#opt=eval(input(1-4))\n",
    "# a values\n",
    "# b value\n",
    "# if opt ==1:\n",
    "#   add fun\n",
    "# elif opt==2:\n",
    "#   sub fun\n",
    "#;;;\n"
   ]
  },
  {
   "cell_type": "code",
   "execution_count": 53,
   "id": "4f63bbd1-c937-4017-a91e-589ba2108d62",
   "metadata": {},
   "outputs": [
    {
     "name": "stdout",
     "output_type": "stream",
     "text": [
      "Option1:addition\n",
      "Option2:Subtraction\n",
      "Option3:Multiplication\n",
      "Option4:Division\n"
     ]
    },
    {
     "name": "stdin",
     "output_type": "stream",
     "text": [
      "Enter any number between 1-4: 4\n",
      "Enter a value: 100\n",
      "Enter a value: 4\n"
     ]
    },
    {
     "name": "stdout",
     "output_type": "stream",
     "text": [
      "25.0\n"
     ]
    }
   ],
   "source": [
    "def add1(c,d):\n",
    "    print(c+d)\n",
    "def sub1(c,d):\n",
    "    print(c-d)\n",
    "def mul1(c,d):\n",
    "    print(c*d)\n",
    "def div1(c,d):\n",
    "    print(c/d)\n",
    "\n",
    "def calculator():\n",
    "    print(\"Option1:addition\")\n",
    "    print(\"Option2:Subtraction\")\n",
    "    print(\"Option3:Multiplication\")\n",
    "    print(\"Option4:Division\")\n",
    "    opt=eval(input(\"Enter any number between 1-4:\"))\n",
    "    c=eval(input(\"Enter a value:\"))\n",
    "    d=eval(input(\"Enter a value:\"))\n",
    "    if opt==1:\n",
    "        add1(c,d)\n",
    "    elif opt==2:\n",
    "        sub1(c,d)\n",
    "    elif opt==3:\n",
    "        mul1()\n",
    "    elif opt==4:\n",
    "        div1(c,d)\n",
    "calculator()\n",
    "        "
   ]
  },
  {
   "cell_type": "code",
   "execution_count": null,
   "id": "d8de97b1-9b39-42df-ba22-8355fdcbbb57",
   "metadata": {},
   "outputs": [],
   "source": []
  }
 ],
 "metadata": {
  "kernelspec": {
   "display_name": "Python 3 (ipykernel)",
   "language": "python",
   "name": "python3"
  },
  "language_info": {
   "codemirror_mode": {
    "name": "ipython",
    "version": 3
   },
   "file_extension": ".py",
   "mimetype": "text/x-python",
   "name": "python",
   "nbconvert_exporter": "python",
   "pygments_lexer": "ipython3",
   "version": "3.11.7"
  }
 },
 "nbformat": 4,
 "nbformat_minor": 5
}
