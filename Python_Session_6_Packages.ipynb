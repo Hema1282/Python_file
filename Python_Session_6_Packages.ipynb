{
 "cells": [
  {
   "cell_type": "code",
   "execution_count": null,
   "id": "25640169-b7f9-4a1b-920a-4e43258e118c",
   "metadata": {},
   "outputs": [],
   "source": [
    "let assume that our friend cooder is there\n",
    "\n",
    "he created a addition program\n",
    "\n",
    "he feels that he only created an addition program\n",
    "\n",
    "he wants to give the program to every one ====package\n",
    "\n",
    "he wents to anaconda organization\n",
    "\n",
    "he makes a deal\n",
    "\n",
    "who ever installed anaconda my package also automatically download\n",
    "\n",
    "thats why when you downloading anaconda a green color pop up is coming\n",
    "because so many packages are tie eith anaconda\n",
    "downloading in your local laptop"
   ]
  },
  {
   "cell_type": "code",
   "execution_count": null,
   "id": "0d76f8bc-7748-48d6-abb4-36ba7fca43bc",
   "metadata": {},
   "outputs": [],
   "source": [
    "package is there in your laptop\n",
    "you want to use for the coding\n",
    "\n",
    "the package name:addition"
   ]
  },
  {
   "cell_type": "markdown",
   "id": "36977b9d-d146-49d4-b913-4b7f83762cab",
   "metadata": {},
   "source": [
    "**import**"
   ]
  },
  {
   "cell_type": "code",
   "execution_count": null,
   "id": "a9514212-18e9-47cf-a53b-9634db8154a3",
   "metadata": {},
   "outputs": [],
   "source": [
    "# syntax \n",
    "#import <package_name>"
   ]
  },
  {
   "cell_type": "code",
   "execution_count": 2,
   "id": "624c63ee-c9d4-4462-bebe-43ebd1dbb88d",
   "metadata": {},
   "outputs": [],
   "source": [
    "#package name:random\n",
    "import random"
   ]
  },
  {
   "cell_type": "code",
   "execution_count": 3,
   "id": "315077b7-82c5-4fc8-a8a8-efbbf341846c",
   "metadata": {},
   "outputs": [],
   "source": [
    "#package name :time\n",
    "import time"
   ]
  },
  {
   "cell_type": "code",
   "execution_count": 5,
   "id": "1ff78b2f-9e7f-40b7-9a90-082e764d3ed4",
   "metadata": {},
   "outputs": [],
   "source": [
    "#package name: math\n",
    "import math"
   ]
  },
  {
   "cell_type": "code",
   "execution_count": 11,
   "id": "5bf6c399-8a6b-42ea-ac88-e418cdb52502",
   "metadata": {},
   "outputs": [],
   "source": [
    "#package name: streamlit\n",
    "import streamlit"
   ]
  },
  {
   "cell_type": "code",
   "execution_count": null,
   "id": "e70dee24-7a78-4b9f-bfd0-a319c84b7c2d",
   "metadata": {},
   "outputs": [],
   "source": [
    "# Module is not found\n",
    "# package or module are same"
   ]
  },
  {
   "cell_type": "code",
   "execution_count": 9,
   "id": "b02fd939-a80e-4a45-8917-79bb7c4d132f",
   "metadata": {},
   "outputs": [
    {
     "ename": "ModuleNotFoundError",
     "evalue": "No module named 'cv2'",
     "output_type": "error",
     "traceback": [
      "\u001b[1;31m---------------------------------------------------------------------------\u001b[0m",
      "\u001b[1;31mModuleNotFoundError\u001b[0m                       Traceback (most recent call last)",
      "Cell \u001b[1;32mIn[9], line 1\u001b[0m\n\u001b[1;32m----> 1\u001b[0m \u001b[38;5;28;01mimport\u001b[39;00m \u001b[38;5;21;01mcv2\u001b[39;00m\n",
      "\u001b[1;31mModuleNotFoundError\u001b[0m: No module named 'cv2'"
     ]
    }
   ],
   "source": [
    "import cv2"
   ]
  },
  {
   "cell_type": "code",
   "execution_count": null,
   "id": "58c6ba12-4617-427a-a92c-56b546b873b3",
   "metadata": {},
   "outputs": [],
   "source": [
    "cv2 guy not tie with anaconda\n",
    "no module name: cv2"
   ]
  },
  {
   "cell_type": "code",
   "execution_count": null,
   "id": "67c5fe36-0484-45dd-a6f2-a0ba5d7337c0",
   "metadata": {},
   "outputs": [],
   "source": [
    "Math operations\n",
    "  addition\n",
    "  subtraction\n",
    "  multiplication\n",
    "  division\n"
   ]
  },
  {
   "cell_type": "code",
   "execution_count": 12,
   "id": "b6c2310d-af96-4999-940b-857d5fe2fcb6",
   "metadata": {},
   "outputs": [
    {
     "data": {
      "text/plain": [
       "['BPF',\n",
       " 'LOG4',\n",
       " 'NV_MAGICCONST',\n",
       " 'RECIP_BPF',\n",
       " 'Random',\n",
       " 'SG_MAGICCONST',\n",
       " 'SystemRandom',\n",
       " 'TWOPI',\n",
       " '_ONE',\n",
       " '_Sequence',\n",
       " '_Set',\n",
       " '__all__',\n",
       " '__builtins__',\n",
       " '__cached__',\n",
       " '__doc__',\n",
       " '__file__',\n",
       " '__loader__',\n",
       " '__name__',\n",
       " '__package__',\n",
       " '__spec__',\n",
       " '_accumulate',\n",
       " '_acos',\n",
       " '_bisect',\n",
       " '_ceil',\n",
       " '_cos',\n",
       " '_e',\n",
       " '_exp',\n",
       " '_floor',\n",
       " '_index',\n",
       " '_inst',\n",
       " '_isfinite',\n",
       " '_log',\n",
       " '_os',\n",
       " '_pi',\n",
       " '_random',\n",
       " '_repeat',\n",
       " '_sha512',\n",
       " '_sin',\n",
       " '_sqrt',\n",
       " '_test',\n",
       " '_test_generator',\n",
       " '_urandom',\n",
       " '_warn',\n",
       " 'betavariate',\n",
       " 'choice',\n",
       " 'choices',\n",
       " 'expovariate',\n",
       " 'gammavariate',\n",
       " 'gauss',\n",
       " 'getrandbits',\n",
       " 'getstate',\n",
       " 'lognormvariate',\n",
       " 'normalvariate',\n",
       " 'paretovariate',\n",
       " 'randbytes',\n",
       " 'randint',\n",
       " 'random',\n",
       " 'randrange',\n",
       " 'sample',\n",
       " 'seed',\n",
       " 'setstate',\n",
       " 'shuffle',\n",
       " 'triangular',\n",
       " 'uniform',\n",
       " 'vonmisesvariate',\n",
       " 'weibullvariate']"
      ]
     },
     "execution_count": 12,
     "metadata": {},
     "output_type": "execute_result"
    }
   ],
   "source": [
    "import random\n",
    "dir(random) # to know how many methods inside the package"
   ]
  },
  {
   "cell_type": "code",
   "execution_count": null,
   "id": "688ab8f0-3598-4d40-add2-13b88151081f",
   "metadata": {},
   "outputs": [],
   "source": [
    "#syntax\n",
    "#<package_name>.<method_name>\n",
    "#Package_name: random\n",
    "#method_name: randint"
   ]
  },
  {
   "cell_type": "code",
   "execution_count": 13,
   "id": "075b01ba-c4e8-48c3-931b-00104aa7c9e0",
   "metadata": {},
   "outputs": [
    {
     "name": "stdout",
     "output_type": "stream",
     "text": [
      "Help on method randint in module random:\n",
      "\n",
      "randint(a, b) method of random.Random instance\n",
      "    Return random integer in range [a, b], including both end points.\n",
      "\n"
     ]
    }
   ],
   "source": [
    "#help(<packagename.methodname>)\n",
    "#help will give the understanding of \n",
    "# how a method will work\n",
    "\n",
    "# here I want to know what randint will do?\n",
    "\n",
    "help(random.randint)"
   ]
  },
  {
   "cell_type": "code",
   "execution_count": 17,
   "id": "2e7dbd48-0a32-4bfe-90ab-c4e840972c0b",
   "metadata": {},
   "outputs": [
    {
     "data": {
      "text/plain": [
       "8"
      ]
     },
     "execution_count": 17,
     "metadata": {},
     "output_type": "execute_result"
    }
   ],
   "source": [
    "random.randint(1,10)"
   ]
  },
  {
   "cell_type": "code",
   "execution_count": null,
   "id": "1bf78410-b0c0-4a1a-bfb1-3594a374e637",
   "metadata": {},
   "outputs": [],
   "source": [
    "# [1,10] ==both are included ,(1-10)  #[1,10) == 1 ,included,10 not considered (1-9)\n",
    "# (1,10) ==in between ,(2-9)          #(1,10] == 1. is not included ,10 is only included (2-10)\n"
   ]
  },
  {
   "cell_type": "code",
   "execution_count": 19,
   "id": "3bc2a452-d58b-43f2-9a18-c9f22716993c",
   "metadata": {},
   "outputs": [],
   "source": [
    "#step-1: import <package_name>\n",
    "#step-2: dir(<package_name>)\n",
    "#step-3: help(<packag_name>.<method_name>)\n",
    "\n",
    "import random\n"
   ]
  },
  {
   "cell_type": "code",
   "execution_count": 20,
   "id": "9f7aa0dc-5a05-4ee0-bbdd-4cfea4bcea1d",
   "metadata": {},
   "outputs": [
    {
     "data": {
      "text/plain": [
       "['BPF',\n",
       " 'LOG4',\n",
       " 'NV_MAGICCONST',\n",
       " 'RECIP_BPF',\n",
       " 'Random',\n",
       " 'SG_MAGICCONST',\n",
       " 'SystemRandom',\n",
       " 'TWOPI',\n",
       " '_ONE',\n",
       " '_Sequence',\n",
       " '_Set',\n",
       " '__all__',\n",
       " '__builtins__',\n",
       " '__cached__',\n",
       " '__doc__',\n",
       " '__file__',\n",
       " '__loader__',\n",
       " '__name__',\n",
       " '__package__',\n",
       " '__spec__',\n",
       " '_accumulate',\n",
       " '_acos',\n",
       " '_bisect',\n",
       " '_ceil',\n",
       " '_cos',\n",
       " '_e',\n",
       " '_exp',\n",
       " '_floor',\n",
       " '_index',\n",
       " '_inst',\n",
       " '_isfinite',\n",
       " '_log',\n",
       " '_os',\n",
       " '_pi',\n",
       " '_random',\n",
       " '_repeat',\n",
       " '_sha512',\n",
       " '_sin',\n",
       " '_sqrt',\n",
       " '_test',\n",
       " '_test_generator',\n",
       " '_urandom',\n",
       " '_warn',\n",
       " 'betavariate',\n",
       " 'choice',\n",
       " 'choices',\n",
       " 'expovariate',\n",
       " 'gammavariate',\n",
       " 'gauss',\n",
       " 'getrandbits',\n",
       " 'getstate',\n",
       " 'lognormvariate',\n",
       " 'normalvariate',\n",
       " 'paretovariate',\n",
       " 'randbytes',\n",
       " 'randint',\n",
       " 'random',\n",
       " 'randrange',\n",
       " 'sample',\n",
       " 'seed',\n",
       " 'setstate',\n",
       " 'shuffle',\n",
       " 'triangular',\n",
       " 'uniform',\n",
       " 'vonmisesvariate',\n",
       " 'weibullvariate']"
      ]
     },
     "execution_count": 20,
     "metadata": {},
     "output_type": "execute_result"
    }
   ],
   "source": [
    "dir(random)"
   ]
  },
  {
   "cell_type": "code",
   "execution_count": 21,
   "id": "119adf3c-226c-4f34-8a5d-7334c0914832",
   "metadata": {},
   "outputs": [
    {
     "name": "stdout",
     "output_type": "stream",
     "text": [
      "Help on method randint in module random:\n",
      "\n",
      "randint(a, b) method of random.Random instance\n",
      "    Return random integer in range [a, b], including both end points.\n",
      "\n"
     ]
    }
   ],
   "source": [
    "help(random.randint)\n"
   ]
  },
  {
   "cell_type": "code",
   "execution_count": 22,
   "id": "e930c738-5689-4e7a-b2e2-f0e067fec89a",
   "metadata": {},
   "outputs": [
    {
     "data": {
      "text/plain": [
       "18"
      ]
     },
     "execution_count": 22,
     "metadata": {},
     "output_type": "execute_result"
    }
   ],
   "source": [
    "random.randint(1,20)"
   ]
  },
  {
   "cell_type": "code",
   "execution_count": 23,
   "id": "07b3b7d2-a730-4613-a0c0-b21314920c2c",
   "metadata": {},
   "outputs": [],
   "source": [
    "#package_name : random\n",
    "#method_name : random\n",
    "import random"
   ]
  },
  {
   "cell_type": "code",
   "execution_count": 24,
   "id": "56cf186c-148a-46cc-9475-5e690be57598",
   "metadata": {},
   "outputs": [
    {
     "name": "stdout",
     "output_type": "stream",
     "text": [
      "Help on built-in function random:\n",
      "\n",
      "random() method of random.Random instance\n",
      "    random() -> x in the interval [0, 1).\n",
      "\n"
     ]
    }
   ],
   "source": [
    "help(random.random)"
   ]
  },
  {
   "cell_type": "code",
   "execution_count": 27,
   "id": "d25aaf2e-af47-48f5-951d-65f5ef5febb6",
   "metadata": {},
   "outputs": [
    {
     "data": {
      "text/plain": [
       "['BPF',\n",
       " 'LOG4',\n",
       " 'NV_MAGICCONST',\n",
       " 'RECIP_BPF',\n",
       " 'Random',\n",
       " 'SG_MAGICCONST',\n",
       " 'SystemRandom',\n",
       " 'TWOPI',\n",
       " '_ONE',\n",
       " '_Sequence',\n",
       " '_Set',\n",
       " '__all__',\n",
       " '__builtins__',\n",
       " '__cached__',\n",
       " '__doc__',\n",
       " '__file__',\n",
       " '__loader__',\n",
       " '__name__',\n",
       " '__package__',\n",
       " '__spec__',\n",
       " '_accumulate',\n",
       " '_acos',\n",
       " '_bisect',\n",
       " '_ceil',\n",
       " '_cos',\n",
       " '_e',\n",
       " '_exp',\n",
       " '_floor',\n",
       " '_index',\n",
       " '_inst',\n",
       " '_isfinite',\n",
       " '_log',\n",
       " '_os',\n",
       " '_pi',\n",
       " '_random',\n",
       " '_repeat',\n",
       " '_sha512',\n",
       " '_sin',\n",
       " '_sqrt',\n",
       " '_test',\n",
       " '_test_generator',\n",
       " '_urandom',\n",
       " '_warn',\n",
       " 'betavariate',\n",
       " 'choice',\n",
       " 'choices',\n",
       " 'expovariate',\n",
       " 'gammavariate',\n",
       " 'gauss',\n",
       " 'getrandbits',\n",
       " 'getstate',\n",
       " 'lognormvariate',\n",
       " 'normalvariate',\n",
       " 'paretovariate',\n",
       " 'randbytes',\n",
       " 'randint',\n",
       " 'random',\n",
       " 'randrange',\n",
       " 'sample',\n",
       " 'seed',\n",
       " 'setstate',\n",
       " 'shuffle',\n",
       " 'triangular',\n",
       " 'uniform',\n",
       " 'vonmisesvariate',\n",
       " 'weibullvariate']"
      ]
     },
     "execution_count": 27,
     "metadata": {},
     "output_type": "execute_result"
    }
   ],
   "source": [
    "dir(random)"
   ]
  },
  {
   "cell_type": "code",
   "execution_count": 26,
   "id": "cb43d771-79fe-4bd9-b1ca-901f44aaa1ec",
   "metadata": {},
   "outputs": [
    {
     "data": {
      "text/plain": [
       "0.99153823229956"
      ]
     },
     "execution_count": 26,
     "metadata": {},
     "output_type": "execute_result"
    }
   ],
   "source": [
    "random.random()"
   ]
  },
  {
   "cell_type": "markdown",
   "id": "6a9836ff-d845-49f7-8681-00c85e09f6cb",
   "metadata": {},
   "source": [
    "**math**\n",
    "\n"
   ]
  },
  {
   "cell_type": "code",
   "execution_count": 28,
   "id": "3994f390-4f4a-4493-b508-4adedc6040a5",
   "metadata": {},
   "outputs": [],
   "source": [
    "# package_name: math\n",
    "# methods\n",
    "  # pi\n",
    "  # sqrt\n",
    "  # sin"
   ]
  },
  {
   "cell_type": "code",
   "execution_count": 29,
   "id": "0ea638f2-138e-47d6-8376-2e1ee9c9a076",
   "metadata": {},
   "outputs": [],
   "source": [
    "import math"
   ]
  },
  {
   "cell_type": "code",
   "execution_count": 30,
   "id": "a15d3890-5805-46a0-a46a-270e8b0e7ea3",
   "metadata": {},
   "outputs": [
    {
     "data": {
      "text/plain": [
       "['__doc__',\n",
       " '__loader__',\n",
       " '__name__',\n",
       " '__package__',\n",
       " '__spec__',\n",
       " 'acos',\n",
       " 'acosh',\n",
       " 'asin',\n",
       " 'asinh',\n",
       " 'atan',\n",
       " 'atan2',\n",
       " 'atanh',\n",
       " 'cbrt',\n",
       " 'ceil',\n",
       " 'comb',\n",
       " 'copysign',\n",
       " 'cos',\n",
       " 'cosh',\n",
       " 'degrees',\n",
       " 'dist',\n",
       " 'e',\n",
       " 'erf',\n",
       " 'erfc',\n",
       " 'exp',\n",
       " 'exp2',\n",
       " 'expm1',\n",
       " 'fabs',\n",
       " 'factorial',\n",
       " 'floor',\n",
       " 'fmod',\n",
       " 'frexp',\n",
       " 'fsum',\n",
       " 'gamma',\n",
       " 'gcd',\n",
       " 'hypot',\n",
       " 'inf',\n",
       " 'isclose',\n",
       " 'isfinite',\n",
       " 'isinf',\n",
       " 'isnan',\n",
       " 'isqrt',\n",
       " 'lcm',\n",
       " 'ldexp',\n",
       " 'lgamma',\n",
       " 'log',\n",
       " 'log10',\n",
       " 'log1p',\n",
       " 'log2',\n",
       " 'modf',\n",
       " 'nan',\n",
       " 'nextafter',\n",
       " 'perm',\n",
       " 'pi',\n",
       " 'pow',\n",
       " 'prod',\n",
       " 'radians',\n",
       " 'remainder',\n",
       " 'sin',\n",
       " 'sinh',\n",
       " 'sqrt',\n",
       " 'tan',\n",
       " 'tanh',\n",
       " 'tau',\n",
       " 'trunc',\n",
       " 'ulp']"
      ]
     },
     "execution_count": 30,
     "metadata": {},
     "output_type": "execute_result"
    }
   ],
   "source": [
    "dir(math)"
   ]
  },
  {
   "cell_type": "code",
   "execution_count": 31,
   "id": "a7e0e230-7286-44d2-bab7-74277a7af62e",
   "metadata": {},
   "outputs": [
    {
     "name": "stdout",
     "output_type": "stream",
     "text": [
      "Help on float object:\n",
      "\n",
      "class float(object)\n",
      " |  float(x=0, /)\n",
      " |  \n",
      " |  Convert a string or number to a floating point number, if possible.\n",
      " |  \n",
      " |  Methods defined here:\n",
      " |  \n",
      " |  __abs__(self, /)\n",
      " |      abs(self)\n",
      " |  \n",
      " |  __add__(self, value, /)\n",
      " |      Return self+value.\n",
      " |  \n",
      " |  __bool__(self, /)\n",
      " |      True if self else False\n",
      " |  \n",
      " |  __ceil__(self, /)\n",
      " |      Return the ceiling as an Integral.\n",
      " |  \n",
      " |  __divmod__(self, value, /)\n",
      " |      Return divmod(self, value).\n",
      " |  \n",
      " |  __eq__(self, value, /)\n",
      " |      Return self==value.\n",
      " |  \n",
      " |  __float__(self, /)\n",
      " |      float(self)\n",
      " |  \n",
      " |  __floor__(self, /)\n",
      " |      Return the floor as an Integral.\n",
      " |  \n",
      " |  __floordiv__(self, value, /)\n",
      " |      Return self//value.\n",
      " |  \n",
      " |  __format__(self, format_spec, /)\n",
      " |      Formats the float according to format_spec.\n",
      " |  \n",
      " |  __ge__(self, value, /)\n",
      " |      Return self>=value.\n",
      " |  \n",
      " |  __getattribute__(self, name, /)\n",
      " |      Return getattr(self, name).\n",
      " |  \n",
      " |  __getnewargs__(self, /)\n",
      " |  \n",
      " |  __gt__(self, value, /)\n",
      " |      Return self>value.\n",
      " |  \n",
      " |  __hash__(self, /)\n",
      " |      Return hash(self).\n",
      " |  \n",
      " |  __int__(self, /)\n",
      " |      int(self)\n",
      " |  \n",
      " |  __le__(self, value, /)\n",
      " |      Return self<=value.\n",
      " |  \n",
      " |  __lt__(self, value, /)\n",
      " |      Return self<value.\n",
      " |  \n",
      " |  __mod__(self, value, /)\n",
      " |      Return self%value.\n",
      " |  \n",
      " |  __mul__(self, value, /)\n",
      " |      Return self*value.\n",
      " |  \n",
      " |  __ne__(self, value, /)\n",
      " |      Return self!=value.\n",
      " |  \n",
      " |  __neg__(self, /)\n",
      " |      -self\n",
      " |  \n",
      " |  __pos__(self, /)\n",
      " |      +self\n",
      " |  \n",
      " |  __pow__(self, value, mod=None, /)\n",
      " |      Return pow(self, value, mod).\n",
      " |  \n",
      " |  __radd__(self, value, /)\n",
      " |      Return value+self.\n",
      " |  \n",
      " |  __rdivmod__(self, value, /)\n",
      " |      Return divmod(value, self).\n",
      " |  \n",
      " |  __repr__(self, /)\n",
      " |      Return repr(self).\n",
      " |  \n",
      " |  __rfloordiv__(self, value, /)\n",
      " |      Return value//self.\n",
      " |  \n",
      " |  __rmod__(self, value, /)\n",
      " |      Return value%self.\n",
      " |  \n",
      " |  __rmul__(self, value, /)\n",
      " |      Return value*self.\n",
      " |  \n",
      " |  __round__(self, ndigits=None, /)\n",
      " |      Return the Integral closest to x, rounding half toward even.\n",
      " |      \n",
      " |      When an argument is passed, work like built-in round(x, ndigits).\n",
      " |  \n",
      " |  __rpow__(self, value, mod=None, /)\n",
      " |      Return pow(value, self, mod).\n",
      " |  \n",
      " |  __rsub__(self, value, /)\n",
      " |      Return value-self.\n",
      " |  \n",
      " |  __rtruediv__(self, value, /)\n",
      " |      Return value/self.\n",
      " |  \n",
      " |  __sub__(self, value, /)\n",
      " |      Return self-value.\n",
      " |  \n",
      " |  __truediv__(self, value, /)\n",
      " |      Return self/value.\n",
      " |  \n",
      " |  __trunc__(self, /)\n",
      " |      Return the Integral closest to x between 0 and x.\n",
      " |  \n",
      " |  as_integer_ratio(self, /)\n",
      " |      Return integer ratio.\n",
      " |      \n",
      " |      Return a pair of integers, whose ratio is exactly equal to the original float\n",
      " |      and with a positive denominator.\n",
      " |      \n",
      " |      Raise OverflowError on infinities and a ValueError on NaNs.\n",
      " |      \n",
      " |      >>> (10.0).as_integer_ratio()\n",
      " |      (10, 1)\n",
      " |      >>> (0.0).as_integer_ratio()\n",
      " |      (0, 1)\n",
      " |      >>> (-.25).as_integer_ratio()\n",
      " |      (-1, 4)\n",
      " |  \n",
      " |  conjugate(self, /)\n",
      " |      Return self, the complex conjugate of any float.\n",
      " |  \n",
      " |  hex(self, /)\n",
      " |      Return a hexadecimal representation of a floating-point number.\n",
      " |      \n",
      " |      >>> (-0.1).hex()\n",
      " |      '-0x1.999999999999ap-4'\n",
      " |      >>> 3.14159.hex()\n",
      " |      '0x1.921f9f01b866ep+1'\n",
      " |  \n",
      " |  is_integer(self, /)\n",
      " |      Return True if the float is an integer.\n",
      " |  \n",
      " |  ----------------------------------------------------------------------\n",
      " |  Class methods defined here:\n",
      " |  \n",
      " |  __getformat__(typestr, /) from builtins.type\n",
      " |      You probably don't want to use this function.\n",
      " |      \n",
      " |        typestr\n",
      " |          Must be 'double' or 'float'.\n",
      " |      \n",
      " |      It exists mainly to be used in Python's test suite.\n",
      " |      \n",
      " |      This function returns whichever of 'unknown', 'IEEE, big-endian' or 'IEEE,\n",
      " |      little-endian' best describes the format of floating point numbers used by the\n",
      " |      C type named by typestr.\n",
      " |  \n",
      " |  fromhex(string, /) from builtins.type\n",
      " |      Create a floating-point number from a hexadecimal string.\n",
      " |      \n",
      " |      >>> float.fromhex('0x1.ffffp10')\n",
      " |      2047.984375\n",
      " |      >>> float.fromhex('-0x1p-1074')\n",
      " |      -5e-324\n",
      " |  \n",
      " |  ----------------------------------------------------------------------\n",
      " |  Static methods defined here:\n",
      " |  \n",
      " |  __new__(*args, **kwargs) from builtins.type\n",
      " |      Create and return a new object.  See help(type) for accurate signature.\n",
      " |  \n",
      " |  ----------------------------------------------------------------------\n",
      " |  Data descriptors defined here:\n",
      " |  \n",
      " |  imag\n",
      " |      the imaginary part of a complex number\n",
      " |  \n",
      " |  real\n",
      " |      the real part of a complex number\n",
      "\n"
     ]
    }
   ],
   "source": [
    "help(math.pi)"
   ]
  },
  {
   "cell_type": "code",
   "execution_count": 32,
   "id": "a8cb3851-7cb7-4fe7-9164-0b9e0d754339",
   "metadata": {},
   "outputs": [
    {
     "name": "stdout",
     "output_type": "stream",
     "text": [
      "Help on built-in function sqrt in module math:\n",
      "\n",
      "sqrt(x, /)\n",
      "    Return the square root of x.\n",
      "\n"
     ]
    }
   ],
   "source": [
    "help(math.sqrt)"
   ]
  },
  {
   "cell_type": "code",
   "execution_count": 44,
   "id": "17aed659-ff2e-4ae1-a18e-4e8b3d82bc50",
   "metadata": {},
   "outputs": [
    {
     "data": {
      "text/plain": [
       "5.0"
      ]
     },
     "execution_count": 44,
     "metadata": {},
     "output_type": "execute_result"
    }
   ],
   "source": [
    "math.sqrt(25)"
   ]
  },
  {
   "cell_type": "code",
   "execution_count": 48,
   "id": "d60dcad5-f4a7-4551-9630-74cf1ca531f2",
   "metadata": {},
   "outputs": [
    {
     "name": "stdout",
     "output_type": "stream",
     "text": [
      "Help on built-in function pow in module math:\n",
      "\n",
      "pow(x, y, /)\n",
      "    Return x**y (x to the power of y).\n",
      "\n"
     ]
    }
   ],
   "source": [
    "help(math.pow)"
   ]
  },
  {
   "cell_type": "code",
   "execution_count": 47,
   "id": "94b6f0bc-51bc-498d-89dd-6e323252715a",
   "metadata": {},
   "outputs": [
    {
     "data": {
      "text/plain": [
       "8.0"
      ]
     },
     "execution_count": 47,
     "metadata": {},
     "output_type": "execute_result"
    }
   ],
   "source": [
    "math.pow(2,3)"
   ]
  },
  {
   "cell_type": "code",
   "execution_count": 38,
   "id": "4456521d-de5a-4bd5-b9d2-ec4832dc6f85",
   "metadata": {},
   "outputs": [
    {
     "name": "stdout",
     "output_type": "stream",
     "text": [
      "Help on built-in function sin in module math:\n",
      "\n",
      "sin(x, /)\n",
      "    Return the sine of x (measured in radians).\n",
      "\n"
     ]
    }
   ],
   "source": [
    "help(math.sin)"
   ]
  },
  {
   "cell_type": "code",
   "execution_count": 49,
   "id": "86730f59-4315-496b-8afd-931514f85fca",
   "metadata": {},
   "outputs": [
    {
     "data": {
      "text/plain": [
       "0.8939966636005579"
      ]
     },
     "execution_count": 49,
     "metadata": {},
     "output_type": "execute_result"
    }
   ],
   "source": [
    "math.sin(90)"
   ]
  },
  {
   "cell_type": "code",
   "execution_count": null,
   "id": "b5f91364-bb8d-4012-9902-70d823eade6a",
   "metadata": {},
   "outputs": [],
   "source": [
    "math.sqrt(25)\n",
    "math.pow(2,3)\n",
    "math.sin(90)"
   ]
  },
  {
   "cell_type": "code",
   "execution_count": 50,
   "id": "c5df3d25-0ae3-4b7e-a343-91c021cef7df",
   "metadata": {},
   "outputs": [
    {
     "ename": "TypeError",
     "evalue": "math.sqrt() takes no keyword arguments",
     "output_type": "error",
     "traceback": [
      "\u001b[1;31m---------------------------------------------------------------------------\u001b[0m",
      "\u001b[1;31mTypeError\u001b[0m                                 Traceback (most recent call last)",
      "Cell \u001b[1;32mIn[50], line 1\u001b[0m\n\u001b[1;32m----> 1\u001b[0m math\u001b[38;5;241m.\u001b[39msqrt(x\u001b[38;5;241m=\u001b[39m\u001b[38;5;241m25\u001b[39m)\n",
      "\u001b[1;31mTypeError\u001b[0m: math.sqrt() takes no keyword arguments"
     ]
    }
   ],
   "source": [
    "math.sqrt()\n",
    "\n",
    "# cursor inside the bracket\n",
    "# then apply shift+tab\n",
    "\n",
    "\n",
    "# / mentioned means\n",
    "# do not provide x=25 values\n",
    "# directly give 25 "
   ]
  },
  {
   "cell_type": "code",
   "execution_count": 51,
   "id": "1b83299a-177e-4410-b3d7-c951713bd292",
   "metadata": {},
   "outputs": [
    {
     "data": {
      "text/plain": [
       "<function math.sqrt(x, /)>"
      ]
     },
     "execution_count": 51,
     "metadata": {},
     "output_type": "execute_result"
    }
   ],
   "source": [
    "math.sqrt"
   ]
  },
  {
   "cell_type": "markdown",
   "id": "f00d1f7f-8d20-4af5-b975-a67cb1b96593",
   "metadata": {},
   "source": [
    "- function(in output error) means we are forgetting brackets \n",
    "\n",
    "- we need to keep brackets\n",
    "\n",
    "- bound method also means forgetting the brackets only.\n",
    "\n",
    "- not callable means remove the brackets\n",
    "\n",
    "- whenever you see the '/' don't provide variable\n",
    "\n",
    "- provide value only"
   ]
  },
  {
   "cell_type": "code",
   "execution_count": 52,
   "id": "cd5b82f1-fcdc-460f-80a8-b6e9ecce5ee0",
   "metadata": {},
   "outputs": [
    {
     "ename": "TypeError",
     "evalue": "math.sqrt() takes exactly one argument (0 given)",
     "output_type": "error",
     "traceback": [
      "\u001b[1;31m---------------------------------------------------------------------------\u001b[0m",
      "\u001b[1;31mTypeError\u001b[0m                                 Traceback (most recent call last)",
      "Cell \u001b[1;32mIn[52], line 1\u001b[0m\n\u001b[1;32m----> 1\u001b[0m math\u001b[38;5;241m.\u001b[39msqrt()\n",
      "\u001b[1;31mTypeError\u001b[0m: math.sqrt() takes exactly one argument (0 given)"
     ]
    }
   ],
   "source": [
    "math.sqrt()"
   ]
  },
  {
   "cell_type": "code",
   "execution_count": 54,
   "id": "ea4cd1c8-55d0-4dac-bb2b-3211123e68b0",
   "metadata": {},
   "outputs": [
    {
     "data": {
      "text/plain": [
       "10"
      ]
     },
     "execution_count": 54,
     "metadata": {},
     "output_type": "execute_result"
    }
   ],
   "source": [
    "random.randint(10,20)"
   ]
  },
  {
   "cell_type": "code",
   "execution_count": 55,
   "id": "b73ed084-92e8-4898-af71-0fb5d83266db",
   "metadata": {},
   "outputs": [
    {
     "data": {
      "text/plain": [
       "0.8584971847573643"
      ]
     },
     "execution_count": 55,
     "metadata": {},
     "output_type": "execute_result"
    }
   ],
   "source": [
    "random.random()"
   ]
  },
  {
   "cell_type": "code",
   "execution_count": 58,
   "id": "e40e08bc-a3c8-4509-b664-6ea9f4cc6966",
   "metadata": {},
   "outputs": [
    {
     "data": {
      "text/plain": [
       "3.141592653589793"
      ]
     },
     "execution_count": 58,
     "metadata": {},
     "output_type": "execute_result"
    }
   ],
   "source": [
    "math.pi\n",
    "# direct values never include brackets"
   ]
  },
  {
   "cell_type": "code",
   "execution_count": 59,
   "id": "7759cf47-5d13-4451-92cc-48ffa07f8c98",
   "metadata": {},
   "outputs": [],
   "source": [
    "# package_name: keyword\n",
    "# method_name : kwlist\n",
    "import keyword"
   ]
  },
  {
   "cell_type": "code",
   "execution_count": 60,
   "id": "5c62e522-855f-4e88-934e-2b36ff3e6eac",
   "metadata": {},
   "outputs": [
    {
     "data": {
      "text/plain": [
       "['__all__',\n",
       " '__builtins__',\n",
       " '__cached__',\n",
       " '__doc__',\n",
       " '__file__',\n",
       " '__loader__',\n",
       " '__name__',\n",
       " '__package__',\n",
       " '__spec__',\n",
       " 'iskeyword',\n",
       " 'issoftkeyword',\n",
       " 'kwlist',\n",
       " 'softkwlist']"
      ]
     },
     "execution_count": 60,
     "metadata": {},
     "output_type": "execute_result"
    }
   ],
   "source": [
    "dir(keyword)"
   ]
  },
  {
   "cell_type": "code",
   "execution_count": 2,
   "id": "af07e32b-7e93-4380-9c5f-6dd5c4edff91",
   "metadata": {},
   "outputs": [
    {
     "ename": "TypeError",
     "evalue": "pow expected 2 arguments, got 0",
     "output_type": "error",
     "traceback": [
      "\u001b[1;31m---------------------------------------------------------------------------\u001b[0m",
      "\u001b[1;31mTypeError\u001b[0m                                 Traceback (most recent call last)",
      "Cell \u001b[1;32mIn[2], line 2\u001b[0m\n\u001b[0;32m      1\u001b[0m \u001b[38;5;28;01mimport\u001b[39;00m \u001b[38;5;21;01mmath\u001b[39;00m\n\u001b[1;32m----> 2\u001b[0m math\u001b[38;5;241m.\u001b[39mpow()\n",
      "\u001b[1;31mTypeError\u001b[0m: pow expected 2 arguments, got 0"
     ]
    }
   ],
   "source": [
    "import math\n",
    "math.pow()"
   ]
  },
  {
   "cell_type": "code",
   "execution_count": 63,
   "id": "b6f5c4a8-1adb-4e86-965c-b02a48ace984",
   "metadata": {},
   "outputs": [
    {
     "data": {
      "text/plain": [
       "35"
      ]
     },
     "execution_count": 63,
     "metadata": {},
     "output_type": "execute_result"
    }
   ],
   "source": [
    "len(keyword.kwlist)"
   ]
  },
  {
   "cell_type": "code",
   "execution_count": 64,
   "id": "b1c9c882-3343-4016-a5cb-ce28e5ac8570",
   "metadata": {},
   "outputs": [
    {
     "data": {
      "text/plain": [
       "['_', 'case', 'match']"
      ]
     },
     "execution_count": 64,
     "metadata": {},
     "output_type": "execute_result"
    }
   ],
   "source": [
    "keyword.softkwlist"
   ]
  },
  {
   "cell_type": "code",
   "execution_count": null,
   "id": "fea022ab-fdd8-4f37-817b-b6f7aaca76fd",
   "metadata": {},
   "outputs": [],
   "source": [
    "# step -1 :\n",
    "# import <package_name>\n",
    "\n",
    "# step-2\n",
    "# dir(<package_name>)\n",
    "#   methods will display\n",
    "\n",
    "# step-3\n",
    "# help(<package_name>.<method_name>)\n",
    "\n",
    "# step-4\n",
    "# <package_name>.<method_name>()"
   ]
  },
  {
   "cell_type": "code",
   "execution_count": 1,
   "id": "2c124bca-a344-4c42-8158-ba226064ca7c",
   "metadata": {},
   "outputs": [
    {
     "data": {
      "text/plain": [
       "<bound method Random.randint of <random.Random object at 0x000001AC9CED3610>>"
      ]
     },
     "execution_count": 1,
     "metadata": {},
     "output_type": "execute_result"
    }
   ],
   "source": [
    "import random\n",
    "random.randint\n",
    "# bound method means we need to add brackets"
   ]
  },
  {
   "cell_type": "code",
   "execution_count": 2,
   "id": "fe2a1861-9503-4b20-90eb-391a7a78ac03",
   "metadata": {},
   "outputs": [
    {
     "data": {
      "text/plain": [
       "4"
      ]
     },
     "execution_count": 2,
     "metadata": {},
     "output_type": "execute_result"
    }
   ],
   "source": [
    "random.randint(1,20)"
   ]
  },
  {
   "cell_type": "code",
   "execution_count": 3,
   "id": "e5448764-8bd9-4842-8196-58d298aac6f6",
   "metadata": {},
   "outputs": [
    {
     "ename": "TypeError",
     "evalue": "'float' object is not callable",
     "output_type": "error",
     "traceback": [
      "\u001b[1;31m---------------------------------------------------------------------------\u001b[0m",
      "\u001b[1;31mTypeError\u001b[0m                                 Traceback (most recent call last)",
      "Cell \u001b[1;32mIn[3], line 2\u001b[0m\n\u001b[0;32m      1\u001b[0m \u001b[38;5;28;01mimport\u001b[39;00m \u001b[38;5;21;01mmath\u001b[39;00m\n\u001b[1;32m----> 2\u001b[0m math\u001b[38;5;241m.\u001b[39mpi()\n",
      "\u001b[1;31mTypeError\u001b[0m: 'float' object is not callable"
     ]
    }
   ],
   "source": [
    "import math\n",
    "math.pi()"
   ]
  },
  {
   "cell_type": "markdown",
   "id": "4190946f-7a6e-44c4-b86d-4c13a55887c5",
   "metadata": {},
   "source": [
    " 25-6-2024(continuation)\n",
    " () : function or methods\n",
    "\n",
    " only functions or methods are callable\n",
    "\n",
    " if something says not callable means, it is not function\n",
    "\n",
    " it is not a function means , you need to remove brackets\n",
    "\n",
    " bound method means ======== add the brackets\n",
    "\n",
    " function ======= add the brackets\n",
    "\n",
    " not callable means ====== remove the brackets"
   ]
  },
  {
   "cell_type": "markdown",
   "id": "dfb358e3-025b-4aae-8708-c354cd67084e",
   "metadata": {},
   "source": [
    "**time**"
   ]
  },
  {
   "cell_type": "code",
   "execution_count": 6,
   "id": "0e8409ca-c36d-4f21-bc08-2f710e42ec66",
   "metadata": {},
   "outputs": [
    {
     "name": "stdout",
     "output_type": "stream",
     "text": [
      "Father: hello\n",
      "Daughter: how are you?\n",
      "Father: Do u have school today?\n"
     ]
    }
   ],
   "source": [
    "import time\n",
    "print(\"Father: hello\")\n",
    "time.sleep(2)\n",
    "print(\"Daughter: how are you?\")\n",
    "time.sleep(2)\n",
    "print(\"Father: Do u have school today?\")"
   ]
  },
  {
   "cell_type": "code",
   "execution_count": null,
   "id": "0cd8a8e7-8a2f-4f58-9f27-f0bd4ea802e1",
   "metadata": {},
   "outputs": [],
   "source": [
    "Computer vision is used to image operations\n"
   ]
  },
  {
   "cell_type": "code",
   "execution_count": 9,
   "id": "de94e538-a0d2-4527-97c9-db45aaaf3a6f",
   "metadata": {},
   "outputs": [],
   "source": [
    "import cv2"
   ]
  },
  {
   "cell_type": "markdown",
   "id": "cccf2a0d-c4be-44b8-b7db-e77bd88d2ec1",
   "metadata": {},
   "source": [
    "- whenever module not found we need to install it\n",
    "\n",
    "- here our package name is cv2\n",
    "\n",
    "- 99% the installation is like this\n",
    "\n",
    "- pip install <package_name>\n",
    "\n",
    "- some packages installation name will different \n",
    "  and python import name is different\n",
    "\n",
    "- in order to install packages we need internet\n",
    "\n",
    "- if internet problem occurs while installing we will get http error"
   ]
  },
  {
   "cell_type": "code",
   "execution_count": 11,
   "id": "b86cbedf-b393-4777-a439-5f575090619c",
   "metadata": {},
   "outputs": [],
   "source": [
    "import streamlit"
   ]
  },
  {
   "cell_type": "markdown",
   "id": "f85c8fec-f2fe-4e63-95c2-da3467f2deae",
   "metadata": {},
   "source": [
    "**Note**\n",
    "\n",
    "pip freeze is the command to know the already existed packages in our laptop"
   ]
  },
  {
   "cell_type": "code",
   "execution_count": 12,
   "id": "4ebd2710-baae-4b4a-940f-d74ec8085a46",
   "metadata": {},
   "outputs": [],
   "source": [
    "import numpy"
   ]
  },
  {
   "cell_type": "code",
   "execution_count": 13,
   "id": "b3fe08c8-45aa-45f6-89a0-13b2edadaac0",
   "metadata": {},
   "outputs": [
    {
     "data": {
      "text/plain": [
       "<module 'numpy' from 'C:\\\\Users\\\\harik\\\\anaconda3\\\\Lib\\\\site-packages\\\\numpy\\\\__init__.py'>"
      ]
     },
     "execution_count": 13,
     "metadata": {},
     "output_type": "execute_result"
    }
   ],
   "source": [
    "numpy"
   ]
  },
  {
   "cell_type": "markdown",
   "id": "593ec30b-be68-4983-9b47-94b237debf50",
   "metadata": {},
   "source": [
    "- !pip install opencv-python\n",
    "\n",
    "- in jupyter notebook we need to add '!' mark\n",
    "\n",
    "- in anaconda prompt no need of ! marks\n",
    "\n",
    "- directly name you can provide\n",
    "\n"
   ]
  },
  {
   "cell_type": "code",
   "execution_count": null,
   "id": "4bd5bfba-50a1-418d-a727-50761d59934d",
   "metadata": {},
   "outputs": [],
   "source": [
    "# hard coding :'static'\n",
    "# we are fixing the values\n",
    "number1=10\n",
    "number2=20\n",
    "add=number1+number2\n",
    "print(add)"
   ]
  },
  {
   "cell_type": "code",
   "execution_count": 14,
   "id": "316c0402-6bf7-4349-a1ce-08d6c329c606",
   "metadata": {},
   "outputs": [
    {
     "name": "stdout",
     "output_type": "stream",
     "text": [
      "30\n"
     ]
    }
   ],
   "source": [
    "#dynamic\n",
    "number1=eval(input(\"Enter the number1:\"))\n",
    "number2=eval(input(\"Enter the number2:\"))\n",
    "add=number1+number2\n",
    "print(add)"
   ]
  },
  {
   "cell_type": "code",
   "execution_count": 15,
   "id": "d52fbaed-2b0a-4978-8539-7e5d9e35d1e7",
   "metadata": {},
   "outputs": [
    {
     "name": "stdout",
     "output_type": "stream",
     "text": [
      "The addiion of 29 and 42 is 71\n"
     ]
    }
   ],
   "source": [
    "# we can take the numbers randomly also\n",
    "import random\n",
    "number1=random.randint(1,100)\n",
    "number2=random.randint(1,100)\n",
    "add=number1+number2\n",
    "print(f\"The addiion of {number1} and {number2} is {add}\")"
   ]
  },
  {
   "cell_type": "code",
   "execution_count": null,
   "id": "3d244568-a086-467d-a742-5a972f724007",
   "metadata": {},
   "outputs": [],
   "source": [
    "**Hiow we pass the numbers**\n",
    "\n",
    "- hard coding\n",
    "\n",
    "- using keyboard\n",
    "\n",
    "- using random package,taking numbers randomly\n"
   ]
  },
  {
   "cell_type": "code",
   "execution_count": null,
   "id": "a8caaf7d-0c99-404d-921f-10482130785a",
   "metadata": {},
   "outputs": [],
   "source": [
    "##################################################################################\n",
    "number1=10\n",
    "number2=20\n",
    "add=number1+number2\n",
    "print(add)\n",
    "\n",
    "#####################################################################################\n",
    "number1=eval(input(\"Enter the number1:\"))\n",
    "number2=eval(input(\"Enter the number2:\"))\n",
    "add=number1+number2\n",
    "print(add)\n",
    "\n",
    "###################################################################################\n",
    "import random\n",
    "number1=random.randint(1,100)\n",
    "number2=random.randint(1,100)\n",
    "add=number1+number2\n",
    "print(f\"The addiion of {number1} and {number2} is {add}\")"
   ]
  },
  {
   "cell_type": "code",
   "execution_count": null,
   "id": "9d70c56f-0b86-4a51-93a3-e18a6d143950",
   "metadata": {},
   "outputs": [],
   "source": [
    "#in the entire notebook\n",
    "# if you import packages\n",
    "# no need to import evey time\n",
    "# just verify the line is excuted or not\n",
    "# all the packages we will import starting line only"
   ]
  },
  {
   "cell_type": "code",
   "execution_count": 16,
   "id": "9ca3ce0f-5efb-42cb-91bd-44a3ae6d76a8",
   "metadata": {},
   "outputs": [
    {
     "name": "stdin",
     "output_type": "stream",
     "text": [
      "enter num2: 34\n"
     ]
    },
    {
     "name": "stdout",
     "output_type": "stream",
     "text": [
      "The average of 10,34,56 is 33.333333333333336\n"
     ]
    }
   ],
   "source": [
    "\n",
    "n1=10\n",
    "n2=eval(input(\"enter num2:\"))\n",
    "n3=random.randint(1,100)\n",
    "avg=(n1+n2+n3)/3\n",
    "print(f\"The average of {n1},{n2},{n3} is {avg}\")\n",
    "    "
   ]
  },
  {
   "cell_type": "code",
   "execution_count": null,
   "id": "0ab12ffa-c0db-466e-b620-dd5c18b04680",
   "metadata": {},
   "outputs": [],
   "source": [
    "# assignment-2\n",
    "# assignment -1 qns only but \n",
    "# you need to take random values every where\n",
    "\n",
    "\n",
    "#11 the print stmt using time.sleep() method"
   ]
  },
  {
   "cell_type": "code",
   "execution_count": 19,
   "id": "e41d018f-34b4-420c-bcc0-7cde4f381758",
   "metadata": {},
   "outputs": [
    {
     "data": {
      "text/plain": [
       "22.778"
      ]
     },
     "execution_count": 19,
     "metadata": {},
     "output_type": "execute_result"
    }
   ],
   "source": [
    "avg=22.77777788\n",
    "round(avg)"
   ]
  },
  {
   "cell_type": "code",
   "execution_count": 20,
   "id": "008e3610-4316-436a-a590-583310809928",
   "metadata": {},
   "outputs": [
    {
     "data": {
      "text/plain": [
       "22.778"
      ]
     },
     "execution_count": 20,
     "metadata": {},
     "output_type": "execute_result"
    }
   ],
   "source": [
    "round(avg,3)"
   ]
  },
  {
   "cell_type": "code",
   "execution_count": 21,
   "id": "730470c3-c347-48a3-9efc-90e94b54ad4c",
   "metadata": {},
   "outputs": [
    {
     "name": "stdin",
     "output_type": "stream",
     "text": [
      "enter num2: 29\n"
     ]
    },
    {
     "name": "stdout",
     "output_type": "stream",
     "text": [
      "The average of 10,29,31 is 23\n"
     ]
    }
   ],
   "source": [
    "n1=10\n",
    "n2=eval(input(\"enter num2:\"))\n",
    "n3=random.randint(1,100)\n",
    "avg=(n1+n2+n3)/3\n",
    "avg1= round(avg)\n",
    "print(f\"The average of {n1},{n2},{n3} is {avg1}\")"
   ]
  },
  {
   "cell_type": "code",
   "execution_count": 22,
   "id": "6fd2838a-2f6e-4342-b44a-1804e3d9c529",
   "metadata": {},
   "outputs": [
    {
     "name": "stdin",
     "output_type": "stream",
     "text": [
      "enter num2: 45\n"
     ]
    },
    {
     "name": "stdout",
     "output_type": "stream",
     "text": [
      "The average of 10,45,51 is 35.33\n"
     ]
    }
   ],
   "source": [
    "n1=10\n",
    "n2=eval(input(\"enter num2:\"))\n",
    "n3=random.randint(1,100)\n",
    "avg=round((n1+n2+n3)/3,2)\n",
    "\n",
    "print(f\"The average of {n1},{n2},{n3} is {avg}\")"
   ]
  },
  {
   "cell_type": "code",
   "execution_count": null,
   "id": "2c44a8ba-edca-4439-9a1d-1fd14114753b",
   "metadata": {},
   "outputs": [],
   "source": []
  }
 ],
 "metadata": {
  "kernelspec": {
   "display_name": "Python 3 (ipykernel)",
   "language": "python",
   "name": "python3"
  },
  "language_info": {
   "codemirror_mode": {
    "name": "ipython",
    "version": 3
   },
   "file_extension": ".py",
   "mimetype": "text/x-python",
   "name": "python",
   "nbconvert_exporter": "python",
   "pygments_lexer": "ipython3",
   "version": "3.11.7"
  }
 },
 "nbformat": 4,
 "nbformat_minor": 5
}
