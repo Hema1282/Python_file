{
 "cells": [
  {
   "cell_type": "markdown",
   "id": "3b8b6c5c-ad33-4819-833a-671c6c91b070",
   "metadata": {},
   "source": [
    "**Loops**\n",
    "\n",
    "- Iterates a piece of code until the condition satisfy\n",
    "\n",
    "- We can run a code normally\n",
    " \n",
    "- We can run a code  by using function wrapper\n",
    "\n",
    "- We can run a code multiple times(loops)\n",
    "\n",
    "- We can run a code by using condition(condtitions)"
   ]
  },
  {
   "cell_type": "code",
   "execution_count": 2,
   "id": "e81f3469-89d6-4709-8e4c-7576e6ec164c",
   "metadata": {},
   "outputs": [
    {
     "name": "stdout",
     "output_type": "stream",
     "text": [
      "30\n"
     ]
    }
   ],
   "source": [
    "a=10\n",
    "b=20\n",
    "c=a+b\n",
    "print(c)"
   ]
  },
  {
   "cell_type": "code",
   "execution_count": 3,
   "id": "4dec760f-7a16-477a-88c7-a153cdc752ec",
   "metadata": {},
   "outputs": [
    {
     "name": "stdout",
     "output_type": "stream",
     "text": [
      "30\n"
     ]
    }
   ],
   "source": [
    "if True:\n",
    "    a=10\n",
    "    b=20\n",
    "    c=a+b\n",
    "    print(c)"
   ]
  },
  {
   "cell_type": "code",
   "execution_count": 4,
   "id": "db071a21-d75f-4fbf-aaec-8f9ee996879e",
   "metadata": {},
   "outputs": [
    {
     "name": "stdout",
     "output_type": "stream",
     "text": [
      "30\n"
     ]
    }
   ],
   "source": [
    "def add():\n",
    "    a=10\n",
    "    b=20\n",
    "    c=a+b\n",
    "    print(c)\n",
    "add()"
   ]
  },
  {
   "cell_type": "code",
   "execution_count": null,
   "id": "77ab1608-fed4-4f27-a708-10f188a06bb2",
   "metadata": {},
   "outputs": [],
   "source": [
    "salary =eval(input(\"Enter the salary:\"))\n",
    "tax_percent=eval(input(\"Enter the tax percentage:\"))\n",
    "tax_amt=(salary*tax_percent)/100\n",
    "print(tax_amt)\n",
    "\n",
    "#2nd emplpoyee\n",
    "salary =eval(input(\"Enter the salary:\"))\n",
    "tax_percent=eval(input(\"Enter the tax percentage:\"))\n",
    "tax_amt=(salary*tax_percent)/100\n",
    "print(tax_amt)\n",
    "\n",
    "# 3rd employee\n",
    "salary =eval(input(\"Enter the salary:\"))\n",
    "tax_percent=eval(input(\"Enter the tax percentage:\"))\n",
    "tax_amt=(salary*tax_percent)/100\n",
    "print(tax_amt)"
   ]
  },
  {
   "cell_type": "code",
   "execution_count": null,
   "id": "085c23d2-b667-4871-b862-d545ebd39000",
   "metadata": {},
   "outputs": [],
   "source": [
    "def tax():\n",
    "    salary =eval(input(\"Enter the salary:\"))\n",
    "    tax_percent=eval(input(\"Enter the tax percentage:\"))\n",
    "    tax_amt=(salary*tax_percent)/100\n",
    "    print(tax_amt)\n",
    "tax()\n",
    "tax()\n",
    "tax()\n",
    ".\n",
    ".\n",
    ".\n",
    "# if u want to calculate the tax for 100 members then \n",
    "# u need to call the function 100 tyms\n",
    "# for that we use loops "
   ]
  },
  {
   "cell_type": "code",
   "execution_count": null,
   "id": "01889693-06e1-4488-b651-6e5cfe534096",
   "metadata": {},
   "outputs": [],
   "source": [
    "1) second job vs first job no comp\n",
    "2) 2pfs -2jobs\n",
    "3) 1 acc for multiple jobs is not good\n"
   ]
  },
  {
   "cell_type": "markdown",
   "id": "a07e562e-3fa4-4481-a6ed-96d438ca4fb0",
   "metadata": {},
   "source": [
    "- for loop\n",
    "\n",
    "- while loop\n",
    "\n",
    "- any loop\n",
    "\n",
    "  - Intial point to start the loop\n",
    "\n",
    "  - incrment or decrement\n",
    "\n",
    "  - condition to stop the loop\n",
    "\n",
    "      "
   ]
  },
  {
   "cell_type": "markdown",
   "id": "ab1de846-78af-4df0-b492-a3b087c4a6c3",
   "metadata": {},
   "source": [
    "\n",
    "**For loop**"
   ]
  },
  {
   "cell_type": "markdown",
   "id": "5dc7b946-86a0-4b26-bb0d-203a46465698",
   "metadata": {},
   "source": [
    "$ pattern-1 $"
   ]
  },
  {
   "cell_type": "markdown",
   "id": "fbf86126-29d6-47d0-8a51-6ed52f269d19",
   "metadata": {},
   "source": [
    "**range(stop)**"
   ]
  },
  {
   "cell_type": "code",
   "execution_count": null,
   "id": "b4371cbc-57ae-4f96-beca-696589dedd33",
   "metadata": {},
   "outputs": [],
   "source": [
    "#syntax\n",
    "for i in range(<value>):\n",
    "    # start write your code"
   ]
  },
  {
   "cell_type": "markdown",
   "id": "3fc1ddee-3f96-4205-8753-7789e4ce8bc7",
   "metadata": {},
   "source": [
    "- whenever you see the word range it belongs to math family\n",
    "\n",
    "- inside range we need to provide one value , ex:range(3)\n",
    "\n",
    "- if you provide one value\n",
    "\n",
    "     - start value=0\n",
    "\n",
    "     - incrment =+1\n",
    "\n",
    "     - last=stop-1\n",
    "\n",
    "- range(3)\n",
    "\n",
    "    - start values=0\n",
    "\n",
    "    - increment =1\n",
    "\n",
    "    - last=3-1=2\n",
    "\n",
    "    - answers are: 0 1 2\n",
    "\n",
    "\n",
    "**Note**: In python index start with zero"
   ]
  },
  {
   "cell_type": "code",
   "execution_count": 5,
   "id": "3b30201b-cb8d-4b10-861f-a2d7c765f7ad",
   "metadata": {},
   "outputs": [
    {
     "name": "stdout",
     "output_type": "stream",
     "text": [
      "0\n",
      "1\n",
      "2\n"
     ]
    }
   ],
   "source": [
    "for i in range(3):\n",
    "    print(i)"
   ]
  },
  {
   "cell_type": "code",
   "execution_count": null,
   "id": "e267d483-78ce-47f2-93e6-66dd1f172f13",
   "metadata": {},
   "outputs": [],
   "source": [
    "print(0)\n",
    "print(1)\n",
    "print(2)\n",
    "print(3)\n",
    "print(4)\n",
    "\n",
    "print(i)"
   ]
  },
  {
   "cell_type": "code",
   "execution_count": 6,
   "id": "2281537d-d11c-46f9-9d6c-69b097a6cf50",
   "metadata": {},
   "outputs": [
    {
     "name": "stdout",
     "output_type": "stream",
     "text": [
      "Hello\n",
      "Hello\n",
      "Hello\n",
      "Hello\n",
      "Hello\n"
     ]
    }
   ],
   "source": [
    "# I want to print hello 5 tyms:\n",
    "for i in range(5):\n",
    "    print(\"Hello\")"
   ]
  },
  {
   "cell_type": "code",
   "execution_count": 7,
   "id": "1687ce3d-1394-4e86-be99-9cd1d70eb68e",
   "metadata": {},
   "outputs": [
    {
     "name": "stdout",
     "output_type": "stream",
     "text": [
      "5 is odd\n",
      "6 is even\n",
      "76 is even\n"
     ]
    }
   ],
   "source": [
    "# For example \n",
    "# take a random number between 1 to 100\n",
    "# print it is a even number and odd number\n",
    "# you need to generate 3 random number\n",
    "\n",
    "import random\n",
    "for i in range(3):\n",
    "    num=random.randint(1,100)\n",
    "    if num%2 == 0:\n",
    "        print(f\"{num} is even\")\n",
    "    else:\n",
    "        print(f\"{num} is odd\")"
   ]
  },
  {
   "cell_type": "code",
   "execution_count": 12,
   "id": "abaaa59d-7c75-4f3d-996a-4a4431dfb761",
   "metadata": {},
   "outputs": [
    {
     "name": "stdout",
     "output_type": "stream",
     "text": [
      "0\n",
      "1\n",
      "2\n",
      "3\n",
      "4\n",
      "5\n",
      "6\n",
      "7\n",
      "8\n",
      "9\n"
     ]
    }
   ],
   "source": [
    "for i in range(10):\n",
    "    print(i)"
   ]
  },
  {
   "cell_type": "code",
   "execution_count": 10,
   "id": "eaeb30a9-373a-4e1f-b025-ac11d0e6f0c1",
   "metadata": {},
   "outputs": [
    {
     "name": "stdout",
     "output_type": "stream",
     "text": [
      "0 1 2 3 4\n",
      "9\n"
     ]
    }
   ],
   "source": [
    "print(0,end=' ')\n",
    "print(1,end=' ')\n",
    "print(2,end=' ')\n",
    "print(3,end=' ')\n",
    "print(4)\n",
    "\n",
    "# print(i,end=' ')"
   ]
  },
  {
   "cell_type": "code",
   "execution_count": 11,
   "id": "246fd5f6-438e-40d6-a5fb-c1029d41c2f5",
   "metadata": {},
   "outputs": [
    {
     "name": "stdout",
     "output_type": "stream",
     "text": [
      "0 1 2 3 4 5 6 7 8 9 "
     ]
    }
   ],
   "source": [
    "for i in range(10):\n",
    "    print(i,end=' ')"
   ]
  },
  {
   "cell_type": "code",
   "execution_count": 13,
   "id": "16ca5130-8612-4be7-8891-6ea69e138cc8",
   "metadata": {},
   "outputs": [],
   "source": [
    "# sep : will seperate multiple values in same print statements\n",
    "# end: combine multiple print statements"
   ]
  },
  {
   "cell_type": "markdown",
   "id": "43fa7663-21d9-4b1d-8b63-74894ffc2a6c",
   "metadata": {},
   "source": [
    "$Pattern-2$\n",
    "\n",
    "**range(start,stop)**\n",
    "\n",
    "- range(10,20)\n",
    "     - start value=10\n",
    " \n",
    "     - increment=1\n",
    " \n",
    "     - last =stop-1 =20-1 =19\n",
    " \n",
    "     - ans  10 11 12 13 14 15 16 17 18 19"
   ]
  },
  {
   "cell_type": "code",
   "execution_count": 14,
   "id": "b36f020e-45cb-4be4-b2d1-fbe0184948db",
   "metadata": {},
   "outputs": [
    {
     "name": "stdout",
     "output_type": "stream",
     "text": [
      "10 11 12 13 14 15 16 17 18 19 "
     ]
    }
   ],
   "source": [
    "for i in range(10,20):\n",
    "    print(i,end=' ')"
   ]
  },
  {
   "cell_type": "code",
   "execution_count": 19,
   "id": "25b119c0-d308-44aa-8d00-4889ad23a116",
   "metadata": {},
   "outputs": [
    {
     "name": "stdout",
     "output_type": "stream",
     "text": [
      "The square of 20 is 400\n",
      "The square of 21 is 441\n",
      "The square of 22 is 484\n",
      "The square of 23 is 529\n",
      "The square of 24 is 576\n",
      "The square of 25 is 625\n"
     ]
    }
   ],
   "source": [
    "# wap ask the user print the square of the number between\n",
    "\n",
    "# 20 to 25\n",
    "\n",
    "for i in range(20,26):\n",
    "    print(f\"The square of {i} is {i*i}\")"
   ]
  },
  {
   "cell_type": "code",
   "execution_count": 16,
   "id": "9dbc3485-2855-4d25-9706-18c06e7bfaf0",
   "metadata": {},
   "outputs": [
    {
     "name": "stdout",
     "output_type": "stream",
     "text": [
      "10 is even\n",
      "11 is odd\n",
      "12 is even\n",
      "13 is odd\n",
      "14 is even\n",
      "15 is odd\n",
      "16 is even\n",
      "17 is odd\n",
      "18 is even\n",
      "19 is odd\n",
      "20 is even\n"
     ]
    }
   ],
   "source": [
    "# wap ask the user print the number is even or odd between 10 -20\n",
    "\n",
    "for i in range(10,21):\n",
    "    if  i%2 ==0:\n",
    "        print(f\"{i} is even\")\n",
    "    else:\n",
    "        print(f\"{i} is odd\")"
   ]
  },
  {
   "cell_type": "markdown",
   "id": "274453f3-5ede-49f5-8a30-1f18375493c1",
   "metadata": {},
   "source": [
    "$ Pattern-3$\n",
    "\n",
    "**range(start,stop,step)**\n",
    "\n",
    "- start value= start values\n",
    "\n",
    "- step value\n",
    "\n",
    "     - Positive step value\n",
    "\n",
    "       - if step value is positive: incrment\n",
    " \n",
    "       - last=stop-1\n",
    " \n",
    "    - negative step value\n",
    "\n",
    "      - is step values is negative: decrement\n",
    "     \n",
    "      - last= stop+1"
   ]
  },
  {
   "cell_type": "code",
   "execution_count": 21,
   "id": "22f5eaf5-cd5b-4453-a2a7-6b34d86abeaa",
   "metadata": {},
   "outputs": [
    {
     "name": "stdout",
     "output_type": "stream",
     "text": [
      "2 4 6 8 10 12 14 16 18 "
     ]
    }
   ],
   "source": [
    "# case-1\n",
    "for i in range(2,20,2):\n",
    "    print(i,end=' ')\n",
    "\n",
    "\n",
    "# start=2\n",
    "# step =+v 2\n",
    "# last = stop-1 =20 - 1 =19\n",
    "# 2 4 6 8 10 12 14 16 18"
   ]
  },
  {
   "cell_type": "code",
   "execution_count": 22,
   "id": "b5513bce-4ce8-4d8c-a64e-80a407277d97",
   "metadata": {},
   "outputs": [
    {
     "name": "stdout",
     "output_type": "stream",
     "text": [
      "10 "
     ]
    }
   ],
   "source": [
    "for i in range(10,20,30):\n",
    "    print(i,end=' ')\n",
    "\n",
    "# start=10\n",
    "# step = +ve ,30\n",
    "# stop = last-1 = 20-1 = 19"
   ]
  },
  {
   "cell_type": "code",
   "execution_count": 23,
   "id": "fe6912f4-1209-4534-a558-3452f13e342d",
   "metadata": {},
   "outputs": [],
   "source": [
    "# case -2\n",
    "for i in range(2,20,-2):      # range(start,stop,step)\n",
    "    print(i,end=' ')\n",
    "\n",
    "\n",
    "# start =2\n",
    "# step = -2,negative direction\n",
    "# last = stop+1 : 20+1 =21\n"
   ]
  },
  {
   "cell_type": "code",
   "execution_count": 24,
   "id": "de1cd6c2-8a4a-44b8-b48f-92cf1fa90e3d",
   "metadata": {},
   "outputs": [
    {
     "name": "stdout",
     "output_type": "stream",
     "text": [
      "20 18 16 14 12 10 8 6 4 "
     ]
    }
   ],
   "source": [
    "# case -3\n",
    "for i in range(20,2,-2):      # range(start,stop,step)\n",
    "    print(i,end=' ')\n",
    "\n",
    "# start =20\n",
    "# step = -2,negative direction\n",
    "# last = stop+1 : 2+1 =3\n",
    "# 20 18 16 14 12 10 8 6 4 \n"
   ]
  },
  {
   "cell_type": "code",
   "execution_count": null,
   "id": "ccd739a7-595e-48d6-87eb-92edbf17f8c5",
   "metadata": {},
   "outputs": [],
   "source": [
    "range(3,20,2)\n",
    "range(3,20,-2)\n",
    "range(3,-20,2)\n",
    "range(3,-20,-2)\n",
    "range(-3,20,2)\n",
    "range(-3,-20,2)\n",
    "range(-3,20,-2)\n",
    "range(20,3,2)\n",
    "range(20,3,-2)\n",
    "range(20,-3,-2)\n",
    "range(-20,-3,-2)\n",
    "\n"
   ]
  },
  {
   "cell_type": "code",
   "execution_count": 27,
   "id": "31c2a19d-84fd-4f63-a4e3-f4d2e1837986",
   "metadata": {},
   "outputs": [
    {
     "name": "stdout",
     "output_type": "stream",
     "text": [
      "20 18 16 14 12 10 8 6 4 2 0 -2 "
     ]
    }
   ],
   "source": [
    "for i in range(20,-3,-2):\n",
    "    print(i,end=' ')"
   ]
  },
  {
   "cell_type": "code",
   "execution_count": null,
   "id": "f9f1c483-ad90-457b-99b0-35c172f1e969",
   "metadata": {},
   "outputs": [],
   "source": [
    "# For example \n",
    "# take a random number between 1 to 100\n",
    "# print it is a even number and odd number\n",
    "# you need to generate 3 random number\n",
    "\n",
    "import random\n",
    "for i in range(3):\n",
    "    num=random.randint(1,100)\n",
    "    if num%2 == 0:\n",
    "        print(f\"{num} is even\")\n",
    "    else:\n",
    "        print(f\"{num} is odd\")"
   ]
  },
  {
   "cell_type": "code",
   "execution_count": 2,
   "id": "ab1f3132-2696-43d2-b7ea-bb1a2390cb16",
   "metadata": {},
   "outputs": [
    {
     "name": "stdin",
     "output_type": "stream",
     "text": [
      "Enter a number: 3\n"
     ]
    },
    {
     "name": "stdout",
     "output_type": "stream",
     "text": [
      " The square of the 3 is 9\n"
     ]
    },
    {
     "name": "stdin",
     "output_type": "stream",
     "text": [
      "Enter a number: 4\n"
     ]
    },
    {
     "name": "stdout",
     "output_type": "stream",
     "text": [
      " The square of the 4 is 16\n"
     ]
    },
    {
     "name": "stdin",
     "output_type": "stream",
     "text": [
      "Enter a number: 5\n"
     ]
    },
    {
     "name": "stdout",
     "output_type": "stream",
     "text": [
      " The square of the 5 is 25\n"
     ]
    }
   ],
   "source": [
    "# 4Q) wap ask the user enter a number three times find the square of the number\n",
    "for i in range(3):\n",
    "    num=eval(input(\"Enter a number:\"))\n",
    "    print(f\" The square of the {num} is {num*num}\")\n"
   ]
  },
  {
   "cell_type": "code",
   "execution_count": null,
   "id": "b648926d-25a3-45bd-984e-8c8046e91a80",
   "metadata": {},
   "outputs": [],
   "source": [
    "# 5Q) Print 14 th table\n",
    "# ans: 14 x 1 = 14\n",
    "#      14 x 2 = 28\n",
    "#      14 x 3 = 42\n",
    "#      14 x 4 = 56\n",
    "#\n",
    "#\n",
    "#      14 x 10 = 140"
   ]
  },
  {
   "cell_type": "code",
   "execution_count": 4,
   "id": "a47fbe70-fff0-4582-a352-59d17b3d4f94",
   "metadata": {},
   "outputs": [
    {
     "name": "stdout",
     "output_type": "stream",
     "text": [
      " 14 x 1 = 14\n",
      " 14 x 2 = 28\n",
      " 14 x 3 = 42\n",
      " 14 x 4 = 56\n",
      " 14 x 5 = 70\n",
      " 14 x 6 = 84\n",
      " 14 x 7 = 98\n",
      " 14 x 8 = 112\n",
      " 14 x 9 = 126\n",
      " 14 x 10 = 140\n"
     ]
    }
   ],
   "source": [
    "\n",
    "for i in range(1,11):\n",
    "    print(f\" 14 x {i} = {14*i}\")"
   ]
  },
  {
   "cell_type": "code",
   "execution_count": 5,
   "id": "52cd8239-d600-4d4d-96e6-b6572cb91f38",
   "metadata": {},
   "outputs": [
    {
     "name": "stdin",
     "output_type": "stream",
     "text": [
      "Enter the value you want to see: 5\n"
     ]
    },
    {
     "name": "stdout",
     "output_type": "stream",
     "text": [
      "5 x 1 = 5\n",
      "5 x 2 = 10\n",
      "5 x 3 = 15\n",
      "5 x 4 = 20\n",
      "5 x 5 = 25\n",
      "5 x 6 = 30\n",
      "5 x 7 = 35\n",
      "5 x 8 = 40\n",
      "5 x 9 = 45\n",
      "5 x 10 = 50\n"
     ]
    }
   ],
   "source": [
    "num=eval(input(\"Enter the value you want to see:\"))\n",
    "for i in range(1,11):\n",
    "    val=i*num\n",
    "    print(f\"{num} x {i} = {val}\")"
   ]
  },
  {
   "cell_type": "code",
   "execution_count": 11,
   "id": "d3900e60-a82f-4c2b-a3bd-a7828838cdf1",
   "metadata": {},
   "outputs": [
    {
     "name": "stdin",
     "output_type": "stream",
     "text": [
      "Enter the number you want to find the factors: 10\n"
     ]
    },
    {
     "name": "stdout",
     "output_type": "stream",
     "text": [
      "The factors of the 10 are:\n",
      "1\n",
      "2\n",
      "5\n",
      "10\n"
     ]
    }
   ],
   "source": [
    "# 6Q) Find the factors of 75\n",
    "\n",
    "# step1: iterate the loop =which numbers factor you want\n",
    "# step2: Apply the if condtion \n",
    "#        cond=divide the number with each i\n",
    "\n",
    "num= eval(input(\"Enter the number you want to find the factors:\"))\n",
    "print(f\"The factors of the {num} are:\")\n",
    "for i in range(1,num+1):\n",
    "    if num%i ==0:\n",
    "        print(i)\n",
    "# print(f\""
   ]
  },
  {
   "cell_type": "code",
   "execution_count": 12,
   "id": "60c1ce44-f0e0-47e5-91e9-399cc18c8441",
   "metadata": {},
   "outputs": [],
   "source": [
    "# 7Q) write the sum of first 10 natural numbers\n",
    "# 1 tto 10\n",
    "# 1+2+3+4+5+6+7+8+9+10=55\n",
    "\n",
    "0+"
   ]
  },
  {
   "cell_type": "markdown",
   "id": "dedc94f2-eca0-4110-9412-3409ab5263d6",
   "metadata": {},
   "source": [
    "**Summation wrapper**\n",
    "\n",
    "- Intially we need to keep sum=0\n",
    "\n",
    "- Make sure that do not provide **sum**\n",
    "\n",
    "- Because sum is a keyword\n",
    "\n",
    "- inside for loop : summ=summ+i\n",
    "\n"
   ]
  },
  {
   "cell_type": "code",
   "execution_count": 28,
   "id": "735edeca-9856-430e-8d4b-9d1a8e07bc05",
   "metadata": {},
   "outputs": [
    {
     "name": "stdout",
     "output_type": "stream",
     "text": [
      "0+1=1\n",
      "1+2=3\n",
      "3+3=6\n",
      "6+4=10\n",
      "10+5=15\n",
      "15+6=21\n",
      "21+7=28\n",
      "28+8=36\n",
      "36+9=45\n",
      "45+10=55\n",
      "The sum of first 10 natural numbers is : 55\n"
     ]
    }
   ],
   "source": [
    "# summ=0\n",
    "# for loop:\n",
    "    # write what do u want\n",
    "    # summ=summ+i\n",
    "\n",
    "\n",
    "summ=0\n",
    "for i in range(1,11):\n",
    "    summ=summ+i\n",
    "    print(f\"{summ-i}+{i}={summ}\")\n",
    "    \n",
    "print(f\"The sum of first 10 natural numbers is : {summ}\")"
   ]
  },
  {
   "cell_type": "code",
   "execution_count": 2,
   "id": "428fdfc7-b685-4bcd-8d09-0dc52b9e9c9a",
   "metadata": {},
   "outputs": [
    {
     "name": "stdout",
     "output_type": "stream",
     "text": [
      "0+1=1\n",
      "1+2=3\n",
      "3+3=6\n",
      "6+4=10\n",
      "10+5=15\n",
      "15+6=21\n",
      "21+7=28\n",
      "28+8=36\n",
      "36+9=45\n",
      "45+10=55\n"
     ]
    }
   ],
   "source": [
    "summ=0\n",
    "for i in range(1,11):\n",
    "    val=summ\n",
    "    summ=summ+i\n",
    "    print(f\"{val}+{i}={summ}\")"
   ]
  },
  {
   "cell_type": "markdown",
   "id": "f5a12066-0218-4bc6-b1f5-0735a90d4d1e",
   "metadata": {},
   "source": [
    "**Note**\n",
    "\n",
    "- If we print answer from out of for loop ,last answer will print"
   ]
  },
  {
   "cell_type": "code",
   "execution_count": null,
   "id": "06cb16e7-8ae0-434d-8e6e-08ce766a4549",
   "metadata": {},
   "outputs": [],
   "source": [
    "# 8Q) Average of first 10 ten numbers\n",
    "# avg=summ of all the numbers \n",
    "# Wap to find the average of 'N' numbers in python\n"
   ]
  },
  {
   "cell_type": "code",
   "execution_count": 4,
   "id": "b9b38644-d351-40fa-9716-39dd312d3b45",
   "metadata": {},
   "outputs": [
    {
     "name": "stdin",
     "output_type": "stream",
     "text": [
      "Enter the number upto which u want to find the average: 10\n"
     ]
    },
    {
     "name": "stdout",
     "output_type": "stream",
     "text": [
      "The average of first 10 numbers is 5.5\n"
     ]
    }
   ],
   "source": [
    "n= eval(input(\"Enter the number upto which u want to find the average:\"))\n",
    "summ=0\n",
    "for i in range(1,n+1):\n",
    "    summ=summ+i\n",
    "    avg=(summ)/n\n",
    "print(f\"The average of first {n} numbers is {avg}\")\n",
    "        "
   ]
  },
  {
   "cell_type": "markdown",
   "id": "d14adc7f-21cf-4701-a38c-00adf7a23457",
   "metadata": {},
   "source": [
    "**Counter wrapper**\n",
    "\n",
    "- Before for loop intialise with count=0\n",
    "\n",
    "-  Under for loop count=count+1\n",
    "\n",
    "- Counter always increase bt 1 only\n",
    "                           "
   ]
  },
  {
   "cell_type": "code",
   "execution_count": 33,
   "id": "73834d60-5a99-4e53-a77a-1cc4e9013a09",
   "metadata": {},
   "outputs": [
    {
     "name": "stdin",
     "output_type": "stream",
     "text": [
      "Enter the number you want to find the factors: 75\n"
     ]
    },
    {
     "name": "stdout",
     "output_type": "stream",
     "text": [
      "The number of divisors of 75 is :6\n"
     ]
    }
   ],
   "source": [
    "# 9Q) find the number of divisors of 75\n",
    "# ans: 1,3,5,15,25,75\n",
    "# Number=6\n",
    "\n",
    "count=0\n",
    "num= eval(input(\"Enter the number you want to find the factors:\"))\n",
    "for i in range(1,num+1):\n",
    "    if num%i ==0:\n",
    "        count+=1\n",
    "print(f\"The number of divisors of {num} is :{count}\")"
   ]
  },
  {
   "cell_type": "markdown",
   "id": "dbf5a9c6-2584-4202-91d6-eea471e162b4",
   "metadata": {},
   "source": [
    "**summ=summ+i  ======> summ+=i**\n",
    "**count=count+i ====>count+=i**"
   ]
  },
  {
   "cell_type": "code",
   "execution_count": 43,
   "id": "891d9ac0-a4b9-4f00-8796-b8aae225dce0",
   "metadata": {},
   "outputs": [
    {
     "name": "stdin",
     "output_type": "stream",
     "text": [
      "Enter any number between 1-10: 10\n"
     ]
    },
    {
     "name": "stdout",
     "output_type": "stream",
     "text": [
      "Fail\n"
     ]
    },
    {
     "name": "stdin",
     "output_type": "stream",
     "text": [
      "Enter any number between 1-10: 7\n"
     ]
    },
    {
     "name": "stdout",
     "output_type": "stream",
     "text": [
      "Won\n"
     ]
    },
    {
     "name": "stdin",
     "output_type": "stream",
     "text": [
      "Enter any number between 1-10: 8\n"
     ]
    },
    {
     "name": "stdout",
     "output_type": "stream",
     "text": [
      "Fail\n"
     ]
    }
   ],
   "source": [
    "# 10Q)\n",
    "# Get a random number between 1 to 10: num1\n",
    "# Ask the user enter a number : num2\n",
    "# if num1== num2 then print won\n",
    "# else print fail\n",
    "\n",
    "import random\n",
    "for i in range(3):\n",
    "    num1=random.randint(1,10)\n",
    "    num2=eval(input(\"Enter any number between 1-10:\"))\n",
    "    if num1==num2:\n",
    "        print(\"Won\")\n",
    "    else:\n",
    "        print(\"Fail\")"
   ]
  },
  {
   "cell_type": "code",
   "execution_count": 44,
   "id": "ddb0922c-f367-43a4-baf5-9351c4e3bcc2",
   "metadata": {},
   "outputs": [
    {
     "name": "stdout",
     "output_type": "stream",
     "text": [
      "6\n"
     ]
    },
    {
     "name": "stdin",
     "output_type": "stream",
     "text": [
      "Enter any number between 1-10: 8\n"
     ]
    },
    {
     "name": "stdout",
     "output_type": "stream",
     "text": [
      "Fail\n",
      "9\n"
     ]
    },
    {
     "name": "stdin",
     "output_type": "stream",
     "text": [
      "Enter any number between 1-10: 9\n"
     ]
    },
    {
     "name": "stdout",
     "output_type": "stream",
     "text": [
      "Won\n"
     ]
    }
   ],
   "source": [
    "# case-2 : Whenever you won the code should be stop\n",
    "import random\n",
    "for i in range(3):\n",
    "    num1=random.randint(1,10)\n",
    "    print(num1)\n",
    "    num2=eval(input(\"Enter any number between 1-10:\"))\n",
    "    if num1==num2:\n",
    "        print(\"Won\")\n",
    "        break\n",
    "    else:\n",
    "        print(\"Fail\")"
   ]
  },
  {
   "cell_type": "code",
   "execution_count": null,
   "id": "b2c81410-abab-4237-a1a4-f7c70f4482c8",
   "metadata": {},
   "outputs": [],
   "source": [
    "# case-3 \n",
    "# Suppose i want to give 4 chances\n",
    "# Every time u fail I want to display \n",
    "      # number of chances left\n",
    "\n",
    "# if all the chances you are used\n",
    "     #   Try again after 24 hrs\n",
    "\n",
    "\n",
    "#If you are win "
   ]
  },
  {
   "cell_type": "code",
   "execution_count": 64,
   "id": "9d051925-12c6-49aa-bf65-1e0b34c67bba",
   "metadata": {},
   "outputs": [
    {
     "name": "stdin",
     "output_type": "stream",
     "text": [
      "Enter no. of chances you want to give: 4\n",
      "Enter any number between 1 -10: 5\n"
     ]
    },
    {
     "name": "stdout",
     "output_type": "stream",
     "text": [
      "Fail,You have 3 chances left\n",
      "       \n"
     ]
    },
    {
     "name": "stdin",
     "output_type": "stream",
     "text": [
      "Enter any number between 1 -10: 7\n"
     ]
    },
    {
     "name": "stdout",
     "output_type": "stream",
     "text": [
      "Fail,You have 2 chances left\n",
      "       \n"
     ]
    },
    {
     "name": "stdin",
     "output_type": "stream",
     "text": [
      "Enter any number between 1 -10: 5\n"
     ]
    },
    {
     "name": "stdout",
     "output_type": "stream",
     "text": [
      "Fail,You have 1 chances left\n",
      "       \n"
     ]
    },
    {
     "name": "stdin",
     "output_type": "stream",
     "text": [
      "Enter any number between 1 -10: 9\n"
     ]
    },
    {
     "name": "stdout",
     "output_type": "stream",
     "text": [
      "Fail,All your chances are over,Try again after 24 hrs\n"
     ]
    }
   ],
   "source": [
    "import random\n",
    "chances=eval(input(\"Enter no. of chances you want to give:\"))\n",
    "for i in range(chances):\n",
    "    num1=random.randint(1,10)\n",
    "    num2=eval(input(\"Enter any number between 1 -10:\"))\n",
    "    if  num1!=num2:\n",
    "            chances-=1\n",
    "            if chances ==0:\n",
    "                print(\"Fail,All your chances are over,Try again after 24 hrs\")\n",
    "            else:\n",
    "                print(f\"Fail,You have {chances} chances left\")\n",
    "                print(\"       \")\n",
    "    else:\n",
    "        print(\"You won\")\n",
    "        break\n",
    "        \n",
    "        \n"
   ]
  },
  {
   "cell_type": "code",
   "execution_count": null,
   "id": "7f56502b-ed2f-4c11-9038-bafccdb24853",
   "metadata": {},
   "outputs": [],
   "source": [
    "# wap ask the user get 5 random numbers\n",
    "# Get it is an even number or odd number\n",
    "# also count how many even numbers are there\n",
    "# and count how many odd numbers are there\n",
    "\n",
    "# idea\n",
    "# take two counters one even and odd counter\n",
    "# For 5 tyms\n",
    "# each tym take the random number\n",
    "# if condition\n",
    "#    True , counter update\n",
    "#else\n",
    "# update counter\n",
    "\n",
    "# summation\n",
    "# sum=summ+<Person will decide>\n",
    "\n",
    "# counter\n",
    "# count=count+1\n"
   ]
  },
  {
   "cell_type": "code",
   "execution_count": 6,
   "id": "27f738eb-e6e3-4a8b-855f-f67bccb02df7",
   "metadata": {},
   "outputs": [
    {
     "name": "stdout",
     "output_type": "stream",
     "text": [
      "47 is odd\n",
      "3 is odd\n",
      "10 is even\n",
      "90 is even\n",
      "61 is odd\n",
      "Total no. of even numbers: 2\n",
      "Total no. of odd numbers: 3\n"
     ]
    }
   ],
   "source": [
    "import random\n",
    "even_counter=0\n",
    "odd_counter=0\n",
    "# even_counter,odd_counter=0,0\n",
    "for i in range(5):\n",
    "    n0=random.randint(1,100)\n",
    "    if n0%2==0:\n",
    "        even_counter+=1\n",
    "        print(f\"{n0} is even\")\n",
    "    else:\n",
    "        odd_counter+=1\n",
    "        print(f\"{n0} is odd\")\n",
    "print(f\"Total no. of even numbers: {even_counter}\")        \n",
    "print(f\"Total no. of odd numbers: {odd_counter}\")\n"
   ]
  },
  {
   "cell_type": "code",
   "execution_count": null,
   "id": "96611e4c-9310-4556-ae5f-584b439d5246",
   "metadata": {},
   "outputs": [],
   "source": [
    "# wap ask the user get 5 random numbers\n",
    "# Get it is an even number or odd number\n",
    "# also count how many even numbers are there\n",
    "# and count how many odd numbers are there\n",
    "# I want summ even numbers\n",
    "# I want summ odd numbers"
   ]
  },
  {
   "cell_type": "code",
   "execution_count": 10,
   "id": "8cf8a9af-7294-424b-9a0d-5a04cbda4b4f",
   "metadata": {},
   "outputs": [
    {
     "name": "stdout",
     "output_type": "stream",
     "text": [
      "Total no. of even numbers: 3\n",
      "Total no. of odd numbers: 2\n",
      "The sum of even numbers:212\n",
      "The sum of odd numbers:94\n"
     ]
    }
   ],
   "source": [
    "import random\n",
    "even_sum,odd_sum=0,0\n",
    "even_counter,odd_counter=0,0\n",
    "for i in range(5):\n",
    "    n0=random.randint(1,100)\n",
    "    if n0%2==0:\n",
    "        even_counter+=1\n",
    "        even_sum=even_sum+n0\n",
    "    else:\n",
    "        odd_counter+=1\n",
    "        odd_sum=odd_sum+n0\n",
    "print(f\"Total no. of even numbers: {even_counter}\")        \n",
    "print(f\"Total no. of odd numbers: {odd_counter}\")\n",
    "print(f\"The sum of even numbers:{even_sum}\")\n",
    "print(f\"The sum of odd numbers:{odd_sum}\")\n"
   ]
  },
  {
   "cell_type": "code",
   "execution_count": 19,
   "id": "ebf73f93-5e37-4b50-88e4-9e44398e224c",
   "metadata": {},
   "outputs": [
    {
     "name": "stdout",
     "output_type": "stream",
     "text": [
      "Total no. of even numbers: 3\n",
      "Total no. of odd numbers: 2\n",
      "The sum of even numbers:160\n",
      "The sum of odd numbers:50\n"
     ]
    }
   ],
   "source": [
    "# create a function and return all values\n",
    "# retiurn all 4\n",
    "# and printb it\n",
    "\n",
    "import random\n",
    "even_sum,odd_sum=0,0\n",
    "even_counter,odd_counter=0,0\n",
    "def sum_count():\n",
    "    even_sum,odd_sum=0,0\n",
    "    even_counter,odd_counter=0,0\n",
    "    for i in range(5):\n",
    "        n0=random.randint(1,100)\n",
    "        if n0%2==0:\n",
    "            even_counter+=1\n",
    "            even_sum=even_sum+n0\n",
    "        else:\n",
    "            odd_counter+=1\n",
    "            odd_sum=odd_sum+n0\n",
    "    return (even_counter,odd_counter,even_sum,odd_sum)\n",
    "even_counter,odd_counter,even_sum,odd_sum=sum_count()\n",
    "print(f\"Total no. of even numbers: {even_counter}\")        \n",
    "print(f\"Total no. of odd numbers: {odd_counter}\")\n",
    "print(f\"The sum of even numbers:{even_sum}\")\n",
    "print(f\"The sum of odd numbers:{odd_sum}\")"
   ]
  },
  {
   "cell_type": "markdown",
   "id": "d76a7f46-30d1-4d46-8a57-dc7036ab3a04",
   "metadata": {},
   "source": [
    "**in operator**"
   ]
  },
  {
   "cell_type": "code",
   "execution_count": 22,
   "id": "ef3d07c7-8c52-4d10-9e3c-dd4c157f1dc4",
   "metadata": {},
   "outputs": [
    {
     "data": {
      "text/plain": [
       "True"
      ]
     },
     "execution_count": 22,
     "metadata": {},
     "output_type": "execute_result"
    }
   ],
   "source": [
    "string1='python'\n",
    "'p' in string1\n",
    "'y' in string1\n",
    "'t' in string1\n",
    "\n",
    "# i in string1\n"
   ]
  },
  {
   "cell_type": "code",
   "execution_count": 25,
   "id": "4c06630f-6bf5-48d2-ba6c-5223dd01aded",
   "metadata": {},
   "outputs": [
    {
     "name": "stdout",
     "output_type": "stream",
     "text": [
      "p\n",
      "y\n",
      "t\n",
      "h\n",
      "o\n",
      "n\n"
     ]
    }
   ],
   "source": [
    "for i in string1:\n",
    "    print(i)"
   ]
  },
  {
   "cell_type": "code",
   "execution_count": 26,
   "id": "a25ec18e-49b3-496f-b2da-67d3a9fae14b",
   "metadata": {},
   "outputs": [
    {
     "ename": "TypeError",
     "evalue": "'str' object cannot be interpreted as an integer",
     "output_type": "error",
     "traceback": [
      "\u001b[1;31m---------------------------------------------------------------------------\u001b[0m",
      "\u001b[1;31mTypeError\u001b[0m                                 Traceback (most recent call last)",
      "Cell \u001b[1;32mIn[26], line 1\u001b[0m\n\u001b[1;32m----> 1\u001b[0m \u001b[38;5;28;01mfor\u001b[39;00m i \u001b[38;5;129;01min\u001b[39;00m \u001b[38;5;28mrange\u001b[39m(string1):\n\u001b[0;32m      2\u001b[0m     \u001b[38;5;28mprint\u001b[39m(i)\n",
      "\u001b[1;31mTypeError\u001b[0m: 'str' object cannot be interpreted as an integer"
     ]
    }
   ],
   "source": [
    "for i in range(string1):\n",
    "    print(i)"
   ]
  },
  {
   "cell_type": "markdown",
   "id": "61225c88-0390-4e24-ae5f-9d5a2054ec5a",
   "metadata": {},
   "source": [
    "**Difference between in operator and range operator**\n",
    "\n",
    "- range belongs to math family\n",
    "\n",
    "- inside $range$ we need to keep numbers only\n",
    "\n",
    "- whenever if we want to iterate through a english letters\n",
    "\n",
    "- we need to choose $in$ operator\n",
    "\n",
    "- $range$ means Numbers\n",
    "\n",
    "- $in$ means strings"
   ]
  },
  {
   "cell_type": "code",
   "execution_count": 28,
   "id": "2941eb79-017d-4a5c-9122-c41863d8b566",
   "metadata": {},
   "outputs": [
    {
     "data": {
      "text/plain": [
       "True"
      ]
     },
     "execution_count": 28,
     "metadata": {},
     "output_type": "execute_result"
    }
   ],
   "source": [
    "'p'>'P'"
   ]
  },
  {
   "cell_type": "markdown",
   "id": "d3a0d91c-fa17-486f-98ba-f4e3ac1bcb01",
   "metadata": {},
   "source": [
    "- every english letter \n",
    "\n",
    "- every special characters how machine will understand?\n",
    "\n",
    "- Machine language always consider as numbers\n",
    "\n",
    "- Every non numeric assign a number\n",
    "\n",
    "- ASCII : American Standard Code for Information Interchange\n",
    "\n",
    "- A:65 ,a:97"
   ]
  },
  {
   "cell_type": "markdown",
   "id": "96d582bd-f6b4-4ae3-89e4-3d3ce966c9b1",
   "metadata": {},
   "source": [
    "**ord-chr**"
   ]
  },
  {
   "cell_type": "markdown",
   "id": "43985c5c-5762-4576-8952-966f7983dd0a",
   "metadata": {},
   "source": [
    "A ====> 65 ===>0b1000001"
   ]
  },
  {
   "cell_type": "code",
   "execution_count": 30,
   "id": "44564493-5998-45bc-8a34-bfcc98d82082",
   "metadata": {},
   "outputs": [
    {
     "data": {
      "text/plain": [
       "65"
      ]
     },
     "execution_count": 30,
     "metadata": {},
     "output_type": "execute_result"
    }
   ],
   "source": [
    "0b1000001"
   ]
  },
  {
   "cell_type": "code",
   "execution_count": 33,
   "id": "c4c93943-12d8-4fc9-a682-3eea8386c824",
   "metadata": {},
   "outputs": [
    {
     "data": {
      "text/plain": [
       "(65, 97)"
      ]
     },
     "execution_count": 33,
     "metadata": {},
     "output_type": "execute_result"
    }
   ],
   "source": [
    "ord('A'),ord('a')"
   ]
  },
  {
   "cell_type": "code",
   "execution_count": 35,
   "id": "7ddda756-7e40-4a41-b498-4abfe409db83",
   "metadata": {},
   "outputs": [
    {
     "data": {
      "text/plain": [
       "(80, 112)"
      ]
     },
     "execution_count": 35,
     "metadata": {},
     "output_type": "execute_result"
    }
   ],
   "source": [
    "ord('P'),ord('p')"
   ]
  },
  {
   "cell_type": "code",
   "execution_count": 37,
   "id": "09ef640b-b15c-4ffd-8e55-183dcb45804a",
   "metadata": {},
   "outputs": [
    {
     "data": {
      "text/plain": [
       "True"
      ]
     },
     "execution_count": 37,
     "metadata": {},
     "output_type": "execute_result"
    }
   ],
   "source": [
    "'p'>'P' # 112>80"
   ]
  },
  {
   "cell_type": "code",
   "execution_count": 43,
   "id": "b4917587-1e74-437d-bccc-c4d4a96340a1",
   "metadata": {},
   "outputs": [
    {
     "data": {
      "text/plain": [
       "('p', 'a', 'd', 'A', '@')"
      ]
     },
     "execution_count": 43,
     "metadata": {},
     "output_type": "execute_result"
    }
   ],
   "source": [
    "chr(112),chr(97),chr(100),chr(65),chr(64)\n"
   ]
  },
  {
   "cell_type": "code",
   "execution_count": 48,
   "id": "a1fec02e-9e43-4f27-9026-762ecb642c0d",
   "metadata": {},
   "outputs": [
    {
     "name": "stdout",
     "output_type": "stream",
     "text": [
      "The ascii number for p is 112\n",
      "The ascii number for y is 121\n",
      "The ascii number for t is 116\n",
      "The ascii number for h is 104\n",
      "The ascii number for o is 111\n",
      "The ascii number for n is 110\n"
     ]
    }
   ],
   "source": [
    "# I want styring1: 'python'\n",
    "# print all ascii number for 'python'\n",
    "\n",
    "for i in 'python':\n",
    "    print(f\"The ascii number for {i} is {ord(i)}\")"
   ]
  },
  {
   "cell_type": "code",
   "execution_count": 53,
   "id": "dc68fa9f-57bd-4354-8136-0fbeca293cab",
   "metadata": {},
   "outputs": [
    {
     "name": "stdout",
     "output_type": "stream",
     "text": [
      "The summation is 674\n"
     ]
    }
   ],
   "source": [
    "ascii_sum=0\n",
    "for i in 'python':\n",
    "    ascii_sum+=ord(i)\n",
    "print(f\"The summation is {ascii_sum}\")\n",
    "    "
   ]
  },
  {
   "cell_type": "code",
   "execution_count": 57,
   "id": "d7205b3b-251b-4f84-b7b8-6a51b2f9a626",
   "metadata": {},
   "outputs": [],
   "source": [
    "# I want to know all ascii numbers from A tZ\n"
   ]
  },
  {
   "cell_type": "code",
   "execution_count": null,
   "id": "e10f1f58-a6d9-4308-8f02-88490fd6a2c4",
   "metadata": {},
   "outputs": [],
   "source": [
    "# Package called:string\n",
    "# import the package\n",
    "# apply the dir\n",
    "# there aresome methods in that package\n",
    "\n",
    "# import package\n",
    "# dir(<package_name>\n",
    "# "
   ]
  },
  {
   "cell_type": "code",
   "execution_count": 58,
   "id": "566114f1-1072-4d0f-b408-b0f35483ad1b",
   "metadata": {},
   "outputs": [
    {
     "data": {
      "text/plain": [
       "['Formatter',\n",
       " 'Template',\n",
       " '_ChainMap',\n",
       " '__all__',\n",
       " '__builtins__',\n",
       " '__cached__',\n",
       " '__doc__',\n",
       " '__file__',\n",
       " '__loader__',\n",
       " '__name__',\n",
       " '__package__',\n",
       " '__spec__',\n",
       " '_re',\n",
       " '_sentinel_dict',\n",
       " '_string',\n",
       " 'ascii_letters',\n",
       " 'ascii_lowercase',\n",
       " 'ascii_uppercase',\n",
       " 'capwords',\n",
       " 'digits',\n",
       " 'hexdigits',\n",
       " 'octdigits',\n",
       " 'printable',\n",
       " 'punctuation',\n",
       " 'whitespace']"
      ]
     },
     "execution_count": 58,
     "metadata": {},
     "output_type": "execute_result"
    }
   ],
   "source": [
    "import string\n",
    "dir(string)"
   ]
  },
  {
   "cell_type": "code",
   "execution_count": 66,
   "id": "1f5391aa-2dd1-4a88-8736-f84b58c2db66",
   "metadata": {},
   "outputs": [
    {
     "name": "stdout",
     "output_type": "stream",
     "text": [
      "The ascii value of A is 65\n",
      "The ascii value of B is 66\n",
      "The ascii value of C is 67\n",
      "The ascii value of D is 68\n",
      "The ascii value of E is 69\n",
      "The ascii value of F is 70\n",
      "The ascii value of G is 71\n",
      "The ascii value of H is 72\n",
      "The ascii value of I is 73\n",
      "The ascii value of J is 74\n",
      "The ascii value of K is 75\n",
      "The ascii value of L is 76\n",
      "The ascii value of M is 77\n",
      "The ascii value of N is 78\n",
      "The ascii value of O is 79\n",
      "The ascii value of P is 80\n",
      "The ascii value of Q is 81\n",
      "The ascii value of R is 82\n",
      "The ascii value of S is 83\n",
      "The ascii value of T is 84\n",
      "The ascii value of U is 85\n",
      "The ascii value of V is 86\n",
      "The ascii value of W is 87\n",
      "The ascii value of X is 88\n",
      "The ascii value of Y is 89\n",
      "The ascii value of Z is 90\n"
     ]
    }
   ],
   "source": [
    "import string\n",
    "s=string.ascii_uppercase\n",
    "for i in s:\n",
    "    print(f\"The ascii value of {i} is {ord(i)}\")"
   ]
  },
  {
   "cell_type": "code",
   "execution_count": 69,
   "id": "df331b9f-5839-4afa-bd00-e5da3282bd56",
   "metadata": {},
   "outputs": [
    {
     "name": "stdout",
     "output_type": "stream",
     "text": [
      "The ascii value of A is 65\n",
      "The ascii value of B is 66\n",
      "The ascii value of C is 67\n",
      "The ascii value of D is 68\n",
      "The ascii value of E is 69\n",
      "The ascii value of F is 70\n",
      "The ascii value of G is 71\n",
      "The ascii value of H is 72\n",
      "The ascii value of I is 73\n",
      "The ascii value of J is 74\n",
      "The ascii value of K is 75\n",
      "The ascii value of L is 76\n",
      "The ascii value of M is 77\n",
      "The ascii value of N is 78\n",
      "The ascii value of O is 79\n",
      "The ascii value of P is 80\n",
      "The ascii value of Q is 81\n",
      "The ascii value of R is 82\n",
      "The ascii value of S is 83\n",
      "The ascii value of T is 84\n",
      "The ascii value of U is 85\n",
      "The ascii value of V is 86\n",
      "The ascii value of W is 87\n",
      "The ascii value of X is 88\n",
      "The ascii value of Y is 89\n",
      "The ascii value of Z is 90\n"
     ]
    }
   ],
   "source": [
    "# using direct access \n",
    "for i in string.ascii_uppercase:\n",
    "     print(f\"The ascii value of {i} is {ord(i)}\")"
   ]
  },
  {
   "cell_type": "code",
   "execution_count": 74,
   "id": "77b4f47d-c508-465b-8fc2-9eea50c4bd25",
   "metadata": {},
   "outputs": [
    {
     "name": "stdout",
     "output_type": "stream",
     "text": [
      "The ascii value of a is 97\n",
      "The ascii value of b is 98\n",
      "The ascii value of c is 99\n",
      "The ascii value of d is 100\n",
      "The ascii value of e is 101\n",
      "The ascii value of f is 102\n",
      "The ascii value of g is 103\n",
      "The ascii value of h is 104\n",
      "The ascii value of i is 105\n",
      "The ascii value of j is 106\n",
      "The ascii value of k is 107\n",
      "The ascii value of l is 108\n",
      "The ascii value of m is 109\n",
      "The ascii value of n is 110\n",
      "The ascii value of o is 111\n",
      "The ascii value of p is 112\n",
      "The ascii value of q is 113\n",
      "The ascii value of r is 114\n",
      "The ascii value of s is 115\n",
      "The ascii value of t is 116\n",
      "The ascii value of u is 117\n",
      "The ascii value of v is 118\n",
      "The ascii value of w is 119\n",
      "The ascii value of x is 120\n",
      "The ascii value of y is 121\n",
      "The ascii value of z is 122\n"
     ]
    }
   ],
   "source": [
    "for i in string.ascii_lowercase:\n",
    "     print(f\"The ascii value of {i} is {ord(i)}\")"
   ]
  },
  {
   "cell_type": "code",
   "execution_count": 71,
   "id": "a8d1c026-8d00-4dc1-b256-571ddc1cfa95",
   "metadata": {},
   "outputs": [
    {
     "name": "stdout",
     "output_type": "stream",
     "text": [
      "The ascii value of ! is 33\n",
      "The ascii value of \" is 34\n",
      "The ascii value of # is 35\n",
      "The ascii value of $ is 36\n",
      "The ascii value of % is 37\n",
      "The ascii value of & is 38\n",
      "The ascii value of ' is 39\n",
      "The ascii value of ( is 40\n",
      "The ascii value of ) is 41\n",
      "The ascii value of * is 42\n",
      "The ascii value of + is 43\n",
      "The ascii value of , is 44\n",
      "The ascii value of - is 45\n",
      "The ascii value of . is 46\n",
      "The ascii value of / is 47\n",
      "The ascii value of : is 58\n",
      "The ascii value of ; is 59\n",
      "The ascii value of < is 60\n",
      "The ascii value of = is 61\n",
      "The ascii value of > is 62\n",
      "The ascii value of ? is 63\n",
      "The ascii value of @ is 64\n",
      "The ascii value of [ is 91\n",
      "The ascii value of \\ is 92\n",
      "The ascii value of ] is 93\n",
      "The ascii value of ^ is 94\n",
      "The ascii value of _ is 95\n",
      "The ascii value of ` is 96\n",
      "The ascii value of { is 123\n",
      "The ascii value of | is 124\n",
      "The ascii value of } is 125\n",
      "The ascii value of ~ is 126\n"
     ]
    }
   ],
   "source": [
    "for i in string.punctuation:\n",
    "     print(f\"The ascii value of {i} is {ord(i)}\")"
   ]
  },
  {
   "cell_type": "code",
   "execution_count": 73,
   "id": "c8d2b485-cb55-4043-a076-1d75dbf6b2b6",
   "metadata": {},
   "outputs": [
    {
     "name": "stdout",
     "output_type": "stream",
     "text": [
      "The ascii value of 0 is 48\n",
      "The ascii value of 1 is 49\n",
      "The ascii value of 2 is 50\n",
      "The ascii value of 3 is 51\n",
      "The ascii value of 4 is 52\n",
      "The ascii value of 5 is 53\n",
      "The ascii value of 6 is 54\n",
      "The ascii value of 7 is 55\n",
      "The ascii value of 8 is 56\n",
      "The ascii value of 9 is 57\n",
      "The ascii value of a is 97\n",
      "The ascii value of b is 98\n",
      "The ascii value of c is 99\n",
      "The ascii value of d is 100\n",
      "The ascii value of e is 101\n",
      "The ascii value of f is 102\n",
      "The ascii value of A is 65\n",
      "The ascii value of B is 66\n",
      "The ascii value of C is 67\n",
      "The ascii value of D is 68\n",
      "The ascii value of E is 69\n",
      "The ascii value of F is 70\n"
     ]
    }
   ],
   "source": [
    "for i in string.hexdigits:\n",
    "     print(f\"The ascii value of {i} is {ord(i)}\")"
   ]
  },
  {
   "cell_type": "code",
   "execution_count": 75,
   "id": "9b4839e7-0633-475c-9c46-5dc9d3497392",
   "metadata": {},
   "outputs": [
    {
     "name": "stdout",
     "output_type": "stream",
     "text": [
      "33 !\n",
      "34 \"\n",
      "35 #\n",
      "36 $\n",
      "37 %\n",
      "38 &\n",
      "39 '\n",
      "40 (\n",
      "41 )\n",
      "42 *\n",
      "43 +\n",
      "44 ,\n",
      "45 -\n",
      "46 .\n",
      "47 /\n",
      "48 0\n",
      "49 1\n",
      "50 2\n",
      "51 3\n",
      "52 4\n",
      "53 5\n",
      "54 6\n",
      "55 7\n",
      "56 8\n",
      "57 9\n",
      "58 :\n",
      "59 ;\n",
      "60 <\n",
      "61 =\n",
      "62 >\n",
      "63 ?\n",
      "64 @\n",
      "65 A\n",
      "66 B\n",
      "67 C\n",
      "68 D\n",
      "69 E\n",
      "70 F\n",
      "71 G\n",
      "72 H\n",
      "73 I\n",
      "74 J\n",
      "75 K\n",
      "76 L\n",
      "77 M\n",
      "78 N\n",
      "79 O\n",
      "80 P\n",
      "81 Q\n",
      "82 R\n",
      "83 S\n",
      "84 T\n",
      "85 U\n",
      "86 V\n",
      "87 W\n",
      "88 X\n",
      "89 Y\n",
      "90 Z\n",
      "91 [\n",
      "92 \\\n",
      "93 ]\n",
      "94 ^\n",
      "95 _\n",
      "96 `\n",
      "97 a\n",
      "98 b\n",
      "99 c\n",
      "100 d\n",
      "101 e\n",
      "102 f\n",
      "103 g\n",
      "104 h\n",
      "105 i\n",
      "106 j\n",
      "107 k\n",
      "108 l\n",
      "109 m\n",
      "110 n\n",
      "111 o\n",
      "112 p\n",
      "113 q\n",
      "114 r\n",
      "115 s\n",
      "116 t\n",
      "117 u\n",
      "118 v\n",
      "119 w\n",
      "120 x\n",
      "121 y\n",
      "122 z\n",
      "123 {\n",
      "124 |\n",
      "125 }\n"
     ]
    }
   ],
   "source": [
    "for i in range(33,126):\n",
    "    print(i,chr(i))"
   ]
  },
  {
   "cell_type": "code",
   "execution_count": 77,
   "id": "0007ba24-f2f4-4e2b-a0e5-df9045fc35b3",
   "metadata": {},
   "outputs": [
    {
     "name": "stdout",
     "output_type": "stream",
     "text": [
      "20 \u0014==>21 \u0015==>22 \u0016==>23 \u0017==>24 \u0018==>25 \u0019==>26 \u001a==>27 \u001b==>28 \u001c",
      "==>29 \u001d",
      "==>30 \u001e",
      "==>31 \u001f==>32  ==>33 !==>34 \"==>35 #==>36 $==>37 %==>38 &==>39 '==>40 (==>41 )==>42 *==>43 +==>44 ,==>45 -==>46 .==>47 /==>48 0==>49 1==>50 2==>51 3==>52 4==>53 5==>54 6==>55 7==>56 8==>57 9==>58 :==>59 ;==>60 <==>61 ===>62 >==>63 ?==>64 @==>65 A==>66 B==>67 C==>68 D==>69 E==>70 F==>71 G==>72 H==>73 I==>74 J==>75 K==>76 L==>77 M==>78 N==>79 O==>80 P==>81 Q==>82 R==>83 S==>84 T==>85 U==>86 V==>87 W==>88 X==>89 Y==>90 Z==>91 [==>92 \\==>93 ]==>94 ^==>95 _==>96 `==>97 a==>98 b==>99 c==>100 d==>101 e==>102 f==>103 g==>104 h==>105 i==>106 j==>107 k==>108 l==>109 m==>110 n==>111 o==>112 p==>113 q==>114 r==>115 s==>116 t==>117 u==>118 v==>119 w==>120 x==>121 y==>122 z==>123 {==>124 |==>125 }==>126 ~==>127 ==>128 ==>129 ==>130 ==>131 ==>132 ==>133 ",
      "==>134 ==>135 ==>136 ==>137 ==>138 ==>139 ==>140 ==>141 ==>142 ==>143 ==>144 ==>145 ==>146 ==>147 ==>148 ==>149 ==>"
     ]
    }
   ],
   "source": [
    "for i in range(20,150):\n",
    "    print(i,chr(i),end='==>')"
   ]
  },
  {
   "cell_type": "code",
   "execution_count": 78,
   "id": "7ddfd2ab-7825-4b11-8a03-380861bf2efb",
   "metadata": {},
   "outputs": [
    {
     "name": "stdout",
     "output_type": "stream",
     "text": [
      "900 ΄==>901 ΅==>902 Ά==>903 ·==>904 Έ==>905 Ή==>906 Ί==>907 ΋==>908 Ό==>909 ΍==>910 Ύ==>911 Ώ==>912 ΐ==>913 Α==>914 Β==>915 Γ==>916 Δ==>917 Ε==>918 Ζ==>919 Η==>920 Θ==>921 Ι==>922 Κ==>923 Λ==>924 Μ==>925 Ν==>926 Ξ==>927 Ο==>928 Π==>929 Ρ==>930 ΢==>931 Σ==>932 Τ==>933 Υ==>934 Φ==>935 Χ==>936 Ψ==>937 Ω==>938 Ϊ==>939 Ϋ==>940 ά==>941 έ==>942 ή==>943 ί==>944 ΰ==>945 α==>946 β==>947 γ==>948 δ==>949 ε==>950 ζ==>951 η==>952 θ==>953 ι==>954 κ==>955 λ==>956 μ==>957 ν==>958 ξ==>959 ο==>960 π==>961 ρ==>962 ς==>963 σ==>964 τ==>965 υ==>966 φ==>967 χ==>968 ψ==>969 ω==>970 ϊ==>971 ϋ==>972 ό==>973 ύ==>974 ώ==>975 Ϗ==>976 ϐ==>977 ϑ==>978 ϒ==>979 ϓ==>980 ϔ==>981 ϕ==>982 ϖ==>983 ϗ==>984 Ϙ==>985 ϙ==>986 Ϛ==>987 ϛ==>988 Ϝ==>989 ϝ==>990 Ϟ==>991 ϟ==>992 Ϡ==>993 ϡ==>994 Ϣ==>995 ϣ==>996 Ϥ==>997 ϥ==>998 Ϧ==>999 ϧ==>"
     ]
    }
   ],
   "source": [
    "for i in range(900,1000):\n",
    "    print(i,chr(i),end='==>')"
   ]
  },
  {
   "cell_type": "code",
   "execution_count": 79,
   "id": "3c7c73b3-98b3-4dea-bbb9-b69d44382b4e",
   "metadata": {},
   "outputs": [
    {
     "name": "stdout",
     "output_type": "stream",
     "text": [
      "200 È==>201 É==>202 Ê==>203 Ë==>204 Ì==>205 Í==>206 Î==>207 Ï==>208 Ð==>209 Ñ==>210 Ò==>211 Ó==>212 Ô==>213 Õ==>214 Ö==>215 ×==>216 Ø==>217 Ù==>218 Ú==>219 Û==>220 Ü==>221 Ý==>222 Þ==>223 ß==>224 à==>225 á==>226 â==>227 ã==>228 ä==>229 å==>230 æ==>231 ç==>232 è==>233 é==>234 ê==>235 ë==>236 ì==>237 í==>238 î==>239 ï==>240 ð==>241 ñ==>242 ò==>243 ó==>244 ô==>245 õ==>246 ö==>247 ÷==>248 ø==>249 ù==>250 ú==>251 û==>252 ü==>253 ý==>254 þ==>255 ÿ==>256 Ā==>257 ā==>258 Ă==>259 ă==>260 Ą==>261 ą==>262 Ć==>263 ć==>264 Ĉ==>265 ĉ==>266 Ċ==>267 ċ==>268 Č==>269 č==>270 Ď==>271 ď==>272 Đ==>273 đ==>274 Ē==>275 ē==>276 Ĕ==>277 ĕ==>278 Ė==>279 ė==>280 Ę==>281 ę==>282 Ě==>283 ě==>284 Ĝ==>285 ĝ==>286 Ğ==>287 ğ==>288 Ġ==>289 ġ==>290 Ģ==>291 ģ==>292 Ĥ==>293 ĥ==>294 Ħ==>295 ħ==>296 Ĩ==>297 ĩ==>298 Ī==>299 ī==>300 Ĭ==>301 ĭ==>302 Į==>303 į==>304 İ==>305 ı==>306 Ĳ==>307 ĳ==>308 Ĵ==>309 ĵ==>310 Ķ==>311 ķ==>312 ĸ==>313 Ĺ==>314 ĺ==>315 Ļ==>316 ļ==>317 Ľ==>318 ľ==>319 Ŀ==>320 ŀ==>321 Ł==>322 ł==>323 Ń==>324 ń==>325 Ņ==>326 ņ==>327 Ň==>328 ň==>329 ŉ==>330 Ŋ==>331 ŋ==>332 Ō==>333 ō==>334 Ŏ==>335 ŏ==>336 Ő==>337 ő==>338 Œ==>339 œ==>340 Ŕ==>341 ŕ==>342 Ŗ==>343 ŗ==>344 Ř==>345 ř==>346 Ś==>347 ś==>348 Ŝ==>349 ŝ==>350 Ş==>351 ş==>352 Š==>353 š==>354 Ţ==>355 ţ==>356 Ť==>357 ť==>358 Ŧ==>359 ŧ==>360 Ũ==>361 ũ==>362 Ū==>363 ū==>364 Ŭ==>365 ŭ==>366 Ů==>367 ů==>368 Ű==>369 ű==>370 Ų==>371 ų==>372 Ŵ==>373 ŵ==>374 Ŷ==>375 ŷ==>376 Ÿ==>377 Ź==>378 ź==>379 Ż==>380 ż==>381 Ž==>382 ž==>383 ſ==>384 ƀ==>385 Ɓ==>386 Ƃ==>387 ƃ==>388 Ƅ==>389 ƅ==>390 Ɔ==>391 Ƈ==>392 ƈ==>393 Ɖ==>394 Ɗ==>395 Ƌ==>396 ƌ==>397 ƍ==>398 Ǝ==>399 Ə==>400 Ɛ==>401 Ƒ==>402 ƒ==>403 Ɠ==>404 Ɣ==>405 ƕ==>406 Ɩ==>407 Ɨ==>408 Ƙ==>409 ƙ==>410 ƚ==>411 ƛ==>412 Ɯ==>413 Ɲ==>414 ƞ==>415 Ɵ==>416 Ơ==>417 ơ==>418 Ƣ==>419 ƣ==>420 Ƥ==>421 ƥ==>422 Ʀ==>423 Ƨ==>424 ƨ==>425 Ʃ==>426 ƪ==>427 ƫ==>428 Ƭ==>429 ƭ==>430 Ʈ==>431 Ư==>432 ư==>433 Ʊ==>434 Ʋ==>435 Ƴ==>436 ƴ==>437 Ƶ==>438 ƶ==>439 Ʒ==>440 Ƹ==>441 ƹ==>442 ƺ==>443 ƻ==>444 Ƽ==>445 ƽ==>446 ƾ==>447 ƿ==>448 ǀ==>449 ǁ==>450 ǂ==>451 ǃ==>452 Ǆ==>453 ǅ==>454 ǆ==>455 Ǉ==>456 ǈ==>457 ǉ==>458 Ǌ==>459 ǋ==>460 ǌ==>461 Ǎ==>462 ǎ==>463 Ǐ==>464 ǐ==>465 Ǒ==>466 ǒ==>467 Ǔ==>468 ǔ==>469 Ǖ==>470 ǖ==>471 Ǘ==>472 ǘ==>473 Ǚ==>474 ǚ==>475 Ǜ==>476 ǜ==>477 ǝ==>478 Ǟ==>479 ǟ==>480 Ǡ==>481 ǡ==>482 Ǣ==>483 ǣ==>484 Ǥ==>485 ǥ==>486 Ǧ==>487 ǧ==>488 Ǩ==>489 ǩ==>490 Ǫ==>491 ǫ==>492 Ǭ==>493 ǭ==>494 Ǯ==>495 ǯ==>496 ǰ==>497 Ǳ==>498 ǲ==>499 ǳ==>500 Ǵ==>501 ǵ==>502 Ƕ==>503 Ƿ==>504 Ǹ==>505 ǹ==>506 Ǻ==>507 ǻ==>508 Ǽ==>509 ǽ==>510 Ǿ==>511 ǿ==>512 Ȁ==>513 ȁ==>514 Ȃ==>515 ȃ==>516 Ȅ==>517 ȅ==>518 Ȇ==>519 ȇ==>520 Ȉ==>521 ȉ==>522 Ȋ==>523 ȋ==>524 Ȍ==>525 ȍ==>526 Ȏ==>527 ȏ==>528 Ȑ==>529 ȑ==>530 Ȓ==>531 ȓ==>532 Ȕ==>533 ȕ==>534 Ȗ==>535 ȗ==>536 Ș==>537 ș==>538 Ț==>539 ț==>540 Ȝ==>541 ȝ==>542 Ȟ==>543 ȟ==>544 Ƞ==>545 ȡ==>546 Ȣ==>547 ȣ==>548 Ȥ==>549 ȥ==>550 Ȧ==>551 ȧ==>552 Ȩ==>553 ȩ==>554 Ȫ==>555 ȫ==>556 Ȭ==>557 ȭ==>558 Ȯ==>559 ȯ==>560 Ȱ==>561 ȱ==>562 Ȳ==>563 ȳ==>564 ȴ==>565 ȵ==>566 ȶ==>567 ȷ==>568 ȸ==>569 ȹ==>570 Ⱥ==>571 Ȼ==>572 ȼ==>573 Ƚ==>574 Ⱦ==>575 ȿ==>576 ɀ==>577 Ɂ==>578 ɂ==>579 Ƀ==>580 Ʉ==>581 Ʌ==>582 Ɇ==>583 ɇ==>584 Ɉ==>585 ɉ==>586 Ɋ==>587 ɋ==>588 Ɍ==>589 ɍ==>590 Ɏ==>591 ɏ==>592 ɐ==>593 ɑ==>594 ɒ==>595 ɓ==>596 ɔ==>597 ɕ==>598 ɖ==>599 ɗ==>600 ɘ==>601 ə==>602 ɚ==>603 ɛ==>604 ɜ==>605 ɝ==>606 ɞ==>607 ɟ==>608 ɠ==>609 ɡ==>610 ɢ==>611 ɣ==>612 ɤ==>613 ɥ==>614 ɦ==>615 ɧ==>616 ɨ==>617 ɩ==>618 ɪ==>619 ɫ==>620 ɬ==>621 ɭ==>622 ɮ==>623 ɯ==>624 ɰ==>625 ɱ==>626 ɲ==>627 ɳ==>628 ɴ==>629 ɵ==>630 ɶ==>631 ɷ==>632 ɸ==>633 ɹ==>634 ɺ==>635 ɻ==>636 ɼ==>637 ɽ==>638 ɾ==>639 ɿ==>640 ʀ==>641 ʁ==>642 ʂ==>643 ʃ==>644 ʄ==>645 ʅ==>646 ʆ==>647 ʇ==>648 ʈ==>649 ʉ==>650 ʊ==>651 ʋ==>652 ʌ==>653 ʍ==>654 ʎ==>655 ʏ==>656 ʐ==>657 ʑ==>658 ʒ==>659 ʓ==>660 ʔ==>661 ʕ==>662 ʖ==>663 ʗ==>664 ʘ==>665 ʙ==>666 ʚ==>667 ʛ==>668 ʜ==>669 ʝ==>670 ʞ==>671 ʟ==>672 ʠ==>673 ʡ==>674 ʢ==>675 ʣ==>676 ʤ==>677 ʥ==>678 ʦ==>679 ʧ==>680 ʨ==>681 ʩ==>682 ʪ==>683 ʫ==>684 ʬ==>685 ʭ==>686 ʮ==>687 ʯ==>688 ʰ==>689 ʱ==>690 ʲ==>691 ʳ==>692 ʴ==>693 ʵ==>694 ʶ==>695 ʷ==>696 ʸ==>697 ʹ==>698 ʺ==>699 ʻ==>700 ʼ==>701 ʽ==>702 ʾ==>703 ʿ==>704 ˀ==>705 ˁ==>706 ˂==>707 ˃==>708 ˄==>709 ˅==>710 ˆ==>711 ˇ==>712 ˈ==>713 ˉ==>714 ˊ==>715 ˋ==>716 ˌ==>717 ˍ==>718 ˎ==>719 ˏ==>720 ː==>721 ˑ==>722 ˒==>723 ˓==>724 ˔==>725 ˕==>726 ˖==>727 ˗==>728 ˘==>729 ˙==>730 ˚==>731 ˛==>732 ˜==>733 ˝==>734 ˞==>735 ˟==>736 ˠ==>737 ˡ==>738 ˢ==>739 ˣ==>740 ˤ==>741 ˥==>742 ˦==>743 ˧==>744 ˨==>745 ˩==>746 ˪==>747 ˫==>748 ˬ==>749 ˭==>750 ˮ==>751 ˯==>752 ˰==>753 ˱==>754 ˲==>755 ˳==>756 ˴==>757 ˵==>758 ˶==>759 ˷==>760 ˸==>761 ˹==>762 ˺==>763 ˻==>764 ˼==>765 ˽==>766 ˾==>767 ˿==>768 ̀==>769 ́==>770 ̂==>771 ̃==>772 ̄==>773 ̅==>774 ̆==>775 ̇==>776 ̈==>777 ̉==>778 ̊==>779 ̋==>780 ̌==>781 ̍==>782 ̎==>783 ̏==>784 ̐==>785 ̑==>786 ̒==>787 ̓==>788 ̔==>789 ̕==>790 ̖==>791 ̗==>792 ̘==>793 ̙==>794 ̚==>795 ̛==>796 ̜==>797 ̝==>798 ̞==>799 ̟==>800 ̠==>801 ̡==>802 ̢==>803 ̣==>804 ̤==>805 ̥==>806 ̦==>807 ̧==>808 ̨==>809 ̩==>810 ̪==>811 ̫==>812 ̬==>813 ̭==>814 ̮==>815 ̯==>816 ̰==>817 ̱==>818 ̲==>819 ̳==>820 ̴==>821 ̵==>822 ̶==>823 ̷==>824 ̸==>825 ̹==>826 ̺==>827 ̻==>828 ̼==>829 ̽==>830 ̾==>831 ̿==>832 ̀==>833 ́==>834 ͂==>835 ̓==>836 ̈́==>837 ͅ==>838 ͆==>839 ͇==>840 ͈==>841 ͉==>842 ͊==>843 ͋==>844 ͌==>845 ͍==>846 ͎==>847 ͏==>848 ͐==>849 ͑==>850 ͒==>851 ͓==>852 ͔==>853 ͕==>854 ͖==>855 ͗==>856 ͘==>857 ͙==>858 ͚==>859 ͛==>860 ͜==>861 ͝==>862 ͞==>863 ͟==>864 ͠==>865 ͡==>866 ͢==>867 ͣ==>868 ͤ==>869 ͥ==>870 ͦ==>871 ͧ==>872 ͨ==>873 ͩ==>874 ͪ==>875 ͫ==>876 ͬ==>877 ͭ==>878 ͮ==>879 ͯ==>880 Ͱ==>881 ͱ==>882 Ͳ==>883 ͳ==>884 ʹ==>885 ͵==>886 Ͷ==>887 ͷ==>888 ͸==>889 ͹==>890 ͺ==>891 ͻ==>892 ͼ==>893 ͽ==>894 ;==>895 Ϳ==>896 ΀==>897 ΁==>898 ΂==>899 ΃==>900 ΄==>901 ΅==>902 Ά==>903 ·==>904 Έ==>905 Ή==>906 Ί==>907 ΋==>908 Ό==>909 ΍==>910 Ύ==>911 Ώ==>912 ΐ==>913 Α==>914 Β==>915 Γ==>916 Δ==>917 Ε==>918 Ζ==>919 Η==>920 Θ==>921 Ι==>922 Κ==>923 Λ==>924 Μ==>925 Ν==>926 Ξ==>927 Ο==>928 Π==>929 Ρ==>930 ΢==>931 Σ==>932 Τ==>933 Υ==>934 Φ==>935 Χ==>936 Ψ==>937 Ω==>938 Ϊ==>939 Ϋ==>940 ά==>941 έ==>942 ή==>943 ί==>944 ΰ==>945 α==>946 β==>947 γ==>948 δ==>949 ε==>950 ζ==>951 η==>952 θ==>953 ι==>954 κ==>955 λ==>956 μ==>957 ν==>958 ξ==>959 ο==>960 π==>961 ρ==>962 ς==>963 σ==>964 τ==>965 υ==>966 φ==>967 χ==>968 ψ==>969 ω==>970 ϊ==>971 ϋ==>972 ό==>973 ύ==>974 ώ==>975 Ϗ==>976 ϐ==>977 ϑ==>978 ϒ==>979 ϓ==>980 ϔ==>981 ϕ==>982 ϖ==>983 ϗ==>984 Ϙ==>985 ϙ==>986 Ϛ==>987 ϛ==>988 Ϝ==>989 ϝ==>990 Ϟ==>991 ϟ==>992 Ϡ==>993 ϡ==>994 Ϣ==>995 ϣ==>996 Ϥ==>997 ϥ==>998 Ϧ==>999 ϧ==>1000 Ϩ==>1001 ϩ==>1002 Ϫ==>1003 ϫ==>1004 Ϭ==>1005 ϭ==>1006 Ϯ==>1007 ϯ==>1008 ϰ==>1009 ϱ==>1010 ϲ==>1011 ϳ==>1012 ϴ==>1013 ϵ==>1014 ϶==>1015 Ϸ==>1016 ϸ==>1017 Ϲ==>1018 Ϻ==>1019 ϻ==>1020 ϼ==>1021 Ͻ==>1022 Ͼ==>1023 Ͽ==>1024 Ѐ==>1025 Ё==>1026 Ђ==>1027 Ѓ==>1028 Є==>1029 Ѕ==>1030 І==>1031 Ї==>1032 Ј==>1033 Љ==>1034 Њ==>1035 Ћ==>1036 Ќ==>1037 Ѝ==>1038 Ў==>1039 Џ==>1040 А==>1041 Б==>1042 В==>1043 Г==>1044 Д==>1045 Е==>1046 Ж==>1047 З==>1048 И==>1049 Й==>1050 К==>1051 Л==>1052 М==>1053 Н==>1054 О==>1055 П==>1056 Р==>1057 С==>1058 Т==>1059 У==>1060 Ф==>1061 Х==>1062 Ц==>1063 Ч==>1064 Ш==>1065 Щ==>1066 Ъ==>1067 Ы==>1068 Ь==>1069 Э==>1070 Ю==>1071 Я==>1072 а==>1073 б==>1074 в==>1075 г==>1076 д==>1077 е==>1078 ж==>1079 з==>1080 и==>1081 й==>1082 к==>1083 л==>1084 м==>1085 н==>1086 о==>1087 п==>1088 р==>1089 с==>1090 т==>1091 у==>1092 ф==>1093 х==>1094 ц==>1095 ч==>1096 ш==>1097 щ==>1098 ъ==>1099 ы==>1100 ь==>1101 э==>1102 ю==>1103 я==>1104 ѐ==>1105 ё==>1106 ђ==>1107 ѓ==>1108 є==>1109 ѕ==>1110 і==>1111 ї==>1112 ј==>1113 љ==>1114 њ==>1115 ћ==>1116 ќ==>1117 ѝ==>1118 ў==>1119 џ==>1120 Ѡ==>1121 ѡ==>1122 Ѣ==>1123 ѣ==>1124 Ѥ==>1125 ѥ==>1126 Ѧ==>1127 ѧ==>1128 Ѩ==>1129 ѩ==>1130 Ѫ==>1131 ѫ==>1132 Ѭ==>1133 ѭ==>1134 Ѯ==>1135 ѯ==>1136 Ѱ==>1137 ѱ==>1138 Ѳ==>1139 ѳ==>1140 Ѵ==>1141 ѵ==>1142 Ѷ==>1143 ѷ==>1144 Ѹ==>1145 ѹ==>1146 Ѻ==>1147 ѻ==>1148 Ѽ==>1149 ѽ==>1150 Ѿ==>1151 ѿ==>1152 Ҁ==>1153 ҁ==>1154 ҂==>1155 ҃==>1156 ҄==>1157 ҅==>1158 ҆==>1159 ҇==>1160 ҈==>1161 ҉==>1162 Ҋ==>1163 ҋ==>1164 Ҍ==>1165 ҍ==>1166 Ҏ==>1167 ҏ==>1168 Ґ==>1169 ґ==>1170 Ғ==>1171 ғ==>1172 Ҕ==>1173 ҕ==>1174 Җ==>1175 җ==>1176 Ҙ==>1177 ҙ==>1178 Қ==>1179 қ==>1180 Ҝ==>1181 ҝ==>1182 Ҟ==>1183 ҟ==>1184 Ҡ==>1185 ҡ==>1186 Ң==>1187 ң==>1188 Ҥ==>1189 ҥ==>1190 Ҧ==>1191 ҧ==>1192 Ҩ==>1193 ҩ==>1194 Ҫ==>1195 ҫ==>1196 Ҭ==>1197 ҭ==>1198 Ү==>1199 ү==>1200 Ұ==>1201 ұ==>1202 Ҳ==>1203 ҳ==>1204 Ҵ==>1205 ҵ==>1206 Ҷ==>1207 ҷ==>1208 Ҹ==>1209 ҹ==>1210 Һ==>1211 һ==>1212 Ҽ==>1213 ҽ==>1214 Ҿ==>1215 ҿ==>1216 Ӏ==>1217 Ӂ==>1218 ӂ==>1219 Ӄ==>1220 ӄ==>1221 Ӆ==>1222 ӆ==>1223 Ӈ==>1224 ӈ==>1225 Ӊ==>1226 ӊ==>1227 Ӌ==>1228 ӌ==>1229 Ӎ==>1230 ӎ==>1231 ӏ==>1232 Ӑ==>1233 ӑ==>1234 Ӓ==>1235 ӓ==>1236 Ӕ==>1237 ӕ==>1238 Ӗ==>1239 ӗ==>1240 Ә==>1241 ә==>1242 Ӛ==>1243 ӛ==>1244 Ӝ==>1245 ӝ==>1246 Ӟ==>1247 ӟ==>1248 Ӡ==>1249 ӡ==>1250 Ӣ==>1251 ӣ==>1252 Ӥ==>1253 ӥ==>1254 Ӧ==>1255 ӧ==>1256 Ө==>1257 ө==>1258 Ӫ==>1259 ӫ==>1260 Ӭ==>1261 ӭ==>1262 Ӯ==>1263 ӯ==>1264 Ӱ==>1265 ӱ==>1266 Ӳ==>1267 ӳ==>1268 Ӵ==>1269 ӵ==>1270 Ӷ==>1271 ӷ==>1272 Ӹ==>1273 ӹ==>1274 Ӻ==>1275 ӻ==>1276 Ӽ==>1277 ӽ==>1278 Ӿ==>1279 ӿ==>1280 Ԁ==>1281 ԁ==>1282 Ԃ==>1283 ԃ==>1284 Ԅ==>1285 ԅ==>1286 Ԇ==>1287 ԇ==>1288 Ԉ==>1289 ԉ==>1290 Ԋ==>1291 ԋ==>1292 Ԍ==>1293 ԍ==>1294 Ԏ==>1295 ԏ==>1296 Ԑ==>1297 ԑ==>1298 Ԓ==>1299 ԓ==>1300 Ԕ==>1301 ԕ==>1302 Ԗ==>1303 ԗ==>1304 Ԙ==>1305 ԙ==>1306 Ԛ==>1307 ԛ==>1308 Ԝ==>1309 ԝ==>1310 Ԟ==>1311 ԟ==>1312 Ԡ==>1313 ԡ==>1314 Ԣ==>1315 ԣ==>1316 Ԥ==>1317 ԥ==>1318 Ԧ==>1319 ԧ==>1320 Ԩ==>1321 ԩ==>1322 Ԫ==>1323 ԫ==>1324 Ԭ==>1325 ԭ==>1326 Ԯ==>1327 ԯ==>1328 ԰==>1329 Ա==>1330 Բ==>1331 Գ==>1332 Դ==>1333 Ե==>1334 Զ==>1335 Է==>1336 Ը==>1337 Թ==>1338 Ժ==>1339 Ի==>1340 Լ==>1341 Խ==>1342 Ծ==>1343 Կ==>1344 Հ==>1345 Ձ==>1346 Ղ==>1347 Ճ==>1348 Մ==>1349 Յ==>1350 Ն==>1351 Շ==>1352 Ո==>1353 Չ==>1354 Պ==>1355 Ջ==>1356 Ռ==>1357 Ս==>1358 Վ==>1359 Տ==>1360 Ր==>1361 Ց==>1362 Ւ==>1363 Փ==>1364 Ք==>1365 Օ==>1366 Ֆ==>1367 ՗==>1368 ՘==>1369 ՙ==>1370 ՚==>1371 ՛==>1372 ՜==>1373 ՝==>1374 ՞==>1375 ՟==>1376 ՠ==>1377 ա==>1378 բ==>1379 գ==>1380 դ==>1381 ե==>1382 զ==>1383 է==>1384 ը==>1385 թ==>1386 ժ==>1387 ի==>1388 լ==>1389 խ==>1390 ծ==>1391 կ==>1392 հ==>1393 ձ==>1394 ղ==>1395 ճ==>1396 մ==>1397 յ==>1398 ն==>1399 շ==>1400 ո==>1401 չ==>1402 պ==>1403 ջ==>1404 ռ==>1405 ս==>1406 վ==>1407 տ==>1408 ր==>1409 ց==>1410 ւ==>1411 փ==>1412 ք==>1413 օ==>1414 ֆ==>1415 և==>1416 ֈ==>1417 ։==>1418 ֊==>1419 ֋==>1420 ֌==>1421 ֍==>1422 ֎==>1423 ֏==>1424 ֐==>1425 ֑==>1426 ֒==>1427 ֓==>1428 ֔==>1429 ֕==>1430 ֖==>1431 ֗==>1432 ֘==>1433 ֙==>1434 ֚==>1435 ֛==>1436 ֜==>1437 ֝==>1438 ֞==>1439 ֟==>1440 ֠==>1441 ֡==>1442 ֢==>1443 ֣==>1444 ֤==>1445 ֥==>1446 ֦==>1447 ֧==>1448 ֨==>1449 ֩==>1450 ֪==>1451 ֫==>1452 ֬==>1453 ֭==>1454 ֮==>1455 ֯==>1456 ְ==>1457 ֱ==>1458 ֲ==>1459 ֳ==>1460 ִ==>1461 ֵ==>1462 ֶ==>1463 ַ==>1464 ָ==>1465 ֹ==>1466 ֺ==>1467 ֻ==>1468 ּ==>1469 ֽ==>1470 ־==>1471 ֿ==>1472 ׀==>1473 ׁ==>1474 ׂ==>1475 ׃==>1476 ׄ==>1477 ׅ==>1478 ׆==>1479 ׇ==>1480 ׈==>1481 ׉==>1482 ׊==>1483 ׋==>1484 ׌==>1485 ׍==>1486 ׎==>1487 ׏==>1488 א==>1489 ב==>1490 ג==>1491 ד==>1492 ה==>1493 ו==>1494 ז==>1495 ח==>1496 ט==>1497 י==>1498 ך==>1499 כ==>1500 ל==>1501 ם==>1502 מ==>1503 ן==>1504 נ==>1505 ס==>1506 ע==>1507 ף==>1508 פ==>1509 ץ==>1510 צ==>1511 ק==>1512 ר==>1513 ש==>1514 ת==>1515 ׫==>1516 ׬==>1517 ׭==>1518 ׮==>1519 ׯ==>1520 װ==>1521 ױ==>1522 ײ==>1523 ׳==>1524 ״==>1525 ׵==>1526 ׶==>1527 ׷==>1528 ׸==>1529 ׹==>1530 ׺==>1531 ׻==>1532 ׼==>1533 ׽==>1534 ׾==>1535 ׿==>1536 ؀==>1537 ؁==>1538 ؂==>1539 ؃==>1540 ؄==>1541 ؅==>1542 ؆==>1543 ؇==>1544 ؈==>1545 ؉==>1546 ؊==>1547 ؋==>1548 ،==>1549 ؍==>1550 ؎==>1551 ؏==>1552 ؐ==>1553 ؑ==>1554 ؒ==>1555 ؓ==>1556 ؔ==>1557 ؕ==>1558 ؖ==>1559 ؗ==>1560 ؘ==>1561 ؙ==>1562 ؚ==>1563 ؛==>1564 ؜==>1565 ؝==>1566 ؞==>1567 ؟==>1568 ؠ==>1569 ء==>1570 آ==>1571 أ==>1572 ؤ==>1573 إ==>1574 ئ==>1575 ا==>1576 ب==>1577 ة==>1578 ت==>1579 ث==>1580 ج==>1581 ح==>1582 خ==>1583 د==>1584 ذ==>1585 ر==>1586 ز==>1587 س==>1588 ش==>1589 ص==>1590 ض==>1591 ط==>1592 ظ==>1593 ع==>1594 غ==>1595 ػ==>1596 ؼ==>1597 ؽ==>1598 ؾ==>1599 ؿ==>1600 ـ==>1601 ف==>1602 ق==>1603 ك==>1604 ل==>1605 م==>1606 ن==>1607 ه==>1608 و==>1609 ى==>1610 ي==>1611 ً==>1612 ٌ==>1613 ٍ==>1614 َ==>1615 ُ==>1616 ِ==>1617 ّ==>1618 ْ==>1619 ٓ==>1620 ٔ==>1621 ٕ==>1622 ٖ==>1623 ٗ==>1624 ٘==>1625 ٙ==>1626 ٚ==>1627 ٛ==>1628 ٜ==>1629 ٝ==>1630 ٞ==>1631 ٟ==>1632 ٠==>1633 ١==>1634 ٢==>1635 ٣==>1636 ٤==>1637 ٥==>1638 ٦==>1639 ٧==>1640 ٨==>1641 ٩==>1642 ٪==>1643 ٫==>1644 ٬==>1645 ٭==>1646 ٮ==>1647 ٯ==>1648 ٰ==>1649 ٱ==>1650 ٲ==>1651 ٳ==>1652 ٴ==>1653 ٵ==>1654 ٶ==>1655 ٷ==>1656 ٸ==>1657 ٹ==>1658 ٺ==>1659 ٻ==>1660 ټ==>1661 ٽ==>1662 پ==>1663 ٿ==>1664 ڀ==>1665 ځ==>1666 ڂ==>1667 ڃ==>1668 ڄ==>1669 څ==>1670 چ==>1671 ڇ==>1672 ڈ==>1673 ډ==>1674 ڊ==>1675 ڋ==>1676 ڌ==>1677 ڍ==>1678 ڎ==>1679 ڏ==>1680 ڐ==>1681 ڑ==>1682 ڒ==>1683 ړ==>1684 ڔ==>1685 ڕ==>1686 ږ==>1687 ڗ==>1688 ژ==>1689 ڙ==>1690 ښ==>1691 ڛ==>1692 ڜ==>1693 ڝ==>1694 ڞ==>1695 ڟ==>1696 ڠ==>1697 ڡ==>1698 ڢ==>1699 ڣ==>1700 ڤ==>1701 ڥ==>1702 ڦ==>1703 ڧ==>1704 ڨ==>1705 ک==>1706 ڪ==>1707 ګ==>1708 ڬ==>1709 ڭ==>1710 ڮ==>1711 گ==>1712 ڰ==>1713 ڱ==>1714 ڲ==>1715 ڳ==>1716 ڴ==>1717 ڵ==>1718 ڶ==>1719 ڷ==>1720 ڸ==>1721 ڹ==>1722 ں==>1723 ڻ==>1724 ڼ==>1725 ڽ==>1726 ھ==>1727 ڿ==>1728 ۀ==>1729 ہ==>1730 ۂ==>1731 ۃ==>1732 ۄ==>1733 ۅ==>1734 ۆ==>1735 ۇ==>1736 ۈ==>1737 ۉ==>1738 ۊ==>1739 ۋ==>1740 ی==>1741 ۍ==>1742 ێ==>1743 ۏ==>1744 ې==>1745 ۑ==>1746 ے==>1747 ۓ==>1748 ۔==>1749 ە==>1750 ۖ==>1751 ۗ==>1752 ۘ==>1753 ۙ==>1754 ۚ==>1755 ۛ==>1756 ۜ==>1757 ۝==>1758 ۞==>1759 ۟==>1760 ۠==>1761 ۡ==>1762 ۢ==>1763 ۣ==>1764 ۤ==>1765 ۥ==>1766 ۦ==>1767 ۧ==>1768 ۨ==>1769 ۩==>1770 ۪==>1771 ۫==>1772 ۬==>1773 ۭ==>1774 ۮ==>1775 ۯ==>1776 ۰==>1777 ۱==>1778 ۲==>1779 ۳==>1780 ۴==>1781 ۵==>1782 ۶==>1783 ۷==>1784 ۸==>1785 ۹==>1786 ۺ==>1787 ۻ==>1788 ۼ==>1789 ۽==>1790 ۾==>1791 ۿ==>1792 ܀==>1793 ܁==>1794 ܂==>1795 ܃==>1796 ܄==>1797 ܅==>1798 ܆==>1799 ܇==>1800 ܈==>1801 ܉==>1802 ܊==>1803 ܋==>1804 ܌==>1805 ܍==>1806 ܎==>1807 ܏==>1808 ܐ==>1809 ܑ==>1810 ܒ==>1811 ܓ==>1812 ܔ==>1813 ܕ==>1814 ܖ==>1815 ܗ==>1816 ܘ==>1817 ܙ==>1818 ܚ==>1819 ܛ==>1820 ܜ==>1821 ܝ==>1822 ܞ==>1823 ܟ==>1824 ܠ==>1825 ܡ==>1826 ܢ==>1827 ܣ==>1828 ܤ==>1829 ܥ==>1830 ܦ==>1831 ܧ==>1832 ܨ==>1833 ܩ==>1834 ܪ==>1835 ܫ==>1836 ܬ==>1837 ܭ==>1838 ܮ==>1839 ܯ==>1840 ܰ==>1841 ܱ==>1842 ܲ==>1843 ܳ==>1844 ܴ==>1845 ܵ==>1846 ܶ==>1847 ܷ==>1848 ܸ==>1849 ܹ==>1850 ܺ==>1851 ܻ==>1852 ܼ==>1853 ܽ==>1854 ܾ==>1855 ܿ==>1856 ݀==>1857 ݁==>1858 ݂==>1859 ݃==>1860 ݄==>1861 ݅==>1862 ݆==>1863 ݇==>1864 ݈==>1865 ݉==>1866 ݊==>1867 ݋==>1868 ݌==>1869 ݍ==>1870 ݎ==>1871 ݏ==>1872 ݐ==>1873 ݑ==>1874 ݒ==>1875 ݓ==>1876 ݔ==>1877 ݕ==>1878 ݖ==>1879 ݗ==>1880 ݘ==>1881 ݙ==>1882 ݚ==>1883 ݛ==>1884 ݜ==>1885 ݝ==>1886 ݞ==>1887 ݟ==>1888 ݠ==>1889 ݡ==>1890 ݢ==>1891 ݣ==>1892 ݤ==>1893 ݥ==>1894 ݦ==>1895 ݧ==>1896 ݨ==>1897 ݩ==>1898 ݪ==>1899 ݫ==>1900 ݬ==>1901 ݭ==>1902 ݮ==>1903 ݯ==>1904 ݰ==>1905 ݱ==>1906 ݲ==>1907 ݳ==>1908 ݴ==>1909 ݵ==>1910 ݶ==>1911 ݷ==>1912 ݸ==>1913 ݹ==>1914 ݺ==>1915 ݻ==>1916 ݼ==>1917 ݽ==>1918 ݾ==>1919 ݿ==>1920 ހ==>1921 ށ==>1922 ނ==>1923 ރ==>1924 ބ==>1925 ޅ==>1926 ކ==>1927 އ==>1928 ވ==>1929 މ==>1930 ފ==>1931 ދ==>1932 ތ==>1933 ލ==>1934 ގ==>1935 ޏ==>1936 ސ==>1937 ޑ==>1938 ޒ==>1939 ޓ==>1940 ޔ==>1941 ޕ==>1942 ޖ==>1943 ޗ==>1944 ޘ==>1945 ޙ==>1946 ޚ==>1947 ޛ==>1948 ޜ==>1949 ޝ==>1950 ޞ==>1951 ޟ==>1952 ޠ==>1953 ޡ==>1954 ޢ==>1955 ޣ==>1956 ޤ==>1957 ޥ==>1958 ަ==>1959 ާ==>1960 ި==>1961 ީ==>1962 ު==>1963 ޫ==>1964 ެ==>1965 ޭ==>1966 ޮ==>1967 ޯ==>1968 ް==>1969 ޱ==>1970 ޲==>1971 ޳==>1972 ޴==>1973 ޵==>1974 ޶==>1975 ޷==>1976 ޸==>1977 ޹==>1978 ޺==>1979 ޻==>1980 ޼==>1981 ޽==>1982 ޾==>1983 ޿==>1984 ߀==>1985 ߁==>1986 ߂==>1987 ߃==>1988 ߄==>1989 ߅==>1990 ߆==>1991 ߇==>1992 ߈==>1993 ߉==>1994 ߊ==>1995 ߋ==>1996 ߌ==>1997 ߍ==>1998 ߎ==>1999 ߏ==>2000 ߐ==>2001 ߑ==>2002 ߒ==>2003 ߓ==>2004 ߔ==>2005 ߕ==>2006 ߖ==>2007 ߗ==>2008 ߘ==>2009 ߙ==>2010 ߚ==>2011 ߛ==>2012 ߜ==>2013 ߝ==>2014 ߞ==>2015 ߟ==>2016 ߠ==>2017 ߡ==>2018 ߢ==>2019 ߣ==>2020 ߤ==>2021 ߥ==>2022 ߦ==>2023 ߧ==>2024 ߨ==>2025 ߩ==>2026 ߪ==>2027 ߫==>2028 ߬==>2029 ߭==>2030 ߮==>2031 ߯==>2032 ߰==>2033 ߱==>2034 ߲==>2035 ߳==>2036 ߴ==>2037 ߵ==>2038 ߶==>2039 ߷==>2040 ߸==>2041 ߹==>2042 ߺ==>2043 ߻==>2044 ߼==>2045 ߽==>2046 ߾==>2047 ߿==>2048 ࠀ==>2049 ࠁ==>2050 ࠂ==>2051 ࠃ==>2052 ࠄ==>2053 ࠅ==>2054 ࠆ==>2055 ࠇ==>2056 ࠈ==>2057 ࠉ==>2058 ࠊ==>2059 ࠋ==>2060 ࠌ==>2061 ࠍ==>2062 ࠎ==>2063 ࠏ==>2064 ࠐ==>2065 ࠑ==>2066 ࠒ==>2067 ࠓ==>2068 ࠔ==>2069 ࠕ==>2070 ࠖ==>2071 ࠗ==>2072 ࠘==>2073 ࠙==>2074 ࠚ==>2075 ࠛ==>2076 ࠜ==>2077 ࠝ==>2078 ࠞ==>2079 ࠟ==>2080 ࠠ==>2081 ࠡ==>2082 ࠢ==>2083 ࠣ==>2084 ࠤ==>2085 ࠥ==>2086 ࠦ==>2087 ࠧ==>2088 ࠨ==>2089 ࠩ==>2090 ࠪ==>2091 ࠫ==>2092 ࠬ==>2093 ࠭==>2094 ࠮==>2095 ࠯==>2096 ࠰==>2097 ࠱==>2098 ࠲==>2099 ࠳==>"
     ]
    }
   ],
   "source": [
    "for i in range(200,2100):\n",
    "    print(i,chr(i),end='==>')"
   ]
  },
  {
   "cell_type": "code",
   "execution_count": 81,
   "id": "28df79ce-ffde-4f89-9528-1702303ccbc0",
   "metadata": {},
   "outputs": [
    {
     "name": "stdout",
     "output_type": "stream",
     "text": [
      "3070,௾==>3071,௿==>3072,ఀ==>3073,ఁ==>3074,ం==>3075,ః==>3076,ఄ==>3077,అ==>3078,ఆ==>3079,ఇ==>3080,ఈ==>3081,ఉ==>3082,ఊ==>3083,ఋ==>3084,ఌ==>3085,఍==>3086,ఎ==>3087,ఏ==>3088,ఐ==>3089,఑==>3090,ఒ==>3091,ఓ==>3092,ఔ==>3093,క==>3094,ఖ==>3095,గ==>3096,ఘ==>3097,ఙ==>3098,చ==>3099,ఛ==>3100,జ==>3101,ఝ==>3102,ఞ==>3103,ట==>3104,ఠ==>3105,డ==>3106,ఢ==>3107,ణ==>3108,త==>3109,థ==>3110,ద==>3111,ధ==>3112,న==>3113,఩==>3114,ప==>3115,ఫ==>3116,బ==>3117,భ==>3118,మ==>3119,య==>3120,ర==>3121,ఱ==>3122,ల==>3123,ళ==>3124,ఴ==>3125,వ==>3126,శ==>3127,ష==>3128,స==>3129,హ==>3130,఺==>3131,఻==>3132,఼==>3133,ఽ==>3134,ా==>3135,ి==>3136,ీ==>3137,ు==>3138,ూ==>3139,ృ==>3140,ౄ==>3141,౅==>3142,ె==>3143,ే==>3144,ై==>3145,౉==>3146,ొ==>3147,ో==>3148,ౌ==>3149,్==>3150,౎==>3151,౏==>3152,౐==>3153,౑==>3154,౒==>3155,౓==>3156,౔==>3157,ౕ==>3158,ౖ==>3159,౗==>3160,ౘ==>3161,ౙ==>3162,ౚ==>3163,౛==>3164,౜==>3165,ౝ==>3166,౞==>3167,౟==>3168,ౠ==>3169,ౡ==>"
     ]
    }
   ],
   "source": [
    "for i in range(3070,3170):\n",
    "    print(f\"{i},{chr(i)}\",end='==>')"
   ]
  },
  {
   "cell_type": "raw",
   "id": "e1e82f0a-0ec3-44f3-a2ff-662a3bdedf18",
   "metadata": {},
   "source": [
    "import string\n",
    "dir(string)"
   ]
  },
  {
   "cell_type": "code",
   "execution_count": 1,
   "id": "1d2530e0-61f0-4a75-9bd8-2f6ae5218256",
   "metadata": {},
   "outputs": [],
   "source": [
    "import string"
   ]
  },
  {
   "cell_type": "code",
   "execution_count": 2,
   "id": "296c1895-fab1-4b02-8251-44d7b7bd3863",
   "metadata": {},
   "outputs": [
    {
     "data": {
      "text/plain": [
       "['Formatter',\n",
       " 'Template',\n",
       " '_ChainMap',\n",
       " '__all__',\n",
       " '__builtins__',\n",
       " '__cached__',\n",
       " '__doc__',\n",
       " '__file__',\n",
       " '__loader__',\n",
       " '__name__',\n",
       " '__package__',\n",
       " '__spec__',\n",
       " '_re',\n",
       " '_sentinel_dict',\n",
       " '_string',\n",
       " 'ascii_letters',\n",
       " 'ascii_lowercase',\n",
       " 'ascii_uppercase',\n",
       " 'capwords',\n",
       " 'digits',\n",
       " 'hexdigits',\n",
       " 'octdigits',\n",
       " 'printable',\n",
       " 'punctuation',\n",
       " 'whitespace']"
      ]
     },
     "execution_count": 2,
     "metadata": {},
     "output_type": "execute_result"
    }
   ],
   "source": [
    "dir(string)"
   ]
  },
  {
   "cell_type": "code",
   "execution_count": null,
   "id": "636ba347-a173-4d81-8ab2-73759b6a1277",
   "metadata": {},
   "outputs": [],
   "source": []
  }
 ],
 "metadata": {
  "kernelspec": {
   "display_name": "Python 3 (ipykernel)",
   "language": "python",
   "name": "python3"
  },
  "language_info": {
   "codemirror_mode": {
    "name": "ipython",
    "version": 3
   },
   "file_extension": ".py",
   "mimetype": "text/x-python",
   "name": "python",
   "nbconvert_exporter": "python",
   "pygments_lexer": "ipython3",
   "version": "3.11.7"
  }
 },
 "nbformat": 4,
 "nbformat_minor": 5
}
