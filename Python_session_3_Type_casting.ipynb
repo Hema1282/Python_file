{
 "cells": [
  {
   "cell_type": "code",
   "execution_count": 3,
   "id": "74b485b1-e8be-49b0-b546-b63f4e95b206",
   "metadata": {},
   "outputs": [],
   "source": [
    "n1=100"
   ]
  },
  {
   "cell_type": "code",
   "execution_count": 4,
   "id": "e44c5900-88bf-4339-9cf3-05ddfd363bd8",
   "metadata": {},
   "outputs": [
    {
     "data": {
      "text/plain": [
       "100"
      ]
     },
     "execution_count": 4,
     "metadata": {},
     "output_type": "execute_result"
    }
   ],
   "source": [
    "n1"
   ]
  },
  {
   "cell_type": "code",
   "execution_count": 5,
   "id": "10f037f9-8f17-40db-b02e-b27ecb0eb8cc",
   "metadata": {},
   "outputs": [
    {
     "data": {
      "text/plain": [
       "'C:\\\\Users\\\\harik\\\\OneDrive\\\\Documents\\\\Nareshit trainings\\\\Python'"
      ]
     },
     "execution_count": 5,
     "metadata": {},
     "output_type": "execute_result"
    }
   ],
   "source": [
    "# 15 days our main goal \n",
    "# to avoid the syntax error\n",
    "import os\n",
    "os.getcwd()"
   ]
  },
  {
   "cell_type": "markdown",
   "id": "05d18368-b65c-4837-8ac5-b006ab2c4747",
   "metadata": {},
   "source": [
    "1) mistakes are very common\n",
    "2) avoid the syntax error\n",
    "3) You will think about logic\n",
    "4) 1min=== 1hour\n",
    "5) In starting you will not get the logic imediately\n"
   ]
  },
  {
   "cell_type": "code",
   "execution_count": null,
   "id": "76752388-7ffb-412a-87eb-a9623c2a0625",
   "metadata": {},
   "outputs": [],
   "source": [
    "- integer data type   int\n",
    "\n",
    "- float data type    float\n"
   ]
  },
  {
   "cell_type": "markdown",
   "id": "ea8bc474-70d2-47e2-aa01-7e7a0f4a41e8",
   "metadata": {},
   "source": [
    "**Type casting**\n",
    "\n",
    "- Convert one data type to another data type is called type casting\n",
    "\n",
    "- which means we want to convert \n",
    "\n",
    "      - int data type to all other(float,str,bool) data types\n",
    "\n",
    "      - float data type to all other(int,str,bool) data types\n",
    "\n",
    "      - str data type to all other(int,float,bool) data types\n",
    "\n",
    "      - bool data type to all other(int,float,str) data types"
   ]
  },
  {
   "cell_type": "markdown",
   "id": "b4827ff2-4924-42f1-8754-9bd1b42e78bb",
   "metadata": {},
   "source": [
    "**Integer to other data types**"
   ]
  },
  {
   "cell_type": "markdown",
   "id": "2abc47a8-aaba-49b2-8340-84d22de25251",
   "metadata": {},
   "source": [
    "$int-float$"
   ]
  },
  {
   "cell_type": "code",
   "execution_count": 10,
   "id": "6cc6dd2e-788f-4c2e-9703-1f1830fd08a5",
   "metadata": {},
   "outputs": [
    {
     "data": {
      "text/plain": [
       "int"
      ]
     },
     "execution_count": 10,
     "metadata": {},
     "output_type": "execute_result"
    }
   ],
   "source": [
    "num=100\n",
    "type(num)"
   ]
  },
  {
   "cell_type": "code",
   "execution_count": 12,
   "id": "422b1f7c-df60-47d5-bcbb-804cc3100257",
   "metadata": {},
   "outputs": [
    {
     "data": {
      "text/plain": [
       "float"
      ]
     },
     "execution_count": 12,
     "metadata": {},
     "output_type": "execute_result"
    }
   ],
   "source": [
    "float_num=float(num)\n",
    "type(float_num)"
   ]
  },
  {
   "cell_type": "code",
   "execution_count": 15,
   "id": "18b25ec3-e8a0-4761-adea-ef4f0e86eef2",
   "metadata": {},
   "outputs": [
    {
     "data": {
      "text/plain": [
       "'100'"
      ]
     },
     "execution_count": 15,
     "metadata": {},
     "output_type": "execute_result"
    }
   ],
   "source": [
    "str_num=str(num)\n",
    "str_num"
   ]
  },
  {
   "cell_type": "code",
   "execution_count": 16,
   "id": "1a11c8ab-98dc-4c3a-a420-5d64e341cbda",
   "metadata": {},
   "outputs": [
    {
     "data": {
      "text/plain": [
       "str"
      ]
     },
     "execution_count": 16,
     "metadata": {},
     "output_type": "execute_result"
    }
   ],
   "source": [
    "type(str_num)"
   ]
  },
  {
   "cell_type": "code",
   "execution_count": 17,
   "id": "01e209f6-3f3d-4d97-8674-ad99d584fcbf",
   "metadata": {},
   "outputs": [
    {
     "data": {
      "text/plain": [
       "True"
      ]
     },
     "execution_count": 17,
     "metadata": {},
     "output_type": "execute_result"
    }
   ],
   "source": [
    "bool_num=bool(num)\n",
    "bool_num"
   ]
  },
  {
   "cell_type": "code",
   "execution_count": 19,
   "id": "85c382f5-04d9-4180-a774-f9cd0b4cd060",
   "metadata": {},
   "outputs": [
    {
     "data": {
      "text/plain": [
       "(200.0, '200', True)"
      ]
     },
     "execution_count": 19,
     "metadata": {},
     "output_type": "execute_result"
    }
   ],
   "source": [
    "float(200),str(200),bool(200)"
   ]
  },
  {
   "cell_type": "code",
   "execution_count": 20,
   "id": "3b0fca73-e1f2-4ab8-a8bc-0980dc731434",
   "metadata": {},
   "outputs": [
    {
     "data": {
      "text/plain": [
       "(-200.0, '-200', True)"
      ]
     },
     "execution_count": 20,
     "metadata": {},
     "output_type": "execute_result"
    }
   ],
   "source": [
    "float(-200),str(-200),bool(-200)"
   ]
  },
  {
   "cell_type": "code",
   "execution_count": 21,
   "id": "c4a8785f-4575-4b41-beec-8ed9779d9ae3",
   "metadata": {},
   "outputs": [
    {
     "data": {
      "text/plain": [
       "False"
      ]
     },
     "execution_count": 21,
     "metadata": {},
     "output_type": "execute_result"
    }
   ],
   "source": [
    "# When integer of boolean become False\n",
    "bool(0)"
   ]
  },
  {
   "cell_type": "markdown",
   "id": "ebda3a44-034f-43a9-a82a-9e503d9f1157",
   "metadata": {},
   "source": [
    "**Note**\n",
    "\n",
    "- Ingtger=0 then only boolean conversion becomes False\n",
    "\n",
    "- Otherwise for any positive or any negative number becomes True"
   ]
  },
  {
   "cell_type": "markdown",
   "id": "8d4d23e8-8059-4c3a-96e8-90f09c092163",
   "metadata": {},
   "source": [
    "**Float to another data type**"
   ]
  },
  {
   "cell_type": "code",
   "execution_count": 25,
   "id": "f6081dda-fb56-4b78-bd5b-73f7c53beae3",
   "metadata": {},
   "outputs": [
    {
     "data": {
      "text/plain": [
       "(200, '200.5', True)"
      ]
     },
     "execution_count": 25,
     "metadata": {},
     "output_type": "execute_result"
    }
   ],
   "source": [
    "int(200.5),str(200.5),bool(200.5)"
   ]
  },
  {
   "cell_type": "code",
   "execution_count": 26,
   "id": "b367e977-e82c-4827-9114-5db8fce54ea0",
   "metadata": {},
   "outputs": [
    {
     "data": {
      "text/plain": [
       "(200, '200.5', False)"
      ]
     },
     "execution_count": 26,
     "metadata": {},
     "output_type": "execute_result"
    }
   ],
   "source": [
    "int(200.5),str(200.5),bool(00.0)"
   ]
  },
  {
   "cell_type": "markdown",
   "id": "2f17f14a-0a4d-4e5f-aafe-f493a0dd0fb7",
   "metadata": {},
   "source": [
    "**String to another datatype**"
   ]
  },
  {
   "cell_type": "code",
   "execution_count": 27,
   "id": "34d844b4-02b9-4457-b0ff-275abd129928",
   "metadata": {},
   "outputs": [],
   "source": [
    "# case-1\n",
    "str='apple'\n",
    "#case-2\n",
    "str1='10'\n",
    "#case-3\n",
    "str2='10.8'\n"
   ]
  },
  {
   "cell_type": "code",
   "execution_count": 28,
   "id": "2bcb2faa-64cd-4941-9f75-0f6aa904f328",
   "metadata": {},
   "outputs": [
    {
     "ename": "ValueError",
     "evalue": "invalid literal for int() with base 10: 'apple'",
     "output_type": "error",
     "traceback": [
      "\u001b[1;31m---------------------------------------------------------------------------\u001b[0m",
      "\u001b[1;31mValueError\u001b[0m                                Traceback (most recent call last)",
      "Cell \u001b[1;32mIn[28], line 1\u001b[0m\n\u001b[1;32m----> 1\u001b[0m \u001b[38;5;28mint\u001b[39m(\u001b[38;5;124m'\u001b[39m\u001b[38;5;124mapple\u001b[39m\u001b[38;5;124m'\u001b[39m)\n",
      "\u001b[1;31mValueError\u001b[0m: invalid literal for int() with base 10: 'apple'"
     ]
    }
   ],
   "source": [
    "int('apple')"
   ]
  },
  {
   "cell_type": "code",
   "execution_count": 29,
   "id": "9ec45ea3-0316-48ff-8a4f-b4ef772518c6",
   "metadata": {},
   "outputs": [
    {
     "ename": "SyntaxError",
     "evalue": "unterminated string literal (detected at line 1) (1064110945.py, line 1)",
     "output_type": "error",
     "traceback": [
      "\u001b[1;36m  Cell \u001b[1;32mIn[29], line 1\u001b[1;36m\u001b[0m\n\u001b[1;33m    float('apple)\u001b[0m\n\u001b[1;37m          ^\u001b[0m\n\u001b[1;31mSyntaxError\u001b[0m\u001b[1;31m:\u001b[0m unterminated string literal (detected at line 1)\n"
     ]
    }
   ],
   "source": [
    "float('apple)"
   ]
  },
  {
   "cell_type": "code",
   "execution_count": 30,
   "id": "4888fe8c-9ef0-44e5-948c-1d6da65dd8dc",
   "metadata": {},
   "outputs": [
    {
     "data": {
      "text/plain": [
       "True"
      ]
     },
     "execution_count": 30,
     "metadata": {},
     "output_type": "execute_result"
    }
   ],
   "source": [
    "bool('apple')"
   ]
  },
  {
   "cell_type": "code",
   "execution_count": 31,
   "id": "d8f345c7-2068-452b-9471-5cb8fa5db768",
   "metadata": {},
   "outputs": [
    {
     "data": {
      "text/plain": [
       "(10, 10.0, True)"
      ]
     },
     "execution_count": 31,
     "metadata": {},
     "output_type": "execute_result"
    }
   ],
   "source": [
    "int('10'),float('10'),bool('10')"
   ]
  },
  {
   "cell_type": "code",
   "execution_count": 33,
   "id": "c4daaf1b-296f-43d9-b7bb-4acd1966f7e4",
   "metadata": {},
   "outputs": [
    {
     "ename": "ValueError",
     "evalue": "invalid literal for int() with base 10: '10.5'",
     "output_type": "error",
     "traceback": [
      "\u001b[1;31m---------------------------------------------------------------------------\u001b[0m",
      "\u001b[1;31mValueError\u001b[0m                                Traceback (most recent call last)",
      "Cell \u001b[1;32mIn[33], line 1\u001b[0m\n\u001b[1;32m----> 1\u001b[0m \u001b[38;5;28mint\u001b[39m(\u001b[38;5;124m'\u001b[39m\u001b[38;5;124m10.5\u001b[39m\u001b[38;5;124m'\u001b[39m),\u001b[38;5;28mfloat\u001b[39m(\u001b[38;5;124m'\u001b[39m\u001b[38;5;124m10.5\u001b[39m\u001b[38;5;124m'\u001b[39m),\u001b[38;5;28mbool\u001b[39m(\u001b[38;5;124m'\u001b[39m\u001b[38;5;124m10.5\u001b[39m\u001b[38;5;124m'\u001b[39m)\n",
      "\u001b[1;31mValueError\u001b[0m: invalid literal for int() with base 10: '10.5'"
     ]
    }
   ],
   "source": [
    "int('10.5'),float('10.5'),bool('10.5')\n"
   ]
  },
  {
   "cell_type": "code",
   "execution_count": null,
   "id": "68e459b6-ac54-4c5c-aa91-6f489f5e6c33",
   "metadata": {},
   "outputs": [],
   "source": [
    "int('10') #p\n",
    "int('10.5') #F\n",
    "float('10') #p\n",
    "float('10.5') #p\n"
   ]
  },
  {
   "cell_type": "markdown",
   "id": "53177142-768f-4553-a9f6-88e936ab2a74",
   "metadata": {},
   "source": [
    "- Float is the boss\n",
    "\n",
    "- Float of any value either it is in integer in string format \n",
    "\n",
    "- or float in strings format will works\n",
    "\n",
    "- But Integer will works only for integer in strinf format\n",
    "\n",
    "- Integer type casting will fail for float in string format"
   ]
  },
  {
   "cell_type": "code",
   "execution_count": 38,
   "id": "48af56d0-3341-4bc1-b44b-3690520d5974",
   "metadata": {},
   "outputs": [
    {
     "data": {
      "text/plain": [
       "(True, False)"
      ]
     },
     "execution_count": 38,
     "metadata": {},
     "output_type": "execute_result"
    }
   ],
   "source": [
    "bool('0'),bool(0)\n",
    "\n",
    "# '0' ,means string there is something so it is true\n"
   ]
  },
  {
   "cell_type": "code",
   "execution_count": 36,
   "id": "02eba394-d29c-4654-b985-974f48a3a243",
   "metadata": {},
   "outputs": [
    {
     "data": {
      "text/plain": [
       "(False, False)"
      ]
     },
     "execution_count": 36,
     "metadata": {},
     "output_type": "execute_result"
    }
   ],
   "source": [
    "bool(''),bool(0)"
   ]
  },
  {
   "cell_type": "markdown",
   "id": "c5493a58-2dd9-45b6-ace8-410eb4c097c3",
   "metadata": {},
   "source": [
    "- Empty string of boolean gives False\n",
    "\n",
    "- False means nothing either 0 or empty string"
   ]
  },
  {
   "cell_type": "code",
   "execution_count": 39,
   "id": "389b4a78-96e8-4581-a8d5-a9f6c31a4126",
   "metadata": {},
   "outputs": [
    {
     "data": {
      "text/plain": [
       "1"
      ]
     },
     "execution_count": 39,
     "metadata": {},
     "output_type": "execute_result"
    }
   ],
   "source": [
    "# boolean to other data types\n",
    "\n",
    "int(True)"
   ]
  },
  {
   "cell_type": "code",
   "execution_count": 43,
   "id": "26a57eab-3177-463d-bebd-df8e2cb32841",
   "metadata": {},
   "outputs": [
    {
     "data": {
      "text/plain": [
       "1.0"
      ]
     },
     "execution_count": 43,
     "metadata": {},
     "output_type": "execute_result"
    }
   ],
   "source": [
    "float(True)"
   ]
  },
  {
   "cell_type": "code",
   "execution_count": 44,
   "id": "9135fcbd-6822-480e-9748-cbb537e32250",
   "metadata": {},
   "outputs": [
    {
     "ename": "TypeError",
     "evalue": "'str' object is not callable",
     "output_type": "error",
     "traceback": [
      "\u001b[1;31m---------------------------------------------------------------------------\u001b[0m",
      "\u001b[1;31mTypeError\u001b[0m                                 Traceback (most recent call last)",
      "Cell \u001b[1;32mIn[44], line 1\u001b[0m\n\u001b[1;32m----> 1\u001b[0m \u001b[38;5;28mstr\u001b[39m(\u001b[38;5;28;01mTrue\u001b[39;00m)\n",
      "\u001b[1;31mTypeError\u001b[0m: 'str' object is not callable"
     ]
    }
   ],
   "source": [
    "str(True)"
   ]
  },
  {
   "cell_type": "code",
   "execution_count": 45,
   "id": "a0659172-be59-4bfe-a1aa-2bd66211a62b",
   "metadata": {},
   "outputs": [
    {
     "ename": "TypeError",
     "evalue": "'str' object is not callable",
     "output_type": "error",
     "traceback": [
      "\u001b[1;31m---------------------------------------------------------------------------\u001b[0m",
      "\u001b[1;31mTypeError\u001b[0m                                 Traceback (most recent call last)",
      "Cell \u001b[1;32mIn[45], line 3\u001b[0m\n\u001b[0;32m      1\u001b[0m \u001b[38;5;28mint\u001b[39m(\u001b[38;5;28;01mFalse\u001b[39;00m)\n\u001b[0;32m      2\u001b[0m \u001b[38;5;28mfloat\u001b[39m(\u001b[38;5;28;01mFalse\u001b[39;00m)\n\u001b[1;32m----> 3\u001b[0m \u001b[38;5;28mstr\u001b[39m(\u001b[38;5;28;01mFalse\u001b[39;00m)\n",
      "\u001b[1;31mTypeError\u001b[0m: 'str' object is not callable"
     ]
    }
   ],
   "source": [
    "int(False)\n",
    "float(False)\n",
    "str(False) # sometimes it happens ,when u open new notebook u can get the answer as 'False'"
   ]
  },
  {
   "cell_type": "code",
   "execution_count": null,
   "id": "85bee10d-07c1-4299-b22d-dc175278ba2f",
   "metadata": {},
   "outputs": [],
   "source": [
    "###############Int to other #############\n",
    "float(100)\n",
    "str(100)\n",
    "bool(100)\n",
    "############## Float to other ###############\n",
    "int(100.5)\n",
    "str(100.5)\n",
    "bool(100.5)\n",
    "################# Special case ################\n",
    "bool(0)\n",
    "################## Str to other ##############\n",
    "int('ant') #error\n",
    "float('ant')#error\n",
    "bool('ant') #True\n",
    "\n",
    "int('10') #10\n",
    "float('10')#10.0\n",
    "bool('10') #True\n",
    "\n",
    "int('10.5') # error\n",
    "float('10.5') #10.5\n",
    "bool('10.5')#True\n",
    "\n",
    "bool('') #False\n",
    "\n",
    "################## bool to other ################\n",
    "\n",
    "int(True)\n",
    "float(True)\n",
    "str(True)\n",
    "\n",
    "int(False)\n",
    "float(False)\n",
    "str(False)"
   ]
  }
 ],
 "metadata": {
  "kernelspec": {
   "display_name": "Python 3 (ipykernel)",
   "language": "python",
   "name": "python3"
  },
  "language_info": {
   "codemirror_mode": {
    "name": "ipython",
    "version": 3
   },
   "file_extension": ".py",
   "mimetype": "text/x-python",
   "name": "python",
   "nbconvert_exporter": "python",
   "pygments_lexer": "ipython3",
   "version": "3.11.7"
  }
 },
 "nbformat": 4,
 "nbformat_minor": 5
}
