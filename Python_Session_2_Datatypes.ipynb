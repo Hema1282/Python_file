{
 "cells": [
  {
   "cell_type": "markdown",
   "id": "c1278836-5886-4424-93e3-91dbf5d9c38a",
   "metadata": {},
   "source": [
    "**Data types**\n",
    "- In python type declare not required\n",
    "\n",
    "- Python will automatically takes the type based on provided values\n",
    "\n",
    "- We have many data types\n",
    "\n",
    "- The main data types are:\n",
    "\n",
    "    - integer\n",
    "\n",
    "    - float\n",
    "\n",
    "    - Boolean\n",
    "\n",
    "    - String\n",
    "\n",
    "- List\n",
    "\n",
    "- tuple\n",
    "\n",
    "- Dictionary\n",
    "\n",
    "- Complex"
   ]
  },
  {
   "cell_type": "code",
   "execution_count": 1,
   "id": "36f1b725-f84d-48a5-88d8-b9a9e9767b0e",
   "metadata": {},
   "outputs": [
    {
     "data": {
      "text/plain": [
       "int"
      ]
     },
     "execution_count": 1,
     "metadata": {},
     "output_type": "execute_result"
    }
   ],
   "source": [
    "n=100\n",
    "type(n)"
   ]
  },
  {
   "cell_type": "markdown",
   "id": "13fe4801-1371-4f23-942e-2a8c58b9bdf6",
   "metadata": {},
   "source": [
    "- Binary representation\n",
    "\n",
    "- Octa representation\n",
    "\n",
    "- Hexa representation"
   ]
  },
  {
   "cell_type": "markdown",
   "id": "9c5b6c1d-d247-4978-ba0c-ec5524840692",
   "metadata": {},
   "source": [
    "**Binary representation**\n",
    "\n",
    "- bi means 2\n",
    "\n",
    "- soo it requires 2 digits\n",
    "\n",
    "- Generally we have 0 1 2 3 4 5 6 7 8 9\n",
    "\n",
    "- So it will represent with only 0 and 1\n",
    "\n",
    "- representation is 0b10,0b01111 ,0B111\n",
    "\n",
    "- wrong representation is 0b102, 0b107"
   ]
  },
  {
   "cell_type": "code",
   "execution_count": 5,
   "id": "8b6689b5-0f86-4258-bb99-435464f8f08e",
   "metadata": {},
   "outputs": [
    {
     "data": {
      "text/plain": [
       "5"
      ]
     },
     "execution_count": 5,
     "metadata": {},
     "output_type": "execute_result"
    }
   ],
   "source": [
    "0b101"
   ]
  },
  {
   "cell_type": "code",
   "execution_count": 2,
   "id": "b665b55a-190b-4d27-b27a-33a6b68d1091",
   "metadata": {},
   "outputs": [],
   "source": [
    "import os"
   ]
  },
  {
   "cell_type": "code",
   "execution_count": 3,
   "id": "90f31bc9-e6fb-42fc-91ed-f7df9b34580c",
   "metadata": {},
   "outputs": [
    {
     "data": {
      "text/plain": [
       "'C:\\\\Users\\\\harik\\\\OneDrive\\\\Documents\\\\Nareshit trainings\\\\Python'"
      ]
     },
     "execution_count": 3,
     "metadata": {},
     "output_type": "execute_result"
    }
   ],
   "source": [
    "os.getcwd()  \n",
    "\n",
    "# get the current working directory\n",
    "# It will give the path \n",
    "# where our python file located"
   ]
  },
  {
   "cell_type": "code",
   "execution_count": 4,
   "id": "533d8b8f-7696-41cf-a79d-d3d4b4b6e1fd",
   "metadata": {},
   "outputs": [
    {
     "data": {
      "text/plain": [
       "15"
      ]
     },
     "execution_count": 4,
     "metadata": {},
     "output_type": "execute_result"
    }
   ],
   "source": [
    "# Binary \n",
    "\n",
    "0b1111"
   ]
  },
  {
   "cell_type": "markdown",
   "id": "deace185-c2ce-431d-bf19-802ecee97ffd",
   "metadata": {},
   "source": [
    "4   2    1   num\n",
    "0   0    0   0 \n",
    "0   0    1   1\n",
    "0   1    0   2\n",
    "0   1    1   3\n",
    "1   0    0   4\n",
    "1   0    1   5\n",
    "1   1    0   6\n",
    "1   1    1   7\n"
   ]
  },
  {
   "cell_type": "markdown",
   "id": "42f3574d-33ae-4901-9bd4-6cc93d6c8f24",
   "metadata": {},
   "source": [
    "8  4   2    1   num\n",
    "0  0   0    0   0 \n",
    "0  0   0    1   1\n",
    "0  0   1    0   2\n",
    "0  0   1    1   3\n",
    "0  1   0    0   4\n",
    "0  1   0    1   5\n",
    "0  1   1    0   6\n",
    "0  1   1    1   7\n",
    "1  0   0    0   8\n",
    "1  0   0    1   9\n",
    "1  0   1    0   10\n",
    "1  0   1    1   11\n",
    "1  1   0    0   12\n",
    "1  1   0    1   13\n",
    "1  1   1    0   14\n",
    "1  1   1    1   15\n"
   ]
  },
  {
   "cell_type": "markdown",
   "id": "93e49b61-636d-4b94-b0f6-7c6c8825ffca",
   "metadata": {},
   "source": [
    "Octa representation\n",
    "\n",
    "Octa means 8\n",
    "\n",
    "soo it requires 8 digits\n",
    "\n",
    "Generally we have 0 1 2 3 4 5 6 7 8 9\n",
    "\n",
    "So it will represent with only 0 1 2 3 4 5 6 7  \n",
    "\n",
    "representation is 0o1234, 0o4563, 0o7654321\n",
    "\n",
    "wrong representation is 0o108,0o1089"
   ]
  },
  {
   "cell_type": "code",
   "execution_count": 5,
   "id": "3af997c8-448a-402f-a4c9-51ebfc1ee3c1",
   "metadata": {},
   "outputs": [
    {
     "data": {
      "text/plain": [
       "83"
      ]
     },
     "execution_count": 5,
     "metadata": {},
     "output_type": "execute_result"
    }
   ],
   "source": [
    "0o123 \n",
    "\n",
    "# 64*1 + 8*2 + 1*3 = 83   "
   ]
  },
  {
   "cell_type": "code",
   "execution_count": 6,
   "id": "7f160efb-5518-46a3-9b18-d9e0e0f5f647",
   "metadata": {},
   "outputs": [
    {
     "data": {
      "text/plain": [
       "668"
      ]
     },
     "execution_count": 6,
     "metadata": {},
     "output_type": "execute_result"
    }
   ],
   "source": [
    "0o1234\n",
    "\n",
    "# 64*8*1 + 64*2 +8*3 + 1*4 = 512+128+24=4 =668"
   ]
  },
  {
   "cell_type": "markdown",
   "id": "61655fae-6182-4f60-9a74-dafcfef8220e",
   "metadata": {},
   "source": [
    "Hexa representation\n",
    "\n",
    "Hexa means 16\n",
    "\n",
    "soo it requires 16 digits\n",
    "\n",
    "Generally we have 0 1 2 3 4 5 6 7 8 9  A(10)  B(11)  C(12)  D(13)  E(14)  F(15)\n",
    "\n",
    "So it will represent with only 0-9 A-F\n",
    "\n",
    "representation is 0x123A,0xabc,0x12de\n",
    "\n",
    "wrong representation is 0xGH,0xabcdefg"
   ]
  },
  {
   "cell_type": "code",
   "execution_count": 7,
   "id": "d1a4241f-ba86-4576-ae7b-1c079bc3036e",
   "metadata": {},
   "outputs": [
    {
     "data": {
      "text/plain": [
       "2748"
      ]
     },
     "execution_count": 7,
     "metadata": {},
     "output_type": "execute_result"
    }
   ],
   "source": [
    "0xabc\n"
   ]
  },
  {
   "cell_type": "markdown",
   "id": "e8a5bb13-b05e-4307-8160-63ef86c6e8ca",
   "metadata": {},
   "source": [
    "a   b   c\n",
    "10  11   12 \n",
    "*    *   *\n",
    "256  16  1"
   ]
  },
  {
   "cell_type": "code",
   "execution_count": 8,
   "id": "2fe31a1b-65e8-4626-9036-1b71fb035a87",
   "metadata": {},
   "outputs": [
    {
     "data": {
      "text/plain": [
       "4671"
      ]
     },
     "execution_count": 8,
     "metadata": {},
     "output_type": "execute_result"
    }
   ],
   "source": [
    "0x123f"
   ]
  },
  {
   "cell_type": "code",
   "execution_count": null,
   "id": "2444fc5d-1506-4e64-9f8e-36971261300d",
   "metadata": {},
   "outputs": [],
   "source": [
    "1729 # Ramanujam number"
   ]
  },
  {
   "cell_type": "markdown",
   "id": "a39e1c62-39f4-4a7e-8351-2d0bf1a9a470",
   "metadata": {},
   "source": [
    "**float**"
   ]
  },
  {
   "cell_type": "code",
   "execution_count": 9,
   "id": "e6868db3-edc6-496e-9852-9bd4cf84be73",
   "metadata": {},
   "outputs": [
    {
     "data": {
      "text/plain": [
       "float"
      ]
     },
     "execution_count": 9,
     "metadata": {},
     "output_type": "execute_result"
    }
   ],
   "source": [
    "n1=100.50\n",
    "type(n1)"
   ]
  },
  {
   "cell_type": "code",
   "execution_count": 10,
   "id": "673437e9-d0ee-4f36-b25b-53ad0f6cf83d",
   "metadata": {},
   "outputs": [
    {
     "data": {
      "text/plain": [
       "int"
      ]
     },
     "execution_count": 10,
     "metadata": {},
     "output_type": "execute_result"
    }
   ],
   "source": [
    "n2=1005\n",
    "type(n2)"
   ]
  },
  {
   "cell_type": "code",
   "execution_count": 11,
   "id": "08daea23-67d7-41ff-9972-98dadb6a9310",
   "metadata": {},
   "outputs": [
    {
     "data": {
      "text/plain": [
       "(10.0, 100.0, 1000.0, 10000.0)"
      ]
     },
     "execution_count": 11,
     "metadata": {},
     "output_type": "execute_result"
    }
   ],
   "source": [
    "1e1,1e2,1e3,1e4\n",
    "\n",
    "# kep = k*10^p"
   ]
  },
  {
   "cell_type": "code",
   "execution_count": 12,
   "id": "8c2b557f-723f-4a61-8b86-e3a7e10e59d3",
   "metadata": {},
   "outputs": [
    {
     "data": {
      "text/plain": [
       "24000.0"
      ]
     },
     "execution_count": 12,
     "metadata": {},
     "output_type": "execute_result"
    }
   ],
   "source": [
    "24e3\n",
    "# 24*10^3"
   ]
  },
  {
   "cell_type": "code",
   "execution_count": 13,
   "id": "91eb56c2-09ee-4227-9dca-5340d65ccb11",
   "metadata": {},
   "outputs": [
    {
     "data": {
      "text/plain": [
       "(10.0, 100.0, 1000.0, 10000.0)"
      ]
     },
     "execution_count": 13,
     "metadata": {},
     "output_type": "execute_result"
    }
   ],
   "source": [
    "1e+1,1e+2,1e+3,1e+4"
   ]
  },
  {
   "cell_type": "code",
   "execution_count": 15,
   "id": "5e0f43cf-631a-4136-98d6-58c8710c2a73",
   "metadata": {},
   "outputs": [
    {
     "data": {
      "text/plain": [
       "0.024"
      ]
     },
     "execution_count": 15,
     "metadata": {},
     "output_type": "execute_result"
    }
   ],
   "source": [
    "24e-3 # 24/1000 =0.024"
   ]
  },
  {
   "cell_type": "markdown",
   "id": "4d454039-8ee5-4c8e-8c41-6596e47392db",
   "metadata": {},
   "source": [
    "- positive sign means multiply\n",
    "\n",
    "- negative sign means divide"
   ]
  },
  {
   "cell_type": "code",
   "execution_count": 16,
   "id": "6ca42617-8083-4394-b7aa-09d62c3076ce",
   "metadata": {},
   "outputs": [
    {
     "data": {
      "text/plain": [
       "-888.99"
      ]
     },
     "execution_count": 16,
     "metadata": {},
     "output_type": "execute_result"
    }
   ],
   "source": [
    "-8.8899e+02"
   ]
  },
  {
   "cell_type": "markdown",
   "id": "69d7d8cb-6d1d-4311-8ed3-4b8fae6eb6f0",
   "metadata": {},
   "source": [
    "**Strings**"
   ]
  },
  {
   "cell_type": "markdown",
   "id": "2e30c3e1-99c3-4fea-8616-58f65086cc57",
   "metadata": {},
   "source": [
    "- Strings are used to represent \n",
    "- Strings will represent in\n",
    "    \n",
    "     - single quotes\n",
    "\n",
    "     - double quotes\n",
    "\n",
    "     - triple quotes"
   ]
  },
  {
   "cell_type": "code",
   "execution_count": 18,
   "id": "9a799d6a-88f0-4a0d-af13-362b4ce8791e",
   "metadata": {},
   "outputs": [
    {
     "data": {
      "text/plain": [
       "str"
      ]
     },
     "execution_count": 18,
     "metadata": {},
     "output_type": "execute_result"
    }
   ],
   "source": [
    "name ='python'\n",
    "type(name)"
   ]
  },
  {
   "cell_type": "code",
   "execution_count": 19,
   "id": "5a394072-5dfc-415f-ac6b-15a32088f71e",
   "metadata": {},
   "outputs": [
    {
     "data": {
      "text/plain": [
       "str"
      ]
     },
     "execution_count": 19,
     "metadata": {},
     "output_type": "execute_result"
    }
   ],
   "source": [
    "name1=\"Hema\"\n",
    "type(name1)"
   ]
  },
  {
   "cell_type": "code",
   "execution_count": 20,
   "id": "780faa42-7bba-40bf-96ce-2d04f22eca83",
   "metadata": {},
   "outputs": [
    {
     "data": {
      "text/plain": [
       "str"
      ]
     },
     "execution_count": 20,
     "metadata": {},
     "output_type": "execute_result"
    }
   ],
   "source": [
    "name2='10'\n",
    "type(name2)"
   ]
  },
  {
   "cell_type": "code",
   "execution_count": 21,
   "id": "020a5470-6f55-4248-bc78-4a652a1ded2a",
   "metadata": {},
   "outputs": [
    {
     "data": {
      "text/plain": [
       "str"
      ]
     },
     "execution_count": 21,
     "metadata": {},
     "output_type": "execute_result"
    }
   ],
   "source": [
    "email_id='hema123@gmail.com'\n",
    "type(email_id)"
   ]
  },
  {
   "cell_type": "markdown",
   "id": "2b6e6c5c-f4b0-4905-a768-c3bebcf108bd",
   "metadata": {},
   "source": [
    "**RED COLOR MEANS STRINGS**\n",
    "\n",
    "**GREEN COLOR MEANS KEYWORDS**\n",
    "\n",
    "**BLACK COLOR MEANS VARIABLES**"
   ]
  },
  {
   "cell_type": "code",
   "execution_count": 22,
   "id": "61da64c7-1bb0-407b-82d2-962595fec733",
   "metadata": {},
   "outputs": [],
   "source": [
    "name='python'\n",
    "name1=\"python\"\n"
   ]
  },
  {
   "cell_type": "code",
   "execution_count": 23,
   "id": "e46983b5-ad7b-4139-b9c0-e607c8a370f2",
   "metadata": {},
   "outputs": [
    {
     "data": {
      "text/plain": [
       "'python'"
      ]
     },
     "execution_count": 23,
     "metadata": {},
     "output_type": "execute_result"
    }
   ],
   "source": [
    "name"
   ]
  },
  {
   "cell_type": "code",
   "execution_count": 24,
   "id": "51990c91-641b-40f3-a19a-50f41ba91594",
   "metadata": {},
   "outputs": [
    {
     "data": {
      "text/plain": [
       "'python'"
      ]
     },
     "execution_count": 24,
     "metadata": {},
     "output_type": "execute_result"
    }
   ],
   "source": [
    "name1"
   ]
  },
  {
   "cell_type": "markdown",
   "id": "1e992cce-b706-4ab9-9db3-6a1e384c1367",
   "metadata": {},
   "source": [
    "- Output always in single quotes\n"
   ]
  },
  {
   "cell_type": "code",
   "execution_count": 25,
   "id": "64d2d8b2-504c-4428-8591-9cf4c8f75ca1",
   "metadata": {},
   "outputs": [
    {
     "name": "stdout",
     "output_type": "stream",
     "text": [
      "python\n"
     ]
    }
   ],
   "source": [
    "print(name)"
   ]
  },
  {
   "cell_type": "markdown",
   "id": "eb9cbd09-e403-469a-83ba-3bb5b6edbb5d",
   "metadata": {},
   "source": [
    "- Whenever you print quotes will not visible"
   ]
  },
  {
   "cell_type": "code",
   "execution_count": 28,
   "id": "becb4c5e-144e-4d66-ad1b-4f3c21c6efe2",
   "metadata": {},
   "outputs": [
    {
     "name": "stdout",
     "output_type": "stream",
     "text": [
      "I like 'python' \n"
     ]
    }
   ],
   "source": [
    "name=\"I like 'python' \"\n",
    "print(name)"
   ]
  },
  {
   "cell_type": "code",
   "execution_count": 29,
   "id": "eb60e98c-8e0a-46d3-a8f7-ea0a782e4622",
   "metadata": {},
   "outputs": [
    {
     "name": "stdout",
     "output_type": "stream",
     "text": [
      "I like \"python\" \n"
     ]
    }
   ],
   "source": [
    "str='I like \"python\" '\n",
    "print(str)"
   ]
  },
  {
   "cell_type": "code",
   "execution_count": 30,
   "id": "57899a5c-2a7e-41d8-9241-080ac4e6be5c",
   "metadata": {},
   "outputs": [
    {
     "data": {
      "text/plain": [
       "\"I like 'python' \""
      ]
     },
     "execution_count": 30,
     "metadata": {},
     "output_type": "execute_result"
    }
   ],
   "source": [
    "name"
   ]
  },
  {
   "cell_type": "markdown",
   "id": "1e5d334b-5952-4aea-966d-2ffed0f895a1",
   "metadata": {},
   "source": [
    "- Entire string in double quotes the highlighted word in single quote vice versa"
   ]
  },
  {
   "cell_type": "markdown",
   "id": "1d631f28-4c85-4a0d-ab03-f9ee1d895f59",
   "metadata": {},
   "source": [
    "**Triple quotes**\n",
    "\n",
    "- Triple quotes is not used for coding\n",
    "\n",
    "- Triple quotes is used to provide the information to the user\n",
    "\n",
    "- In order to provide the information in jupyter notebook we will Markdown\n",
    "\n",
    "- In vscode or pycharm there is no markdown option\n",
    "\n",
    "- Thatswhy the world start used to write the information in triple quotes\n",
    "\n",
    "- This entire process is called **Doc String**"
   ]
  },
  {
   "cell_type": "code",
   "execution_count": 1,
   "id": "1a6e7589-8d63-44cc-b7db-99af16c60fbb",
   "metadata": {},
   "outputs": [
    {
     "data": {
      "text/plain": [
       "'\\nhello\\n\\ni am writing python code\\nthis python\\n'"
      ]
     },
     "execution_count": 1,
     "metadata": {},
     "output_type": "execute_result"
    }
   ],
   "source": [
    "\"\"\"\n",
    "hello\n",
    "i am writing python code\n",
    "this python\n",
    "\"\"\""
   ]
  },
  {
   "cell_type": "markdown",
   "id": "f3906c3d-6efe-489f-9a73-64937d6ee31f",
   "metadata": {},
   "source": [
    "**Boolean**"
   ]
  },
  {
   "cell_type": "code",
   "execution_count": 2,
   "id": "26d27f3f-36d8-4385-a0ed-eac8e709cdbe",
   "metadata": {},
   "outputs": [
    {
     "data": {
      "text/plain": [
       "bool"
      ]
     },
     "execution_count": 2,
     "metadata": {},
     "output_type": "execute_result"
    }
   ],
   "source": [
    "value=True\n",
    "type(value)"
   ]
  },
  {
   "cell_type": "code",
   "execution_count": 3,
   "id": "9eb13e22-3716-4ee7-b9e4-4f4f75cc8031",
   "metadata": {},
   "outputs": [
    {
     "data": {
      "text/plain": [
       "bool"
      ]
     },
     "execution_count": 3,
     "metadata": {},
     "output_type": "execute_result"
    }
   ],
   "source": [
    "value1=False\n",
    "type(value1)"
   ]
  },
  {
   "cell_type": "code",
   "execution_count": 4,
   "id": "9c989547-ab3f-4e4b-839e-b0ba278afb91",
   "metadata": {},
   "outputs": [
    {
     "data": {
      "text/plain": [
       "str"
      ]
     },
     "execution_count": 4,
     "metadata": {},
     "output_type": "execute_result"
    }
   ],
   "source": [
    "true=\"True\"\n",
    "false=False\n",
    "\n",
    "# true,false are variables\n",
    "# Type of True is string\n",
    "# Type of false is boolean\n",
    "type(true)"
   ]
  },
  {
   "cell_type": "code",
   "execution_count": null,
   "id": "050356b6-0967-4e68-8afa-0b6b71499b55",
   "metadata": {},
   "outputs": [],
   "source": []
  }
 ],
 "metadata": {
  "kernelspec": {
   "display_name": "Python 3 (ipykernel)",
   "language": "python",
   "name": "python3"
  },
  "language_info": {
   "codemirror_mode": {
    "name": "ipython",
    "version": 3
   },
   "file_extension": ".py",
   "mimetype": "text/x-python",
   "name": "python",
   "nbconvert_exporter": "python",
   "pygments_lexer": "ipython3",
   "version": "3.11.7"
  }
 },
 "nbformat": 4,
 "nbformat_minor": 5
}
