{
 "cells": [
  {
   "cell_type": "code",
   "execution_count": null,
   "id": "6100caf2-9b44-4bf3-9a43-3ab64bf59d28",
   "metadata": {},
   "outputs": [],
   "source": [
    "num1=100\n",
    "num2=200\n",
    "add=num1+num2\n"
   ]
  },
  {
   "cell_type": "markdown",
   "id": "304e80ea-2e76-43f4-8f36-71ebe98a0eaa",
   "metadata": {},
   "source": [
    "$input$\n",
    "\n",
    "\n",
    "- input keyword is used to take the values from the user"
   ]
  },
  {
   "cell_type": "code",
   "execution_count": 3,
   "id": "f06696b7-f8ed-4f3e-9073-fca50c629724",
   "metadata": {},
   "outputs": [
    {
     "name": "stdin",
     "output_type": "stream",
     "text": [
      " 12\n"
     ]
    },
    {
     "data": {
      "text/plain": [
       "'12'"
      ]
     },
     "execution_count": 3,
     "metadata": {},
     "output_type": "execute_result"
    }
   ],
   "source": [
    "input()"
   ]
  },
  {
   "cell_type": "code",
   "execution_count": 5,
   "id": "dbcf3e77-5500-44ca-8e41-34f4044c4965",
   "metadata": {},
   "outputs": [
    {
     "name": "stdin",
     "output_type": "stream",
     "text": [
      "Enter the number:  100\n"
     ]
    },
    {
     "data": {
      "text/plain": [
       "'100'"
      ]
     },
     "execution_count": 5,
     "metadata": {},
     "output_type": "execute_result"
    }
   ],
   "source": [
    "input(\"Enter the number: \")"
   ]
  },
  {
   "cell_type": "code",
   "execution_count": 6,
   "id": "b245f377-0be4-44b9-bfad-8705a39ceab0",
   "metadata": {},
   "outputs": [
    {
     "name": "stdin",
     "output_type": "stream",
     "text": [
      " 90\n",
      " 80\n"
     ]
    },
    {
     "data": {
      "text/plain": [
       "'80'"
      ]
     },
     "execution_count": 6,
     "metadata": {},
     "output_type": "execute_result"
    }
   ],
   "source": [
    "input()\n",
    "input()"
   ]
  },
  {
   "cell_type": "code",
   "execution_count": 7,
   "id": "1c71c7e0-1de5-4ef3-ad74-7ecbc712ba74",
   "metadata": {},
   "outputs": [
    {
     "name": "stdin",
     "output_type": "stream",
     "text": [
      " 100\n",
      " 200\n",
      " 300\n"
     ]
    },
    {
     "data": {
      "text/plain": [
       "'300'"
      ]
     },
     "execution_count": 7,
     "metadata": {},
     "output_type": "execute_result"
    }
   ],
   "source": [
    "input()\n",
    "input()\n",
    "input()"
   ]
  },
  {
   "cell_type": "code",
   "execution_count": 8,
   "id": "725a9e2f-bc7c-405e-8b94-7680b9d3fa58",
   "metadata": {},
   "outputs": [
    {
     "name": "stdin",
     "output_type": "stream",
     "text": [
      " 100\n"
     ]
    },
    {
     "data": {
      "text/plain": [
       "'100'"
      ]
     },
     "execution_count": 8,
     "metadata": {},
     "output_type": "execute_result"
    }
   ],
   "source": [
    "input()"
   ]
  },
  {
   "cell_type": "code",
   "execution_count": 10,
   "id": "95840ffd-966e-4b7c-a37b-b6b9476f42ed",
   "metadata": {},
   "outputs": [
    {
     "name": "stdin",
     "output_type": "stream",
     "text": [
      "Enter the number1:  1000\n",
      "Enter the number2:  2000\n",
      "Enter the number3:  3000\n"
     ]
    },
    {
     "data": {
      "text/plain": [
       "'3000'"
      ]
     },
     "execution_count": 10,
     "metadata": {},
     "output_type": "execute_result"
    }
   ],
   "source": [
    "input(\"Enter the number1: \")\n",
    "input(\"Enter the number2: \")\n",
    "input(\"Enter the number3: \")"
   ]
  },
  {
   "cell_type": "code",
   "execution_count": 11,
   "id": "b2fbe778-1310-419c-8a10-d0718f027c44",
   "metadata": {},
   "outputs": [
    {
     "name": "stdin",
     "output_type": "stream",
     "text": [
      "Enter the number1: 100\n",
      "Enter the number2: 200\n"
     ]
    }
   ],
   "source": [
    "num1=input(\"Enter the number1:\")\n",
    "num2=input(\"Enter the number2:\")"
   ]
  },
  {
   "cell_type": "code",
   "execution_count": 12,
   "id": "b94c5f31-96b7-4436-b84a-ecbb53bb43de",
   "metadata": {},
   "outputs": [
    {
     "data": {
      "text/plain": [
       "'100200'"
      ]
     },
     "execution_count": 12,
     "metadata": {},
     "output_type": "execute_result"
    }
   ],
   "source": [
    "num1+num2"
   ]
  },
  {
   "cell_type": "markdown",
   "id": "6a058342-fb56-4e6c-9e12-d9886f161339",
   "metadata": {},
   "source": [
    "**Note**\n",
    "\n",
    "- input always give the string datatype only.\n",
    "\n",
    "- In order to perform math calculation we need to convert into numerical format i.e int or float"
   ]
  },
  {
   "cell_type": "code",
   "execution_count": 13,
   "id": "5ece79ff-a4d7-4607-88d4-9d0b993c7872",
   "metadata": {},
   "outputs": [
    {
     "name": "stdin",
     "output_type": "stream",
     "text": [
      " 100\n"
     ]
    },
    {
     "data": {
      "text/plain": [
       "'100'"
      ]
     },
     "execution_count": 13,
     "metadata": {},
     "output_type": "execute_result"
    }
   ],
   "source": [
    "input()"
   ]
  },
  {
   "cell_type": "code",
   "execution_count": 14,
   "id": "1e803864-b5ad-4e8f-96ef-f15724dca9b6",
   "metadata": {},
   "outputs": [
    {
     "name": "stdin",
     "output_type": "stream",
     "text": [
      "Enter the number1: 200\n"
     ]
    },
    {
     "data": {
      "text/plain": [
       "'200'"
      ]
     },
     "execution_count": 14,
     "metadata": {},
     "output_type": "execute_result"
    }
   ],
   "source": [
    "input(\"Enter the number1:\")"
   ]
  },
  {
   "cell_type": "code",
   "execution_count": 16,
   "id": "407ab8c9-00c0-4473-909d-9d0a5ef3d00c",
   "metadata": {},
   "outputs": [
    {
     "name": "stdin",
     "output_type": "stream",
     "text": [
      "Enter the number1: 200\n"
     ]
    },
    {
     "data": {
      "text/plain": [
       "'200'"
      ]
     },
     "execution_count": 16,
     "metadata": {},
     "output_type": "execute_result"
    }
   ],
   "source": [
    "a=input(\"Enter the number1:\")\n",
    "a"
   ]
  },
  {
   "cell_type": "code",
   "execution_count": null,
   "id": "3ee61635-2210-42ce-8a18-2ec03c317180",
   "metadata": {},
   "outputs": [],
   "source": [
    "input()\n",
    "input(\"Enter the number1:\")\n",
    "a=input(\"Enter the number1:\")"
   ]
  },
  {
   "cell_type": "code",
   "execution_count": 17,
   "id": "6218a153-c87c-4744-8952-cc0e5b899df7",
   "metadata": {},
   "outputs": [
    {
     "name": "stdin",
     "output_type": "stream",
     "text": [
      "Enter the number1: 100\n",
      "Enter the number2: 200\n"
     ]
    },
    {
     "data": {
      "text/plain": [
       "'100200'"
      ]
     },
     "execution_count": 17,
     "metadata": {},
     "output_type": "execute_result"
    }
   ],
   "source": [
    "num1=input(\"Enter the number1:\")  # num1='100'\n",
    "num2=input(\"Enter the number2:\")  # num2='200'\n",
    "num1+num2     # '100'+'200'='100200'"
   ]
  },
  {
   "cell_type": "code",
   "execution_count": 18,
   "id": "1f5338c7-a3e6-46d9-8e7f-854c4cf4e496",
   "metadata": {},
   "outputs": [
    {
     "name": "stdin",
     "output_type": "stream",
     "text": [
      "Enter the number1: 100\n",
      "Enter the number2: 200\n"
     ]
    },
    {
     "name": "stdout",
     "output_type": "stream",
     "text": [
      "The addition of 100 and 200 is 300\n"
     ]
    }
   ],
   "source": [
    "num1=int(input(\"Enter the number1:\"))  #num1=int('100')=100\n",
    "num2=int(input(\"Enter the number2:\"))  #num2=int('200') =200\n",
    "add=num1+num2  #100+200=300\n",
    "print(f\"The addition of {num1} and {num2} is {add}\")"
   ]
  },
  {
   "cell_type": "code",
   "execution_count": 19,
   "id": "5a164448-9837-4f26-8cec-51bda5d9ed82",
   "metadata": {},
   "outputs": [
    {
     "name": "stdin",
     "output_type": "stream",
     "text": [
      "Enter the number1: 100\n",
      "Enter the number2: 200\n"
     ]
    },
    {
     "data": {
      "text/plain": [
       "300"
      ]
     },
     "execution_count": 19,
     "metadata": {},
     "output_type": "execute_result"
    }
   ],
   "source": [
    "num1=input(\"Enter the number1:\")  # num1='100'\n",
    "num2=input(\"Enter the number2:\")  # num2='200'\n",
    "int(num1)+int(num2)     # int('100')+int('200')=100+200 =300"
   ]
  },
  {
   "cell_type": "markdown",
   "id": "d6107984-91a5-4ffd-a985-18c844e70085",
   "metadata": {},
   "source": [
    "$eval$\n",
    "\n",
    "- eval means evaluate\n",
    "\n",
    "- eval will take the whatever the number we enter ,eval will convert to corresponding data type"
   ]
  },
  {
   "cell_type": "code",
   "execution_count": 3,
   "id": "cf487ce9-794f-444a-adf6-1818b98eec17",
   "metadata": {},
   "outputs": [
    {
     "name": "stdin",
     "output_type": "stream",
     "text": [
      " Python\n"
     ]
    },
    {
     "ename": "NameError",
     "evalue": "name 'Python' is not defined",
     "output_type": "error",
     "traceback": [
      "\u001b[1;31m---------------------------------------------------------------------------\u001b[0m",
      "\u001b[1;31mNameError\u001b[0m                                 Traceback (most recent call last)",
      "Cell \u001b[1;32mIn[3], line 1\u001b[0m\n\u001b[1;32m----> 1\u001b[0m \u001b[38;5;28meval\u001b[39m(\u001b[38;5;28minput\u001b[39m())\n",
      "File \u001b[1;32m<string>:1\u001b[0m\n",
      "\u001b[1;31mNameError\u001b[0m: name 'Python' is not defined"
     ]
    }
   ],
   "source": [
    "eval(input())"
   ]
  },
  {
   "cell_type": "code",
   "execution_count": 23,
   "id": "9854c173-0a6c-4104-973e-380c5e67c33e",
   "metadata": {},
   "outputs": [
    {
     "name": "stdin",
     "output_type": "stream",
     "text": [
      "Enter the number1: 100.45\n",
      "Enter the number2: 200\n"
     ]
    },
    {
     "name": "stdout",
     "output_type": "stream",
     "text": [
      "The addition of 100.45 and 200 is 300.45\n"
     ]
    }
   ],
   "source": [
    "num1=eval(input(\"Enter the number1:\"))  #num1=int('100')=100\n",
    "num2=eval(input(\"Enter the number2:\"))  #num2=int('200') =200\n",
    "add=num1+num2  #100+200=300\n",
    "print(f\"The addition of {num1} and {num2} is {add}\")"
   ]
  },
  {
   "cell_type": "code",
   "execution_count": null,
   "id": "d7c5765a-0cd8-45b0-a9e3-33134edbeefc",
   "metadata": {},
   "outputs": [],
   "source": [
    "# write a program ask the user to enter the 3 numbers and calculate the average\n",
    "# wap ask the user enter the 2 numbers find the subtraction,addition,multiplication and division\n",
    "# wap ask the user enter the radius values and find the area of the circle\n",
    "# wap ask the user bill amount\n",
    "#     ask the user how much tip you want pay in percentage\n",
    "# calculate totalbill\n",
    "\n",
    "\n",
    "# wap ask the user bill amount in dollars\n",
    "#     ask the user one dollar\n",
    "#       print the bill amount in rupees\n",
    "\n",
    "\n",
    "# wap ask the user enter the base height calculate area of the triangle\n",
    "#wap ask the user enter the length and breadth calculate area of the rectangle"
   ]
  },
  {
   "cell_type": "code",
   "execution_count": 25,
   "id": "166b1e5c-2d0c-4c7c-ad87-bf658bd9c2a6",
   "metadata": {},
   "outputs": [
    {
     "name": "stdin",
     "output_type": "stream",
     "text": [
      "Enter num1:  100\n",
      "Enter num2:  200\n",
      "Enter num3:  300\n"
     ]
    },
    {
     "name": "stdout",
     "output_type": "stream",
     "text": [
      "The average of 100,200,300 is: 200.0\n"
     ]
    }
   ],
   "source": [
    "# write a program ask the user to enter the 3 numbers and calculate the average\n",
    "num1=eval(input(\"Enter num1: \"))\n",
    "num2=eval(input(\"Enter num2: \"))\n",
    "num3=eval(input(\"Enter num3: \"))\n",
    "avg=(num1+num2+num3)/3\n",
    "print(f\"The average of {num1},{num2},{num3} is: {avg}\")\n",
    "          \n",
    "        "
   ]
  },
  {
   "cell_type": "code",
   "execution_count": 26,
   "id": "9674bac0-384a-458b-bd8d-925d616e456e",
   "metadata": {},
   "outputs": [
    {
     "name": "stdin",
     "output_type": "stream",
     "text": [
      "Enter num1 : 100\n",
      "Enter num2 : 10\n"
     ]
    },
    {
     "name": "stdout",
     "output_type": "stream",
     "text": [
      "Addition of 100, 10 is 110\n",
      "Subtraction of 100, 10 is 90\n",
      "Multiplication of 100, 10 is 1000\n",
      "Division of 100, 10 is 10.0\n"
     ]
    }
   ],
   "source": [
    "# wap ask the user enter the 2 numbers find the subtraction,addition,multiplication and division\n",
    "num1=eval(input(\"Enter num1 :\"))\n",
    "num2=eval(input(\"Enter num2 :\"))\n",
    "add=num1+num2\n",
    "sub=num1-num2\n",
    "mul=num1*num2\n",
    "div=num1/num2\n",
    "print(f\"Addition of {num1}, {num2} is {add}\")\n",
    "print(f\"Subtraction of {num1}, {num2} is {sub}\")\n",
    "print(f\"Multiplication of {num1}, {num2} is {mul}\")\n",
    "print(f\"Division of {num1}, {num2} is {div}\")"
   ]
  },
  {
   "cell_type": "code",
   "execution_count": 30,
   "id": "6b381998-4ac8-49fa-ad3d-2e807debf59e",
   "metadata": {},
   "outputs": [
    {
     "name": "stdin",
     "output_type": "stream",
     "text": [
      "Enter the radius: 10\n",
      "Enter the pi value: 3.14\n"
     ]
    },
    {
     "name": "stdout",
     "output_type": "stream",
     "text": [
      "The area of the ciircle is :314.0\n"
     ]
    }
   ],
   "source": [
    "radius=eval(input(\"Enter the radius:\"))\n",
    "pi_value=eval(input(\"Enter the pi value:\"))\n",
    "area=pi_value*radius*radius\n",
    "print(f\"The area of the ciircle is :{area}\")"
   ]
  },
  {
   "cell_type": "code",
   "execution_count": 32,
   "id": "5a3c1e80-d439-4765-a60e-77f89f77b837",
   "metadata": {},
   "outputs": [
    {
     "name": "stdin",
     "output_type": "stream",
     "text": [
      "Enter bill amount 1000\n",
      "Tip percentage that you want to pay : 10\n"
     ]
    },
    {
     "name": "stdout",
     "output_type": "stream",
     "text": [
      "The total bill is 1100.0\n"
     ]
    }
   ],
   "source": [
    "# wap ask the user bill amount\n",
    "#     ask the user how much tip you want pay in percentage\n",
    "# calculate totalbill\n",
    "\n",
    "bill_amt=eval(input(\"Enter bill amount\"))\n",
    "tip_percentage=eval(input(\"Tip percentage that you want to pay :\"))\n",
    "tip_amt=bill_amt*tip_percentage/100\n",
    "total_amt=bill_amt+tip_amt\n",
    "print(f\"The total bill is {total_amt}\")\n",
    "            "
   ]
  },
  {
   "cell_type": "code",
   "execution_count": 33,
   "id": "699ef19d-6470-4fd9-b025-8793aa852db7",
   "metadata": {},
   "outputs": [
    {
     "name": "stdin",
     "output_type": "stream",
     "text": [
      "Enter the bill amount in dollars 100\n",
      "Enter one dollar value: 80\n"
     ]
    },
    {
     "name": "stdout",
     "output_type": "stream",
     "text": [
      "Bill amoount in rupees is :8000\n"
     ]
    }
   ],
   "source": [
    "# wap ask the user bill amount in dollars\n",
    "#     ask the user one dollar\n",
    "#       print the bill amount in rupees\n",
    "\n",
    "bill_in_dollars=eval(input(\"Enter the bill amount in dollars\"))\n",
    "one_dollar=eval(input(\"Enter one dollar value:\"))\n",
    "bill_amt=bill_in_dollars*one_dollar\n",
    "print(f\"Bill amoount in rupees is :{bill_amt}\")"
   ]
  },
  {
   "cell_type": "code",
   "execution_count": 34,
   "id": "026b9224-ef2b-4368-9a74-d781aec02dcd",
   "metadata": {},
   "outputs": [
    {
     "name": "stdin",
     "output_type": "stream",
     "text": [
      "Enter the base value: 10\n",
      "Enter the height 6\n"
     ]
    },
    {
     "name": "stdout",
     "output_type": "stream",
     "text": [
      "The area of triangle is: 30.0\n"
     ]
    }
   ],
   "source": [
    "# wap ask the user enter the base height calculate area of the triangle\n",
    "base=eval(input(\"Enter the base value:\"))\n",
    "height=eval(input(\"Enter the height\"))\n",
    "area=0.5*base*height\n",
    "print(f\"The area of triangle is: {area}\")\n"
   ]
  },
  {
   "cell_type": "code",
   "execution_count": 35,
   "id": "f6e13231-7a20-4022-8440-c40b2ace1740",
   "metadata": {},
   "outputs": [
    {
     "name": "stdin",
     "output_type": "stream",
     "text": [
      "Enter the length of the rectangle: 2\n",
      "Enter the breadth of rectangle: 9\n"
     ]
    },
    {
     "name": "stdout",
     "output_type": "stream",
     "text": [
      "Area of rectangle is :18\n"
     ]
    }
   ],
   "source": [
    "#wap ask the user enter the length and breadth calculate area of the rectangle\n",
    "l=eval(input(\"Enter the length of the rectangle:\"))\n",
    "b=eval(input(\"Enter the breadth of rectangle:\"))\n",
    "area=l*b\n",
    "print(f\"Area of rectangle is :{area}\")\n"
   ]
  },
  {
   "cell_type": "code",
   "execution_count": null,
   "id": "beacdca1-fb61-4862-a212-a790ec6f651f",
   "metadata": {},
   "outputs": [],
   "source": []
  }
 ],
 "metadata": {
  "kernelspec": {
   "display_name": "Python 3 (ipykernel)",
   "language": "python",
   "name": "python3"
  },
  "language_info": {
   "codemirror_mode": {
    "name": "ipython",
    "version": 3
   },
   "file_extension": ".py",
   "mimetype": "text/x-python",
   "name": "python",
   "nbconvert_exporter": "python",
   "pygments_lexer": "ipython3",
   "version": "3.11.7"
  }
 },
 "nbformat": 4,
 "nbformat_minor": 5
}
